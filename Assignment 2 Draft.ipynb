{
 "cells": [
  {
   "cell_type": "markdown",
   "id": "fb7fccc0",
   "metadata": {},
   "source": [
    "# Assignment 2"
   ]
  },
  {
   "cell_type": "markdown",
   "id": "ecc6e360",
   "metadata": {},
   "source": [
    "Part 1 "
   ]
  },
  {
   "cell_type": "code",
   "execution_count": 2,
   "id": "81304a55",
   "metadata": {},
   "outputs": [],
   "source": [
    "import pandas as pd #importing the library pandas to be able to analyze the data\n",
    "df=pd.read_csv('results.csv') #importing the data into python"
   ]
  },
  {
   "cell_type": "code",
   "execution_count": 3,
   "id": "9ea5929c",
   "metadata": {},
   "outputs": [
    {
     "data": {
      "text/html": [
       "<div>\n",
       "<style scoped>\n",
       "    .dataframe tbody tr th:only-of-type {\n",
       "        vertical-align: middle;\n",
       "    }\n",
       "\n",
       "    .dataframe tbody tr th {\n",
       "        vertical-align: top;\n",
       "    }\n",
       "\n",
       "    .dataframe thead th {\n",
       "        text-align: right;\n",
       "    }\n",
       "</style>\n",
       "<table border=\"1\" class=\"dataframe\">\n",
       "  <thead>\n",
       "    <tr style=\"text-align: right;\">\n",
       "      <th></th>\n",
       "      <th>date</th>\n",
       "      <th>home_team</th>\n",
       "      <th>away_team</th>\n",
       "      <th>home_score</th>\n",
       "      <th>away_score</th>\n",
       "      <th>tournament</th>\n",
       "      <th>city</th>\n",
       "      <th>country</th>\n",
       "      <th>neutral</th>\n",
       "    </tr>\n",
       "  </thead>\n",
       "  <tbody>\n",
       "    <tr>\n",
       "      <th>0</th>\n",
       "      <td>1872-11-30</td>\n",
       "      <td>Scotland</td>\n",
       "      <td>England</td>\n",
       "      <td>0</td>\n",
       "      <td>0</td>\n",
       "      <td>Friendly</td>\n",
       "      <td>Glasgow</td>\n",
       "      <td>Scotland</td>\n",
       "      <td>False</td>\n",
       "    </tr>\n",
       "    <tr>\n",
       "      <th>1</th>\n",
       "      <td>1873-03-08</td>\n",
       "      <td>England</td>\n",
       "      <td>Scotland</td>\n",
       "      <td>4</td>\n",
       "      <td>2</td>\n",
       "      <td>Friendly</td>\n",
       "      <td>London</td>\n",
       "      <td>England</td>\n",
       "      <td>False</td>\n",
       "    </tr>\n",
       "    <tr>\n",
       "      <th>2</th>\n",
       "      <td>1874-03-07</td>\n",
       "      <td>Scotland</td>\n",
       "      <td>England</td>\n",
       "      <td>2</td>\n",
       "      <td>1</td>\n",
       "      <td>Friendly</td>\n",
       "      <td>Glasgow</td>\n",
       "      <td>Scotland</td>\n",
       "      <td>False</td>\n",
       "    </tr>\n",
       "    <tr>\n",
       "      <th>3</th>\n",
       "      <td>1875-03-06</td>\n",
       "      <td>England</td>\n",
       "      <td>Scotland</td>\n",
       "      <td>2</td>\n",
       "      <td>2</td>\n",
       "      <td>Friendly</td>\n",
       "      <td>London</td>\n",
       "      <td>England</td>\n",
       "      <td>False</td>\n",
       "    </tr>\n",
       "    <tr>\n",
       "      <th>4</th>\n",
       "      <td>1876-03-04</td>\n",
       "      <td>Scotland</td>\n",
       "      <td>England</td>\n",
       "      <td>3</td>\n",
       "      <td>0</td>\n",
       "      <td>Friendly</td>\n",
       "      <td>Glasgow</td>\n",
       "      <td>Scotland</td>\n",
       "      <td>False</td>\n",
       "    </tr>\n",
       "  </tbody>\n",
       "</table>\n",
       "</div>"
      ],
      "text/plain": [
       "         date home_team away_team  home_score  away_score tournament     city  \\\n",
       "0  1872-11-30  Scotland   England           0           0   Friendly  Glasgow   \n",
       "1  1873-03-08   England  Scotland           4           2   Friendly   London   \n",
       "2  1874-03-07  Scotland   England           2           1   Friendly  Glasgow   \n",
       "3  1875-03-06   England  Scotland           2           2   Friendly   London   \n",
       "4  1876-03-04  Scotland   England           3           0   Friendly  Glasgow   \n",
       "\n",
       "    country  neutral  \n",
       "0  Scotland    False  \n",
       "1   England    False  \n",
       "2  Scotland    False  \n",
       "3   England    False  \n",
       "4  Scotland    False  "
      ]
     },
     "execution_count": 3,
     "metadata": {},
     "output_type": "execute_result"
    }
   ],
   "source": [
    "df.head() #viewing the first 5 rows of the data"
   ]
  },
  {
   "cell_type": "code",
   "execution_count": 4,
   "id": "ef272fd2",
   "metadata": {},
   "outputs": [],
   "source": [
    "x=df['home_score']-df['away_score'] #the variable x is the diffrence between the home score and away score"
   ]
  },
  {
   "cell_type": "code",
   "execution_count": 5,
   "id": "aba695d9",
   "metadata": {},
   "outputs": [
    {
     "data": {
      "text/plain": [
       "0    0\n",
       "1    2\n",
       "2    1\n",
       "3    0\n",
       "4    3\n",
       "dtype: int64"
      ]
     },
     "execution_count": 5,
     "metadata": {},
     "output_type": "execute_result"
    }
   ],
   "source": [
    "x[0:5] "
   ]
  },
  {
   "cell_type": "code",
   "execution_count": 6,
   "id": "9be8f1ba",
   "metadata": {},
   "outputs": [],
   "source": [
    "import numpy as np\n",
    "conditions=[(x<0),(x>0),(x==0)]\n",
    "values=['lose','win','draw']"
   ]
  },
  {
   "cell_type": "code",
   "execution_count": 7,
   "id": "1f261c55",
   "metadata": {},
   "outputs": [],
   "source": [
    "df['results_home']=np.select(conditions,values)"
   ]
  },
  {
   "cell_type": "code",
   "execution_count": 8,
   "id": "e475e916",
   "metadata": {},
   "outputs": [
    {
     "data": {
      "text/html": [
       "<div>\n",
       "<style scoped>\n",
       "    .dataframe tbody tr th:only-of-type {\n",
       "        vertical-align: middle;\n",
       "    }\n",
       "\n",
       "    .dataframe tbody tr th {\n",
       "        vertical-align: top;\n",
       "    }\n",
       "\n",
       "    .dataframe thead th {\n",
       "        text-align: right;\n",
       "    }\n",
       "</style>\n",
       "<table border=\"1\" class=\"dataframe\">\n",
       "  <thead>\n",
       "    <tr style=\"text-align: right;\">\n",
       "      <th></th>\n",
       "      <th>date</th>\n",
       "      <th>home_team</th>\n",
       "      <th>away_team</th>\n",
       "      <th>home_score</th>\n",
       "      <th>away_score</th>\n",
       "      <th>tournament</th>\n",
       "      <th>city</th>\n",
       "      <th>country</th>\n",
       "      <th>neutral</th>\n",
       "      <th>results_home</th>\n",
       "    </tr>\n",
       "  </thead>\n",
       "  <tbody>\n",
       "    <tr>\n",
       "      <th>0</th>\n",
       "      <td>1872-11-30</td>\n",
       "      <td>Scotland</td>\n",
       "      <td>England</td>\n",
       "      <td>0</td>\n",
       "      <td>0</td>\n",
       "      <td>Friendly</td>\n",
       "      <td>Glasgow</td>\n",
       "      <td>Scotland</td>\n",
       "      <td>False</td>\n",
       "      <td>draw</td>\n",
       "    </tr>\n",
       "    <tr>\n",
       "      <th>1</th>\n",
       "      <td>1873-03-08</td>\n",
       "      <td>England</td>\n",
       "      <td>Scotland</td>\n",
       "      <td>4</td>\n",
       "      <td>2</td>\n",
       "      <td>Friendly</td>\n",
       "      <td>London</td>\n",
       "      <td>England</td>\n",
       "      <td>False</td>\n",
       "      <td>win</td>\n",
       "    </tr>\n",
       "    <tr>\n",
       "      <th>2</th>\n",
       "      <td>1874-03-07</td>\n",
       "      <td>Scotland</td>\n",
       "      <td>England</td>\n",
       "      <td>2</td>\n",
       "      <td>1</td>\n",
       "      <td>Friendly</td>\n",
       "      <td>Glasgow</td>\n",
       "      <td>Scotland</td>\n",
       "      <td>False</td>\n",
       "      <td>win</td>\n",
       "    </tr>\n",
       "    <tr>\n",
       "      <th>3</th>\n",
       "      <td>1875-03-06</td>\n",
       "      <td>England</td>\n",
       "      <td>Scotland</td>\n",
       "      <td>2</td>\n",
       "      <td>2</td>\n",
       "      <td>Friendly</td>\n",
       "      <td>London</td>\n",
       "      <td>England</td>\n",
       "      <td>False</td>\n",
       "      <td>draw</td>\n",
       "    </tr>\n",
       "    <tr>\n",
       "      <th>4</th>\n",
       "      <td>1876-03-04</td>\n",
       "      <td>Scotland</td>\n",
       "      <td>England</td>\n",
       "      <td>3</td>\n",
       "      <td>0</td>\n",
       "      <td>Friendly</td>\n",
       "      <td>Glasgow</td>\n",
       "      <td>Scotland</td>\n",
       "      <td>False</td>\n",
       "      <td>win</td>\n",
       "    </tr>\n",
       "  </tbody>\n",
       "</table>\n",
       "</div>"
      ],
      "text/plain": [
       "         date home_team away_team  home_score  away_score tournament     city  \\\n",
       "0  1872-11-30  Scotland   England           0           0   Friendly  Glasgow   \n",
       "1  1873-03-08   England  Scotland           4           2   Friendly   London   \n",
       "2  1874-03-07  Scotland   England           2           1   Friendly  Glasgow   \n",
       "3  1875-03-06   England  Scotland           2           2   Friendly   London   \n",
       "4  1876-03-04  Scotland   England           3           0   Friendly  Glasgow   \n",
       "\n",
       "    country  neutral results_home  \n",
       "0  Scotland    False         draw  \n",
       "1   England    False          win  \n",
       "2  Scotland    False          win  \n",
       "3   England    False         draw  \n",
       "4  Scotland    False          win  "
      ]
     },
     "execution_count": 8,
     "metadata": {},
     "output_type": "execute_result"
    }
   ],
   "source": [
    "df.head()"
   ]
  },
  {
   "cell_type": "code",
   "execution_count": 9,
   "id": "5f04263e",
   "metadata": {},
   "outputs": [
    {
     "data": {
      "text/plain": [
       "win     21009\n",
       "lose    12224\n",
       "draw     9955\n",
       "Name: results_home, dtype: int64"
      ]
     },
     "execution_count": 9,
     "metadata": {},
     "output_type": "execute_result"
    }
   ],
   "source": [
    "df['results_home'].value_counts()"
   ]
  },
  {
   "cell_type": "code",
   "execution_count": 10,
   "id": "f7d684ad",
   "metadata": {},
   "outputs": [
    {
     "data": {
      "text/plain": [
       "win     0.486455\n",
       "lose    0.283042\n",
       "draw    0.230504\n",
       "Name: results_home, dtype: float64"
      ]
     },
     "execution_count": 10,
     "metadata": {},
     "output_type": "execute_result"
    }
   ],
   "source": [
    "df['results_home'].value_counts(normalize=True)"
   ]
  },
  {
   "cell_type": "code",
   "execution_count": 11,
   "id": "890573f5",
   "metadata": {},
   "outputs": [],
   "source": [
    "x=df['results_home'].value_counts()"
   ]
  },
  {
   "cell_type": "code",
   "execution_count": 12,
   "id": "41f6bb7d",
   "metadata": {},
   "outputs": [
    {
     "data": {
      "text/plain": [
       "array([21009, 12224,  9955], dtype=int64)"
      ]
     },
     "execution_count": 12,
     "metadata": {},
     "output_type": "execute_result"
    }
   ],
   "source": [
    "x=np.array(x)\n",
    "x"
   ]
  },
  {
   "cell_type": "code",
   "execution_count": 13,
   "id": "9fc15360",
   "metadata": {},
   "outputs": [
    {
     "data": {
      "text/plain": [
       "43188"
      ]
     },
     "execution_count": 13,
     "metadata": {},
     "output_type": "execute_result"
    }
   ],
   "source": [
    "x.sum()"
   ]
  },
  {
   "cell_type": "code",
   "execution_count": 14,
   "id": "5722e127",
   "metadata": {},
   "outputs": [
    {
     "data": {
      "text/plain": [
       "(32481, 10)"
      ]
     },
     "execution_count": 14,
     "metadata": {},
     "output_type": "execute_result"
    }
   ],
   "source": [
    "df_noneutral=df[df['neutral']==False]\n",
    "df_noneutral.shape\n"
   ]
  },
  {
   "cell_type": "code",
   "execution_count": 15,
   "id": "4c441834",
   "metadata": {},
   "outputs": [
    {
     "data": {
      "text/html": [
       "<div>\n",
       "<style scoped>\n",
       "    .dataframe tbody tr th:only-of-type {\n",
       "        vertical-align: middle;\n",
       "    }\n",
       "\n",
       "    .dataframe tbody tr th {\n",
       "        vertical-align: top;\n",
       "    }\n",
       "\n",
       "    .dataframe thead th {\n",
       "        text-align: right;\n",
       "    }\n",
       "</style>\n",
       "<table border=\"1\" class=\"dataframe\">\n",
       "  <thead>\n",
       "    <tr style=\"text-align: right;\">\n",
       "      <th></th>\n",
       "      <th>date</th>\n",
       "      <th>home_team</th>\n",
       "      <th>away_team</th>\n",
       "      <th>home_score</th>\n",
       "      <th>away_score</th>\n",
       "      <th>tournament</th>\n",
       "      <th>city</th>\n",
       "      <th>country</th>\n",
       "      <th>neutral</th>\n",
       "      <th>results_home</th>\n",
       "    </tr>\n",
       "  </thead>\n",
       "  <tbody>\n",
       "    <tr>\n",
       "      <th>503</th>\n",
       "      <td>5/11/1919</td>\n",
       "      <td>Brazil</td>\n",
       "      <td>Chile</td>\n",
       "      <td>6</td>\n",
       "      <td>0</td>\n",
       "      <td>Copa América</td>\n",
       "      <td>Rio de Janeiro</td>\n",
       "      <td>Brazil</td>\n",
       "      <td>False</td>\n",
       "      <td>win</td>\n",
       "    </tr>\n",
       "    <tr>\n",
       "      <th>508</th>\n",
       "      <td>5/18/1919</td>\n",
       "      <td>Brazil</td>\n",
       "      <td>Argentina</td>\n",
       "      <td>3</td>\n",
       "      <td>1</td>\n",
       "      <td>Copa América</td>\n",
       "      <td>Rio de Janeiro</td>\n",
       "      <td>Brazil</td>\n",
       "      <td>False</td>\n",
       "      <td>win</td>\n",
       "    </tr>\n",
       "    <tr>\n",
       "      <th>512</th>\n",
       "      <td>5/26/1919</td>\n",
       "      <td>Brazil</td>\n",
       "      <td>Uruguay</td>\n",
       "      <td>2</td>\n",
       "      <td>2</td>\n",
       "      <td>Copa América</td>\n",
       "      <td>Rio de Janeiro</td>\n",
       "      <td>Brazil</td>\n",
       "      <td>False</td>\n",
       "      <td>draw</td>\n",
       "    </tr>\n",
       "    <tr>\n",
       "      <th>513</th>\n",
       "      <td>5/29/1919</td>\n",
       "      <td>Brazil</td>\n",
       "      <td>Uruguay</td>\n",
       "      <td>1</td>\n",
       "      <td>0</td>\n",
       "      <td>Copa América</td>\n",
       "      <td>Rio de Janeiro</td>\n",
       "      <td>Brazil</td>\n",
       "      <td>False</td>\n",
       "      <td>win</td>\n",
       "    </tr>\n",
       "    <tr>\n",
       "      <th>515</th>\n",
       "      <td>6/1/1919</td>\n",
       "      <td>Brazil</td>\n",
       "      <td>Argentina</td>\n",
       "      <td>3</td>\n",
       "      <td>3</td>\n",
       "      <td>Friendly</td>\n",
       "      <td>Rio de Janeiro</td>\n",
       "      <td>Brazil</td>\n",
       "      <td>False</td>\n",
       "      <td>draw</td>\n",
       "    </tr>\n",
       "    <tr>\n",
       "      <th>...</th>\n",
       "      <td>...</td>\n",
       "      <td>...</td>\n",
       "      <td>...</td>\n",
       "      <td>...</td>\n",
       "      <td>...</td>\n",
       "      <td>...</td>\n",
       "      <td>...</td>\n",
       "      <td>...</td>\n",
       "      <td>...</td>\n",
       "      <td>...</td>\n",
       "    </tr>\n",
       "    <tr>\n",
       "      <th>42513</th>\n",
       "      <td>7/5/2021</td>\n",
       "      <td>Brazil</td>\n",
       "      <td>Peru</td>\n",
       "      <td>1</td>\n",
       "      <td>0</td>\n",
       "      <td>Copa América</td>\n",
       "      <td>Rio de Janeiro</td>\n",
       "      <td>Brazil</td>\n",
       "      <td>False</td>\n",
       "      <td>win</td>\n",
       "    </tr>\n",
       "    <tr>\n",
       "      <th>42529</th>\n",
       "      <td>7/10/2021</td>\n",
       "      <td>Brazil</td>\n",
       "      <td>Argentina</td>\n",
       "      <td>0</td>\n",
       "      <td>1</td>\n",
       "      <td>Copa América</td>\n",
       "      <td>Rio de Janeiro</td>\n",
       "      <td>Brazil</td>\n",
       "      <td>False</td>\n",
       "      <td>lose</td>\n",
       "    </tr>\n",
       "    <tr>\n",
       "      <th>42756</th>\n",
       "      <td>9/9/2021</td>\n",
       "      <td>Brazil</td>\n",
       "      <td>Peru</td>\n",
       "      <td>2</td>\n",
       "      <td>0</td>\n",
       "      <td>FIFA World Cup qualification</td>\n",
       "      <td>Recife</td>\n",
       "      <td>Brazil</td>\n",
       "      <td>False</td>\n",
       "      <td>win</td>\n",
       "    </tr>\n",
       "    <tr>\n",
       "      <th>42916</th>\n",
       "      <td>10/14/2021</td>\n",
       "      <td>Brazil</td>\n",
       "      <td>Uruguay</td>\n",
       "      <td>4</td>\n",
       "      <td>1</td>\n",
       "      <td>FIFA World Cup qualification</td>\n",
       "      <td>Manaus</td>\n",
       "      <td>Brazil</td>\n",
       "      <td>False</td>\n",
       "      <td>win</td>\n",
       "    </tr>\n",
       "    <tr>\n",
       "      <th>42956</th>\n",
       "      <td>11/11/2021</td>\n",
       "      <td>Brazil</td>\n",
       "      <td>Colombia</td>\n",
       "      <td>1</td>\n",
       "      <td>0</td>\n",
       "      <td>FIFA World Cup qualification</td>\n",
       "      <td>São Paulo</td>\n",
       "      <td>Brazil</td>\n",
       "      <td>False</td>\n",
       "      <td>win</td>\n",
       "    </tr>\n",
       "  </tbody>\n",
       "</table>\n",
       "<p>354 rows × 10 columns</p>\n",
       "</div>"
      ],
      "text/plain": [
       "             date home_team  away_team  home_score  away_score  \\\n",
       "503     5/11/1919    Brazil      Chile           6           0   \n",
       "508     5/18/1919    Brazil  Argentina           3           1   \n",
       "512     5/26/1919    Brazil    Uruguay           2           2   \n",
       "513     5/29/1919    Brazil    Uruguay           1           0   \n",
       "515      6/1/1919    Brazil  Argentina           3           3   \n",
       "...           ...       ...        ...         ...         ...   \n",
       "42513    7/5/2021    Brazil       Peru           1           0   \n",
       "42529   7/10/2021    Brazil  Argentina           0           1   \n",
       "42756    9/9/2021    Brazil       Peru           2           0   \n",
       "42916  10/14/2021    Brazil    Uruguay           4           1   \n",
       "42956  11/11/2021    Brazil   Colombia           1           0   \n",
       "\n",
       "                         tournament            city country  neutral  \\\n",
       "503                    Copa América  Rio de Janeiro  Brazil    False   \n",
       "508                    Copa América  Rio de Janeiro  Brazil    False   \n",
       "512                    Copa América  Rio de Janeiro  Brazil    False   \n",
       "513                    Copa América  Rio de Janeiro  Brazil    False   \n",
       "515                        Friendly  Rio de Janeiro  Brazil    False   \n",
       "...                             ...             ...     ...      ...   \n",
       "42513                  Copa América  Rio de Janeiro  Brazil    False   \n",
       "42529                  Copa América  Rio de Janeiro  Brazil    False   \n",
       "42756  FIFA World Cup qualification          Recife  Brazil    False   \n",
       "42916  FIFA World Cup qualification          Manaus  Brazil    False   \n",
       "42956  FIFA World Cup qualification       São Paulo  Brazil    False   \n",
       "\n",
       "      results_home  \n",
       "503            win  \n",
       "508            win  \n",
       "512           draw  \n",
       "513            win  \n",
       "515           draw  \n",
       "...            ...  \n",
       "42513          win  \n",
       "42529         lose  \n",
       "42756          win  \n",
       "42916          win  \n",
       "42956          win  \n",
       "\n",
       "[354 rows x 10 columns]"
      ]
     },
     "execution_count": 15,
     "metadata": {},
     "output_type": "execute_result"
    }
   ],
   "source": [
    "df_noneutralbraz=df_noneutral[df_noneutral['country']=='Brazil'] #probability that Brazil wins in it land\n",
    "df_noneutralbraz"
   ]
  },
  {
   "cell_type": "code",
   "execution_count": 16,
   "id": "89eb5f03",
   "metadata": {},
   "outputs": [
    {
     "data": {
      "text/html": [
       "<div>\n",
       "<style scoped>\n",
       "    .dataframe tbody tr th:only-of-type {\n",
       "        vertical-align: middle;\n",
       "    }\n",
       "\n",
       "    .dataframe tbody tr th {\n",
       "        vertical-align: top;\n",
       "    }\n",
       "\n",
       "    .dataframe thead th {\n",
       "        text-align: right;\n",
       "    }\n",
       "</style>\n",
       "<table border=\"1\" class=\"dataframe\">\n",
       "  <thead>\n",
       "    <tr style=\"text-align: right;\">\n",
       "      <th></th>\n",
       "      <th>date</th>\n",
       "      <th>home_team</th>\n",
       "      <th>away_team</th>\n",
       "      <th>home_score</th>\n",
       "      <th>away_score</th>\n",
       "      <th>tournament</th>\n",
       "      <th>city</th>\n",
       "      <th>country</th>\n",
       "      <th>neutral</th>\n",
       "      <th>results_home</th>\n",
       "    </tr>\n",
       "  </thead>\n",
       "  <tbody>\n",
       "    <tr>\n",
       "      <th>515</th>\n",
       "      <td>6/1/1919</td>\n",
       "      <td>Brazil</td>\n",
       "      <td>Argentina</td>\n",
       "      <td>3</td>\n",
       "      <td>3</td>\n",
       "      <td>Friendly</td>\n",
       "      <td>Rio de Janeiro</td>\n",
       "      <td>Brazil</td>\n",
       "      <td>False</td>\n",
       "      <td>draw</td>\n",
       "    </tr>\n",
       "    <tr>\n",
       "      <th>681</th>\n",
       "      <td>10/29/1922</td>\n",
       "      <td>Brazil</td>\n",
       "      <td>Paraguay</td>\n",
       "      <td>3</td>\n",
       "      <td>1</td>\n",
       "      <td>Friendly</td>\n",
       "      <td>São Paulo</td>\n",
       "      <td>Brazil</td>\n",
       "      <td>False</td>\n",
       "      <td>win</td>\n",
       "    </tr>\n",
       "    <tr>\n",
       "      <th>1334</th>\n",
       "      <td>8/1/1930</td>\n",
       "      <td>Brazil</td>\n",
       "      <td>France</td>\n",
       "      <td>3</td>\n",
       "      <td>2</td>\n",
       "      <td>Friendly</td>\n",
       "      <td>Rio de Janeiro</td>\n",
       "      <td>Brazil</td>\n",
       "      <td>False</td>\n",
       "      <td>win</td>\n",
       "    </tr>\n",
       "    <tr>\n",
       "      <th>1338</th>\n",
       "      <td>8/10/1930</td>\n",
       "      <td>Brazil</td>\n",
       "      <td>Yugoslavia</td>\n",
       "      <td>4</td>\n",
       "      <td>1</td>\n",
       "      <td>Friendly</td>\n",
       "      <td>Rio de Janeiro</td>\n",
       "      <td>Brazil</td>\n",
       "      <td>False</td>\n",
       "      <td>win</td>\n",
       "    </tr>\n",
       "    <tr>\n",
       "      <th>1341</th>\n",
       "      <td>8/17/1930</td>\n",
       "      <td>Brazil</td>\n",
       "      <td>United States</td>\n",
       "      <td>4</td>\n",
       "      <td>3</td>\n",
       "      <td>Friendly</td>\n",
       "      <td>Rio de Janeiro</td>\n",
       "      <td>Brazil</td>\n",
       "      <td>False</td>\n",
       "      <td>win</td>\n",
       "    </tr>\n",
       "    <tr>\n",
       "      <th>...</th>\n",
       "      <td>...</td>\n",
       "      <td>...</td>\n",
       "      <td>...</td>\n",
       "      <td>...</td>\n",
       "      <td>...</td>\n",
       "      <td>...</td>\n",
       "      <td>...</td>\n",
       "      <td>...</td>\n",
       "      <td>...</td>\n",
       "      <td>...</td>\n",
       "    </tr>\n",
       "    <tr>\n",
       "      <th>37054</th>\n",
       "      <td>6/7/2015</td>\n",
       "      <td>Brazil</td>\n",
       "      <td>Mexico</td>\n",
       "      <td>2</td>\n",
       "      <td>0</td>\n",
       "      <td>Friendly</td>\n",
       "      <td>São Paulo</td>\n",
       "      <td>Brazil</td>\n",
       "      <td>False</td>\n",
       "      <td>win</td>\n",
       "    </tr>\n",
       "    <tr>\n",
       "      <th>37074</th>\n",
       "      <td>6/10/2015</td>\n",
       "      <td>Brazil</td>\n",
       "      <td>Honduras</td>\n",
       "      <td>1</td>\n",
       "      <td>0</td>\n",
       "      <td>Friendly</td>\n",
       "      <td>Porto Alegre</td>\n",
       "      <td>Brazil</td>\n",
       "      <td>False</td>\n",
       "      <td>win</td>\n",
       "    </tr>\n",
       "    <tr>\n",
       "      <th>38756</th>\n",
       "      <td>1/26/2017</td>\n",
       "      <td>Brazil</td>\n",
       "      <td>Colombia</td>\n",
       "      <td>1</td>\n",
       "      <td>0</td>\n",
       "      <td>Friendly</td>\n",
       "      <td>Rio de Janeiro</td>\n",
       "      <td>Brazil</td>\n",
       "      <td>False</td>\n",
       "      <td>win</td>\n",
       "    </tr>\n",
       "    <tr>\n",
       "      <th>40804</th>\n",
       "      <td>6/5/2019</td>\n",
       "      <td>Brazil</td>\n",
       "      <td>Qatar</td>\n",
       "      <td>2</td>\n",
       "      <td>0</td>\n",
       "      <td>Friendly</td>\n",
       "      <td>Brasília</td>\n",
       "      <td>Brazil</td>\n",
       "      <td>False</td>\n",
       "      <td>win</td>\n",
       "    </tr>\n",
       "    <tr>\n",
       "      <th>40870</th>\n",
       "      <td>6/9/2019</td>\n",
       "      <td>Brazil</td>\n",
       "      <td>Honduras</td>\n",
       "      <td>7</td>\n",
       "      <td>0</td>\n",
       "      <td>Friendly</td>\n",
       "      <td>Porto Alegre</td>\n",
       "      <td>Brazil</td>\n",
       "      <td>False</td>\n",
       "      <td>win</td>\n",
       "    </tr>\n",
       "  </tbody>\n",
       "</table>\n",
       "<p>187 rows × 10 columns</p>\n",
       "</div>"
      ],
      "text/plain": [
       "             date home_team      away_team  home_score  away_score tournament  \\\n",
       "515      6/1/1919    Brazil      Argentina           3           3   Friendly   \n",
       "681    10/29/1922    Brazil       Paraguay           3           1   Friendly   \n",
       "1334     8/1/1930    Brazil         France           3           2   Friendly   \n",
       "1338    8/10/1930    Brazil     Yugoslavia           4           1   Friendly   \n",
       "1341    8/17/1930    Brazil  United States           4           3   Friendly   \n",
       "...           ...       ...            ...         ...         ...        ...   \n",
       "37054    6/7/2015    Brazil         Mexico           2           0   Friendly   \n",
       "37074   6/10/2015    Brazil       Honduras           1           0   Friendly   \n",
       "38756   1/26/2017    Brazil       Colombia           1           0   Friendly   \n",
       "40804    6/5/2019    Brazil          Qatar           2           0   Friendly   \n",
       "40870    6/9/2019    Brazil       Honduras           7           0   Friendly   \n",
       "\n",
       "                 city country  neutral results_home  \n",
       "515    Rio de Janeiro  Brazil    False         draw  \n",
       "681         São Paulo  Brazil    False          win  \n",
       "1334   Rio de Janeiro  Brazil    False          win  \n",
       "1338   Rio de Janeiro  Brazil    False          win  \n",
       "1341   Rio de Janeiro  Brazil    False          win  \n",
       "...               ...     ...      ...          ...  \n",
       "37054       São Paulo  Brazil    False          win  \n",
       "37074    Porto Alegre  Brazil    False          win  \n",
       "38756  Rio de Janeiro  Brazil    False          win  \n",
       "40804        Brasília  Brazil    False          win  \n",
       "40870    Porto Alegre  Brazil    False          win  \n",
       "\n",
       "[187 rows x 10 columns]"
      ]
     },
     "execution_count": 16,
     "metadata": {},
     "output_type": "execute_result"
    }
   ],
   "source": [
    "df_noneutralbrazFriendly=df_noneutralbraz[df_noneutralbraz['tournament']=='Friendly']\n",
    "df_noneutralbrazFriendly #probability of Brazil Winning in their land in friendly tournament"
   ]
  },
  {
   "cell_type": "code",
   "execution_count": 17,
   "id": "0afeab33",
   "metadata": {},
   "outputs": [
    {
     "data": {
      "text/plain": [
       "win     0.754011\n",
       "draw    0.192513\n",
       "lose    0.053476\n",
       "Name: results_home, dtype: float64"
      ]
     },
     "execution_count": 17,
     "metadata": {},
     "output_type": "execute_result"
    }
   ],
   "source": [
    "x=df_noneutralbrazFriendly['results_home'].value_counts(normalize=True)\n",
    "x"
   ]
  },
  {
   "cell_type": "code",
   "execution_count": 18,
   "id": "c4f3fce8",
   "metadata": {},
   "outputs": [
    {
     "data": {
      "text/plain": [
       "array([141,  36,  10], dtype=int64)"
      ]
     },
     "execution_count": 18,
     "metadata": {},
     "output_type": "execute_result"
    }
   ],
   "source": [
    "import statsmodels.api as sm\n",
    "from statsmodels.stats.proportion import proportion_confint\n",
    "x=df_noneutralbrazFriendly['results_home'].value_counts()\n",
    "x=np.array(x)\n",
    "x\n"
   ]
  },
  {
   "cell_type": "code",
   "execution_count": 20,
   "id": "27d58202",
   "metadata": {},
   "outputs": [
    {
     "data": {
      "text/plain": [
       "(0.6922838397217296, 0.815737550652602)"
      ]
     },
     "execution_count": 20,
     "metadata": {},
     "output_type": "execute_result"
    }
   ],
   "source": [
    "N=x.sum()\n",
    "CI_braz=proportion_confint(count=x[0], nobs=N, alpha=(1-.95))\n",
    "CI_braz\n"
   ]
  },
  {
   "cell_type": "markdown",
   "id": "338eb0b2",
   "metadata": {},
   "source": [
    "### This means there is a 95% probability that Brazil winning in a friendly tournament will fall between the upper and lower bound of this interval."
   ]
  },
  {
   "cell_type": "code",
   "execution_count": 21,
   "id": "69bd9f96",
   "metadata": {},
   "outputs": [],
   "source": [
    "df_noneutralgre=df_noneutral[df_noneutral['country']=='Greece']"
   ]
  },
  {
   "cell_type": "code",
   "execution_count": 25,
   "id": "ee2d3d06",
   "metadata": {},
   "outputs": [],
   "source": [
    "df_noneutralgreFriendly=df_noneutralgre[df_noneutralgre['tournament']=='Friendly']"
   ]
  },
  {
   "cell_type": "code",
   "execution_count": 26,
   "id": "cf067717",
   "metadata": {},
   "outputs": [
    {
     "data": {
      "text/plain": [
       "(126, 10)"
      ]
     },
     "execution_count": 26,
     "metadata": {},
     "output_type": "execute_result"
    }
   ],
   "source": [
    "df_noneutralgreFriendly.shape\n"
   ]
  },
  {
   "cell_type": "code",
   "execution_count": 28,
   "id": "78cc524f",
   "metadata": {},
   "outputs": [
    {
     "data": {
      "text/plain": [
       "(0.3114005769651982, 0.4822502166855954)"
      ]
     },
     "execution_count": 28,
     "metadata": {},
     "output_type": "execute_result"
    }
   ],
   "source": [
    "df_noneutralgreFriendly['results_home'].value_counts(normalize=True)\n",
    "x=df_noneutralgreFriendly['results_home'].value_counts()\n",
    "x=np.array(x)\n",
    "N=x.sum()\n",
    "CI_greece=proportion_confint(count=x[0], nobs=N, alpha=(1-.95))\n",
    "CI_greece\n"
   ]
  },
  {
   "cell_type": "markdown",
   "id": "06fcf8b6",
   "metadata": {},
   "source": [
    "### There is a 95% probability of Greece winning in a friendly tournament will fall between the upper and lower bound of this interval."
   ]
  },
  {
   "cell_type": "code",
   "execution_count": 32,
   "id": "2966ca15",
   "metadata": {},
   "outputs": [
    {
     "data": {
      "text/plain": [
       "win     0.551724\n",
       "lose    0.241379\n",
       "draw    0.206897\n",
       "Name: results_home, dtype: float64"
      ]
     },
     "execution_count": 32,
     "metadata": {},
     "output_type": "execute_result"
    }
   ],
   "source": [
    "df_noneutralegy=df_noneutral[df_noneutral['country']=='Egypt']\n",
    "df_noneutralegyFriendly=df_noneutralegy[df_noneutralegy['tournament']=='Friendly']\n",
    "df_noneutralegyFriendly['results_home'].value_counts(normalize=True)\n"
   ]
  },
  {
   "cell_type": "code",
   "execution_count": 33,
   "id": "77c8463a",
   "metadata": {},
   "outputs": [
    {
     "data": {
      "text/plain": [
       "(0.47077769679111225, 0.6326705790709567)"
      ]
     },
     "execution_count": 33,
     "metadata": {},
     "output_type": "execute_result"
    }
   ],
   "source": [
    "x=df_noneutralegyFriendly['results_home'].value_counts()\n",
    "x=np.array(x)\n",
    "N=x.sum()\n",
    "CI_egy=proportion_confint(count=x[0], nobs=N, alpha=(1-.95))\n",
    "CI_egy\n"
   ]
  },
  {
   "cell_type": "code",
   "execution_count": 35,
   "id": "7da916d5",
   "metadata": {},
   "outputs": [
    {
     "data": {
      "text/html": [
       "<div>\n",
       "<style scoped>\n",
       "    .dataframe tbody tr th:only-of-type {\n",
       "        vertical-align: middle;\n",
       "    }\n",
       "\n",
       "    .dataframe tbody tr th {\n",
       "        vertical-align: top;\n",
       "    }\n",
       "\n",
       "    .dataframe thead th {\n",
       "        text-align: right;\n",
       "    }\n",
       "</style>\n",
       "<table border=\"1\" class=\"dataframe\">\n",
       "  <thead>\n",
       "    <tr style=\"text-align: right;\">\n",
       "      <th></th>\n",
       "      <th>country</th>\n",
       "      <th>lb</th>\n",
       "      <th>ub</th>\n",
       "    </tr>\n",
       "  </thead>\n",
       "  <tbody>\n",
       "    <tr>\n",
       "      <th>0</th>\n",
       "      <td>Brazil</td>\n",
       "      <td>0.692284</td>\n",
       "      <td>0.815738</td>\n",
       "    </tr>\n",
       "    <tr>\n",
       "      <th>1</th>\n",
       "      <td>Greece</td>\n",
       "      <td>0.311401</td>\n",
       "      <td>0.482250</td>\n",
       "    </tr>\n",
       "    <tr>\n",
       "      <th>2</th>\n",
       "      <td>Egypt</td>\n",
       "      <td>0.470778</td>\n",
       "      <td>0.632671</td>\n",
       "    </tr>\n",
       "  </tbody>\n",
       "</table>\n",
       "</div>"
      ],
      "text/plain": [
       "  country        lb        ub\n",
       "0  Brazil  0.692284  0.815738\n",
       "1  Greece  0.311401  0.482250\n",
       "2   Egypt  0.470778  0.632671"
      ]
     },
     "execution_count": 35,
     "metadata": {},
     "output_type": "execute_result"
    }
   ],
   "source": [
    "ci_friendly = {}\n",
    "ci_friendly['country'] = ['Brazil','Greece','Egypt']\n",
    "ci_friendly['lb'] = [CI_braz[0],CI_greece[0],CI_egy[0]]\n",
    "ci_friendly['ub'] = [CI_braz[1],CI_greece[1],CI_egy[1]]\n",
    "df_ci= pd.DataFrame(ci_friendly)\n",
    "df_ci\n"
   ]
  },
  {
   "cell_type": "code",
   "execution_count": 45,
   "id": "b2eb9a2a",
   "metadata": {},
   "outputs": [],
   "source": [
    "from scipy.stats import norm,t\n",
    "import statsmodels.api as sm\n",
    "from statsmodels.stats.proportion import proportion_confint\n",
    "import matplotlib.pyplot as plt\n",
    "from pandas.api.types import CategoricalDtype\n"
   ]
  },
  {
   "cell_type": "code",
   "execution_count": 38,
   "id": "86e579b2",
   "metadata": {},
   "outputs": [
    {
     "data": {
      "text/plain": [
       "([<matplotlib.axis.YTick at 0x19642985340>,\n",
       "  <matplotlib.axis.YTick at 0x19642971b80>,\n",
       "  <matplotlib.axis.YTick at 0x19642962a30>],\n",
       " [Text(0, 0, 'Brazil'), Text(0, 1, 'Greece'), Text(0, 2, 'Egypt')])"
      ]
     },
     "execution_count": 38,
     "metadata": {},
     "output_type": "execute_result"
    },
    {
     "data": {
      "image/png": "[encoded data removed]",
      "text/plain": [
       "<Figure size 432x288 with 1 Axes>"
      ]
     },
     "metadata": {
      "needs_background": "light"
     },
     "output_type": "display_data"
    }
   ],
   "source": [
    "for lb,ub,y in zip(df_ci['lb'],df_ci['ub'],range(len(df_ci))):\n",
    "    plt.plot((lb,ub),(y,y),'ro-')\n",
    "plt.yticks(range(len(df_ci)),list(df_ci['country']))"
   ]
  },
  {
   "cell_type": "markdown",
   "id": "1ddf5acc",
   "metadata": {},
   "source": [
    "###### we can compute from this data that Brazil has the highest chance of winning a friendly match in their home land.This might be because of the extraordinary vibes of the fans cheering when they are playing in their own country."
   ]
  },
  {
   "cell_type": "code",
   "execution_count": 22,
   "id": "67f723d9",
   "metadata": {},
   "outputs": [
    {
     "data": {
      "text/plain": [
       "['Friendly',\n",
       " 'FIFA World Cup qualification',\n",
       " 'UEFA Euro qualification',\n",
       " 'African Cup of Nations qualification',\n",
       " 'FIFA World Cup',\n",
       " 'Copa América',\n",
       " 'African Cup of Nations',\n",
       " 'AFC Asian Cup qualification',\n",
       " 'CECAFA Cup',\n",
       " 'CFU Caribbean Cup qualification',\n",
       " 'Merdeka Tournament',\n",
       " 'British Championship',\n",
       " 'Gulf Cup',\n",
       " 'AFC Asian Cup',\n",
       " 'Gold Cup',\n",
       " 'Island Games',\n",
       " 'UEFA Euro',\n",
       " 'COSAFA Cup',\n",
       " 'UEFA Nations League',\n",
       " 'AFF Championship',\n",
       " 'Nordic Championship',\n",
       " 'African Nations Championship',\n",
       " 'CFU Caribbean Cup',\n",
       " 'Amílcar Cabral Cup',\n",
       " \"King's Cup\",\n",
       " 'South Pacific Games',\n",
       " 'UNCAF Cup',\n",
       " 'Korea Cup',\n",
       " 'SAFF Cup',\n",
       " 'Arab Cup',\n",
       " 'Confederations Cup',\n",
       " 'International Cup',\n",
       " 'CCCF Championship',\n",
       " 'EAFF Championship',\n",
       " 'CONCACAF Nations League',\n",
       " 'Windward Islands Tournament',\n",
       " 'CONIFA World Football Cup',\n",
       " 'Oceania Nations Cup',\n",
       " 'AFC Challenge Cup',\n",
       " 'WAFF Championship',\n",
       " 'Baltic Cup',\n",
       " 'AFC Challenge Cup qualification',\n",
       " 'Nehru Cup',\n",
       " 'Balkan Cup',\n",
       " 'Indonesia Tournament',\n",
       " 'Oceania Nations Cup qualification',\n",
       " 'Cyprus International Tournament',\n",
       " 'Kirin Cup',\n",
       " 'CONCACAF Nations League qualification',\n",
       " 'Gold Cup qualification',\n",
       " 'UDEAC Cup',\n",
       " 'African Nations Championship qualification',\n",
       " 'Vietnam Independence Cup',\n",
       " 'Palestine Cup',\n",
       " 'Viva World Cup',\n",
       " 'West African Cup',\n",
       " 'Malta International Tournament',\n",
       " 'Pacific Games',\n",
       " 'CONIFA European Football Cup',\n",
       " 'CONCACAF Championship',\n",
       " 'Pan American Championship',\n",
       " 'Brazil Independence Cup',\n",
       " 'USA Cup',\n",
       " 'United Arab Emirates Friendship Tournament',\n",
       " 'Copa Chevallier Boutell',\n",
       " 'Dynasty Cup',\n",
       " 'Copa Lipton',\n",
       " 'COSAFA Cup qualification',\n",
       " 'Copa Newton',\n",
       " 'Lunar New Year Cup',\n",
       " 'Merlion Cup',\n",
       " 'Arab Cup qualification',\n",
       " 'Copa Paz del Chaco',\n",
       " 'Copa Roca',\n",
       " \"Prime Minister's Cup\",\n",
       " 'CONCACAF Championship qualification',\n",
       " 'ABCS Tournament',\n",
       " 'Inter Games Football Tournament',\n",
       " 'Copa del Pacífico',\n",
       " 'Copa Rio Branco',\n",
       " 'Simba Tournament',\n",
       " 'Copa Carlos Dittborn',\n",
       " 'Copa Juan Pinto Durán',\n",
       " 'Copa Oswaldo Cruz',\n",
       " 'ELF Cup',\n",
       " 'UNIFFAC Cup',\n",
       " 'Millennium Cup',\n",
       " 'Copa Premio Honor Uruguayo',\n",
       " 'Dunhill Cup',\n",
       " 'GaNEFo',\n",
       " 'Nile Basin Tournament',\n",
       " 'Intercontinental Cup',\n",
       " 'Copa Artigas',\n",
       " 'Jordan International Tournament',\n",
       " 'King Hassan II Tournament',\n",
       " 'Copa Premio Honor Argentino',\n",
       " 'SKN Football Festival',\n",
       " 'Rous Cup',\n",
       " 'Atlantic Cup',\n",
       " 'FIFI Wild Cup',\n",
       " \"Copa Bernardo O'Higgins\",\n",
       " 'Tournoi de France',\n",
       " 'Bolivarian Games',\n",
       " 'Beijing International Friendship Tournament',\n",
       " 'VFF Cup',\n",
       " 'Mahinda Rajapaksa Cup',\n",
       " 'Mundialito',\n",
       " 'NAFU Championship',\n",
       " 'Nations Cup',\n",
       " 'Copa Ramón Castilla',\n",
       " 'Copa Félix Bogado',\n",
       " 'World Unity Cup',\n",
       " 'Guangzhou International Friendship Tournament',\n",
       " 'Afro-Asian Games',\n",
       " 'Dragon Cup',\n",
       " 'Matthews Cup',\n",
       " 'Dakar Tournament',\n",
       " 'OSN Cup',\n",
       " 'Great Wall Cup',\n",
       " 'Three Nations Cup',\n",
       " 'Copa América qualification',\n",
       " 'AFF Championship qualification',\n",
       " 'Atlantic Heritage Cup',\n",
       " 'Cup of Ancient Civilizations',\n",
       " 'FIFA 75th Anniversary Cup',\n",
       " 'TIFOCO Tournament']"
      ]
     },
     "execution_count": 22,
     "metadata": {},
     "output_type": "execute_result"
    }
   ],
   "source": [
    "l=list(df['tournament'].value_counts().index)\n",
    "l"
   ]
  },
  {
   "cell_type": "code",
   "execution_count": 31,
   "id": "769ade83",
   "metadata": {},
   "outputs": [
    {
     "data": {
      "text/html": [
       "<div>\n",
       "<style scoped>\n",
       "    .dataframe tbody tr th:only-of-type {\n",
       "        vertical-align: middle;\n",
       "    }\n",
       "\n",
       "    .dataframe tbody tr th {\n",
       "        vertical-align: top;\n",
       "    }\n",
       "\n",
       "    .dataframe thead th {\n",
       "        text-align: right;\n",
       "    }\n",
       "</style>\n",
       "<table border=\"1\" class=\"dataframe\">\n",
       "  <thead>\n",
       "    <tr style=\"text-align: right;\">\n",
       "      <th></th>\n",
       "      <th>date</th>\n",
       "      <th>home_team</th>\n",
       "      <th>away_team</th>\n",
       "      <th>home_score</th>\n",
       "      <th>away_score</th>\n",
       "      <th>tournament</th>\n",
       "      <th>city</th>\n",
       "      <th>country</th>\n",
       "      <th>neutral</th>\n",
       "      <th>results_home</th>\n",
       "      <th>results_away</th>\n",
       "    </tr>\n",
       "  </thead>\n",
       "  <tbody>\n",
       "    <tr>\n",
       "      <th>0</th>\n",
       "      <td>1872-11-30</td>\n",
       "      <td>Scotland</td>\n",
       "      <td>England</td>\n",
       "      <td>0</td>\n",
       "      <td>0</td>\n",
       "      <td>Friendly</td>\n",
       "      <td>Glasgow</td>\n",
       "      <td>Scotland</td>\n",
       "      <td>False</td>\n",
       "      <td>draw</td>\n",
       "      <td>draw</td>\n",
       "    </tr>\n",
       "    <tr>\n",
       "      <th>1</th>\n",
       "      <td>1873-03-08</td>\n",
       "      <td>England</td>\n",
       "      <td>Scotland</td>\n",
       "      <td>4</td>\n",
       "      <td>2</td>\n",
       "      <td>Friendly</td>\n",
       "      <td>London</td>\n",
       "      <td>England</td>\n",
       "      <td>False</td>\n",
       "      <td>win</td>\n",
       "      <td>lose</td>\n",
       "    </tr>\n",
       "    <tr>\n",
       "      <th>2</th>\n",
       "      <td>1874-03-07</td>\n",
       "      <td>Scotland</td>\n",
       "      <td>England</td>\n",
       "      <td>2</td>\n",
       "      <td>1</td>\n",
       "      <td>Friendly</td>\n",
       "      <td>Glasgow</td>\n",
       "      <td>Scotland</td>\n",
       "      <td>False</td>\n",
       "      <td>win</td>\n",
       "      <td>lose</td>\n",
       "    </tr>\n",
       "    <tr>\n",
       "      <th>3</th>\n",
       "      <td>1875-03-06</td>\n",
       "      <td>England</td>\n",
       "      <td>Scotland</td>\n",
       "      <td>2</td>\n",
       "      <td>2</td>\n",
       "      <td>Friendly</td>\n",
       "      <td>London</td>\n",
       "      <td>England</td>\n",
       "      <td>False</td>\n",
       "      <td>draw</td>\n",
       "      <td>draw</td>\n",
       "    </tr>\n",
       "    <tr>\n",
       "      <th>4</th>\n",
       "      <td>1876-03-04</td>\n",
       "      <td>Scotland</td>\n",
       "      <td>England</td>\n",
       "      <td>3</td>\n",
       "      <td>0</td>\n",
       "      <td>Friendly</td>\n",
       "      <td>Glasgow</td>\n",
       "      <td>Scotland</td>\n",
       "      <td>False</td>\n",
       "      <td>win</td>\n",
       "      <td>lose</td>\n",
       "    </tr>\n",
       "    <tr>\n",
       "      <th>...</th>\n",
       "      <td>...</td>\n",
       "      <td>...</td>\n",
       "      <td>...</td>\n",
       "      <td>...</td>\n",
       "      <td>...</td>\n",
       "      <td>...</td>\n",
       "      <td>...</td>\n",
       "      <td>...</td>\n",
       "      <td>...</td>\n",
       "      <td>...</td>\n",
       "      <td>...</td>\n",
       "    </tr>\n",
       "    <tr>\n",
       "      <th>43183</th>\n",
       "      <td>2/1/2022</td>\n",
       "      <td>Suriname</td>\n",
       "      <td>Guyana</td>\n",
       "      <td>2</td>\n",
       "      <td>1</td>\n",
       "      <td>Friendly</td>\n",
       "      <td>Paramaribo</td>\n",
       "      <td>Suriname</td>\n",
       "      <td>False</td>\n",
       "      <td>win</td>\n",
       "      <td>lose</td>\n",
       "    </tr>\n",
       "    <tr>\n",
       "      <th>43184</th>\n",
       "      <td>2/2/2022</td>\n",
       "      <td>Burkina Faso</td>\n",
       "      <td>Senegal</td>\n",
       "      <td>1</td>\n",
       "      <td>3</td>\n",
       "      <td>African Cup of Nations</td>\n",
       "      <td>Yaoundé</td>\n",
       "      <td>Cameroon</td>\n",
       "      <td>True</td>\n",
       "      <td>lose</td>\n",
       "      <td>win</td>\n",
       "    </tr>\n",
       "    <tr>\n",
       "      <th>43185</th>\n",
       "      <td>2/3/2022</td>\n",
       "      <td>Cameroon</td>\n",
       "      <td>Egypt</td>\n",
       "      <td>0</td>\n",
       "      <td>0</td>\n",
       "      <td>African Cup of Nations</td>\n",
       "      <td>Yaoundé</td>\n",
       "      <td>Cameroon</td>\n",
       "      <td>False</td>\n",
       "      <td>draw</td>\n",
       "      <td>draw</td>\n",
       "    </tr>\n",
       "    <tr>\n",
       "      <th>43186</th>\n",
       "      <td>2/5/2022</td>\n",
       "      <td>Cameroon</td>\n",
       "      <td>Burkina Faso</td>\n",
       "      <td>3</td>\n",
       "      <td>3</td>\n",
       "      <td>African Cup of Nations</td>\n",
       "      <td>Yaoundé</td>\n",
       "      <td>Cameroon</td>\n",
       "      <td>False</td>\n",
       "      <td>draw</td>\n",
       "      <td>draw</td>\n",
       "    </tr>\n",
       "    <tr>\n",
       "      <th>43187</th>\n",
       "      <td>2/6/2022</td>\n",
       "      <td>Senegal</td>\n",
       "      <td>Egypt</td>\n",
       "      <td>0</td>\n",
       "      <td>0</td>\n",
       "      <td>African Cup of Nations</td>\n",
       "      <td>Yaoundé</td>\n",
       "      <td>Cameroon</td>\n",
       "      <td>True</td>\n",
       "      <td>draw</td>\n",
       "      <td>draw</td>\n",
       "    </tr>\n",
       "  </tbody>\n",
       "</table>\n",
       "<p>43188 rows × 11 columns</p>\n",
       "</div>"
      ],
      "text/plain": [
       "             date     home_team     away_team  home_score  away_score  \\\n",
       "0      1872-11-30      Scotland       England           0           0   \n",
       "1      1873-03-08       England      Scotland           4           2   \n",
       "2      1874-03-07      Scotland       England           2           1   \n",
       "3      1875-03-06       England      Scotland           2           2   \n",
       "4      1876-03-04      Scotland       England           3           0   \n",
       "...           ...           ...           ...         ...         ...   \n",
       "43183    2/1/2022      Suriname        Guyana           2           1   \n",
       "43184    2/2/2022  Burkina Faso       Senegal           1           3   \n",
       "43185    2/3/2022      Cameroon         Egypt           0           0   \n",
       "43186    2/5/2022      Cameroon  Burkina Faso           3           3   \n",
       "43187    2/6/2022       Senegal         Egypt           0           0   \n",
       "\n",
       "                   tournament        city   country  neutral results_home  \\\n",
       "0                    Friendly     Glasgow  Scotland    False         draw   \n",
       "1                    Friendly      London   England    False          win   \n",
       "2                    Friendly     Glasgow  Scotland    False          win   \n",
       "3                    Friendly      London   England    False         draw   \n",
       "4                    Friendly     Glasgow  Scotland    False          win   \n",
       "...                       ...         ...       ...      ...          ...   \n",
       "43183                Friendly  Paramaribo  Suriname    False          win   \n",
       "43184  African Cup of Nations     Yaoundé  Cameroon     True         lose   \n",
       "43185  African Cup of Nations     Yaoundé  Cameroon    False         draw   \n",
       "43186  African Cup of Nations     Yaoundé  Cameroon    False         draw   \n",
       "43187  African Cup of Nations     Yaoundé  Cameroon     True         draw   \n",
       "\n",
       "      results_away  \n",
       "0             draw  \n",
       "1             lose  \n",
       "2             lose  \n",
       "3             draw  \n",
       "4             lose  \n",
       "...            ...  \n",
       "43183         lose  \n",
       "43184          win  \n",
       "43185         draw  \n",
       "43186         draw  \n",
       "43187         draw  \n",
       "\n",
       "[43188 rows x 11 columns]"
      ]
     },
     "execution_count": 31,
     "metadata": {},
     "output_type": "execute_result"
    }
   ],
   "source": [
    "x=df['home_score']-df['away_score']\n",
    "conditions=[(x<0),(x>0), (x==0)]\n",
    "values=['win','lose','draw']\n",
    "df['results_away']=np.select(conditions,values)\n",
    "df\n"
   ]
  },
  {
   "cell_type": "code",
   "execution_count": 33,
   "id": "446353b1",
   "metadata": {},
   "outputs": [],
   "source": [
    "df_noneutral=df[df['neutral']==False]"
   ]
  },
  {
   "cell_type": "code",
   "execution_count": 37,
   "id": "c5de904e",
   "metadata": {},
   "outputs": [
    {
     "data": {
      "text/plain": [
       "array([98, 37, 37], dtype=int64)"
      ]
     },
     "execution_count": 37,
     "metadata": {},
     "output_type": "execute_result"
    }
   ],
   "source": [
    "df_noneutralbrazil=df_noneutral[df_noneutral['away_team']=='Brazil']\n",
    "df_noneutralbrazilFriendly=df_noneutralbrazil[df_noneutralbrazil['tournament']=='Friendly']\n",
    "x=df_noneutralbrazilFriendly['results_away'].value_counts()\n",
    "x=np.array(x)\n",
    "x\n"
   ]
  },
  {
   "cell_type": "code",
   "execution_count": 38,
   "id": "49eed3d2",
   "metadata": {},
   "outputs": [
    {
     "data": {
      "text/plain": [
       "(0.1537085316208902, 0.27652402651864466)"
      ]
     },
     "execution_count": 38,
     "metadata": {},
     "output_type": "execute_result"
    }
   ],
   "source": [
    "N=x.sum()\n",
    "CI_brazilFriendly=proportion_confint(count=x[2], nobs=N, alpha=(1-.95))\n",
    "CI_brazilFriendly\n"
   ]
  },
  {
   "cell_type": "markdown",
   "id": "3d021dbb",
   "metadata": {},
   "source": [
    "### There is a 95% probability that Brazil losing in a friendly match as the away team falls between the upper and lower bound of this interval."
   ]
  },
  {
   "cell_type": "code",
   "execution_count": 40,
   "id": "8afb08f5",
   "metadata": {},
   "outputs": [
    {
     "data": {
      "text/plain": [
       "(0.35008783332691606, 0.6007318388042314)"
      ]
     },
     "execution_count": 40,
     "metadata": {},
     "output_type": "execute_result"
    }
   ],
   "source": [
    "df_noneutralbrazil=df_noneutral[df_noneutral['away_team']=='Brazil']\n",
    "df_noneutralbrazilFriendly=df_noneutralbrazil[df_noneutralbrazil['tournament']=='FIFA World Cup qualification']\n",
    "x=df_noneutralbrazilFriendly['results_away'].value_counts()\n",
    "x=np.array(x)\n",
    "x\n",
    "N=x.sum()\n",
    "CI_brazilFIFA=proportion_confint(count=x[0], nobs=N, alpha=(1-.95))\n",
    "CI_brazilFIFA\n"
   ]
  },
  {
   "cell_type": "markdown",
   "id": "433e41ae",
   "metadata": {},
   "source": [
    "### There is a 95% probability that Brazil losing in the Fifa world cup qualifications as the away team falls between the upper and lower bound of this interval."
   ]
  },
  {
   "cell_type": "code",
   "execution_count": 41,
   "id": "fe239f85",
   "metadata": {},
   "outputs": [
    {
     "data": {
      "text/plain": [
       "(0.0786225906928602, 0.37299031253294623)"
      ]
     },
     "execution_count": 41,
     "metadata": {},
     "output_type": "execute_result"
    }
   ],
   "source": [
    "df_noneutralbrazil=df_noneutral[df_noneutral['away_team']=='Brazil']\n",
    "df_noneutralbrazilCA=df_noneutralbrazil[df_noneutralbrazil['tournament']=='Copa América']\n",
    "x=df_noneutralbrazilCA['results_away'].value_counts()\n",
    "x=np.array(x)\n",
    "x\n",
    "N=x.sum()\n",
    "CI_brazilCA=proportion_confint(count=x[2], nobs=N, alpha=(1-.95))\n",
    "CI_brazilCA"
   ]
  },
  {
   "cell_type": "markdown",
   "id": "d95269ac",
   "metadata": {},
   "source": [
    "### This means that there is a 95% probability that Brazil losing as the away team in Coupa America falls between the upper and lower bounds of this interval."
   ]
  },
  {
   "cell_type": "code",
   "execution_count": 43,
   "id": "274f2e46",
   "metadata": {},
   "outputs": [
    {
     "data": {
      "text/html": [
       "<div>\n",
       "<style scoped>\n",
       "    .dataframe tbody tr th:only-of-type {\n",
       "        vertical-align: middle;\n",
       "    }\n",
       "\n",
       "    .dataframe tbody tr th {\n",
       "        vertical-align: top;\n",
       "    }\n",
       "\n",
       "    .dataframe thead th {\n",
       "        text-align: right;\n",
       "    }\n",
       "</style>\n",
       "<table border=\"1\" class=\"dataframe\">\n",
       "  <thead>\n",
       "    <tr style=\"text-align: right;\">\n",
       "      <th></th>\n",
       "      <th>tournament</th>\n",
       "      <th>lb</th>\n",
       "      <th>ub</th>\n",
       "    </tr>\n",
       "  </thead>\n",
       "  <tbody>\n",
       "    <tr>\n",
       "      <th>0</th>\n",
       "      <td>Friendly</td>\n",
       "      <td>0.153709</td>\n",
       "      <td>0.276524</td>\n",
       "    </tr>\n",
       "    <tr>\n",
       "      <th>1</th>\n",
       "      <td>FIFA World Cup qualification</td>\n",
       "      <td>0.350088</td>\n",
       "      <td>0.600732</td>\n",
       "    </tr>\n",
       "    <tr>\n",
       "      <th>2</th>\n",
       "      <td>Copa América</td>\n",
       "      <td>0.078623</td>\n",
       "      <td>0.372990</td>\n",
       "    </tr>\n",
       "  </tbody>\n",
       "</table>\n",
       "</div>"
      ],
      "text/plain": [
       "                     tournament        lb        ub\n",
       "0                      Friendly  0.153709  0.276524\n",
       "1  FIFA World Cup qualification  0.350088  0.600732\n",
       "2                  Copa América  0.078623  0.372990"
      ]
     },
     "execution_count": 43,
     "metadata": {},
     "output_type": "execute_result"
    }
   ],
   "source": [
    "ci_tour = {}\n",
    "ci_tour['tournament'] = ['Friendly','FIFA World Cup qualification','Copa América']\n",
    "ci_tour['lb'] = [CI_brazilFriendly[0],CI_brazilFIFA[0],CI_brazilCA[0]]\n",
    "ci_tour['ub'] = [CI_brazilFriendly[1],CI_brazilFIFA[1],CI_brazilCA[1]]\n",
    "df_ci= pd.DataFrame(ci_tour)\n",
    "df_ci"
   ]
  },
  {
   "cell_type": "code",
   "execution_count": 46,
   "id": "0250349c",
   "metadata": {},
   "outputs": [
    {
     "data": {
      "text/plain": [
       "([<matplotlib.axis.YTick at 0x152d4cab0d0>,\n",
       "  <matplotlib.axis.YTick at 0x152d4c9a910>,\n",
       "  <matplotlib.axis.YTick at 0x152d4c83d00>],\n",
       " [Text(0, 0, 'Friendly'),\n",
       "  Text(0, 1, 'FIFA World Cup qualification'),\n",
       "  Text(0, 2, 'Copa América')])"
      ]
     },
     "execution_count": 46,
     "metadata": {},
     "output_type": "execute_result"
    },
    {
     "data": {
      "image/png": "[encoded data removed]",
      "text/plain": [
       "<Figure size 432x288 with 1 Axes>"
      ]
     },
     "metadata": {
      "needs_background": "light"
     },
     "output_type": "display_data"
    }
   ],
   "source": [
    "for lb,ub,y in zip(df_ci['lb'],df_ci['ub'],range(len(df_ci))):\n",
    "    plt.plot((lb,ub),(y,y),'ro-')\n",
    "plt.yticks(range(len(df_ci)),list(df_ci['tournament']))\n"
   ]
  },
  {
   "cell_type": "markdown",
   "id": "6783d828",
   "metadata": {},
   "source": [
    "### This means that Brazil has the highest chance of losing in The FIFA World cup. This might be because they face very strong oponents and winning is harder than in Friendly or Copa America."
   ]
  },
  {
   "cell_type": "code",
   "execution_count": null,
   "id": "bf3ba873",
   "metadata": {},
   "outputs": [],
   "source": []
  },
  {
   "cell_type": "code",
   "execution_count": null,
   "id": "d2a2f9bf",
   "metadata": {},
   "outputs": [],
   "source": []
  },
  {
   "cell_type": "code",
   "execution_count": null,
   "id": "899af419",
   "metadata": {},
   "outputs": [],
   "source": []
  },
  {
   "cell_type": "code",
   "execution_count": null,
   "id": "a879ad8a",
   "metadata": {},
   "outputs": [],
   "source": []
  },
  {
   "cell_type": "markdown",
   "id": "e696c231",
   "metadata": {},
   "source": [
    "## Part 2"
   ]
  },
  {
   "cell_type": "markdown",
   "id": "91372bda",
   "metadata": {},
   "source": [
    "In this part, I am going to analyze the daily reported number of covid cases and deaths."
   ]
  },
  {
   "cell_type": "code",
   "execution_count": 4,
   "id": "eb2e1f54",
   "metadata": {},
   "outputs": [],
   "source": [
    "import pandas as pd\n",
    "dy=pd.read_csv('coviddata.csv',encoding='latin-1')"
   ]
  },
  {
   "cell_type": "code",
   "execution_count": 5,
   "id": "11116428",
   "metadata": {},
   "outputs": [
    {
     "data": {
      "text/html": [
       "<div>\n",
       "<style scoped>\n",
       "    .dataframe tbody tr th:only-of-type {\n",
       "        vertical-align: middle;\n",
       "    }\n",
       "\n",
       "    .dataframe tbody tr th {\n",
       "        vertical-align: top;\n",
       "    }\n",
       "\n",
       "    .dataframe thead th {\n",
       "        text-align: right;\n",
       "    }\n",
       "</style>\n",
       "<table border=\"1\" class=\"dataframe\">\n",
       "  <thead>\n",
       "    <tr style=\"text-align: right;\">\n",
       "      <th></th>\n",
       "      <th>date</th>\n",
       "      <th>iso3c</th>\n",
       "      <th>country</th>\n",
       "      <th>income</th>\n",
       "      <th>region</th>\n",
       "      <th>continent</th>\n",
       "      <th>dcases</th>\n",
       "      <th>ddeaths</th>\n",
       "      <th>population</th>\n",
       "      <th>weekdays</th>\n",
       "      <th>month</th>\n",
       "    </tr>\n",
       "  </thead>\n",
       "  <tbody>\n",
       "    <tr>\n",
       "      <th>0</th>\n",
       "      <td>2/24/2020</td>\n",
       "      <td>AFG</td>\n",
       "      <td>Afghanistan</td>\n",
       "      <td>Low income</td>\n",
       "      <td>South Asia</td>\n",
       "      <td>Asia</td>\n",
       "      <td>5</td>\n",
       "      <td>0</td>\n",
       "      <td>38041754</td>\n",
       "      <td>Mon</td>\n",
       "      <td>Feb</td>\n",
       "    </tr>\n",
       "    <tr>\n",
       "      <th>1</th>\n",
       "      <td>2/25/2020</td>\n",
       "      <td>AFG</td>\n",
       "      <td>Afghanistan</td>\n",
       "      <td>Low income</td>\n",
       "      <td>South Asia</td>\n",
       "      <td>Asia</td>\n",
       "      <td>0</td>\n",
       "      <td>0</td>\n",
       "      <td>38041754</td>\n",
       "      <td>Tue</td>\n",
       "      <td>Feb</td>\n",
       "    </tr>\n",
       "    <tr>\n",
       "      <th>2</th>\n",
       "      <td>2/26/2020</td>\n",
       "      <td>AFG</td>\n",
       "      <td>Afghanistan</td>\n",
       "      <td>Low income</td>\n",
       "      <td>South Asia</td>\n",
       "      <td>Asia</td>\n",
       "      <td>0</td>\n",
       "      <td>0</td>\n",
       "      <td>38041754</td>\n",
       "      <td>Wed</td>\n",
       "      <td>Feb</td>\n",
       "    </tr>\n",
       "    <tr>\n",
       "      <th>3</th>\n",
       "      <td>2/27/2020</td>\n",
       "      <td>AFG</td>\n",
       "      <td>Afghanistan</td>\n",
       "      <td>Low income</td>\n",
       "      <td>South Asia</td>\n",
       "      <td>Asia</td>\n",
       "      <td>0</td>\n",
       "      <td>0</td>\n",
       "      <td>38041754</td>\n",
       "      <td>Thu</td>\n",
       "      <td>Feb</td>\n",
       "    </tr>\n",
       "    <tr>\n",
       "      <th>4</th>\n",
       "      <td>2/28/2020</td>\n",
       "      <td>AFG</td>\n",
       "      <td>Afghanistan</td>\n",
       "      <td>Low income</td>\n",
       "      <td>South Asia</td>\n",
       "      <td>Asia</td>\n",
       "      <td>0</td>\n",
       "      <td>0</td>\n",
       "      <td>38041754</td>\n",
       "      <td>Fri</td>\n",
       "      <td>Feb</td>\n",
       "    </tr>\n",
       "  </tbody>\n",
       "</table>\n",
       "</div>"
      ],
      "text/plain": [
       "        date iso3c      country      income      region continent  dcases  \\\n",
       "0  2/24/2020   AFG  Afghanistan  Low income  South Asia      Asia       5   \n",
       "1  2/25/2020   AFG  Afghanistan  Low income  South Asia      Asia       0   \n",
       "2  2/26/2020   AFG  Afghanistan  Low income  South Asia      Asia       0   \n",
       "3  2/27/2020   AFG  Afghanistan  Low income  South Asia      Asia       0   \n",
       "4  2/28/2020   AFG  Afghanistan  Low income  South Asia      Asia       0   \n",
       "\n",
       "   ddeaths  population weekdays month  \n",
       "0        0    38041754      Mon   Feb  \n",
       "1        0    38041754      Tue   Feb  \n",
       "2        0    38041754      Wed   Feb  \n",
       "3        0    38041754      Thu   Feb  \n",
       "4        0    38041754      Fri   Feb  "
      ]
     },
     "execution_count": 5,
     "metadata": {},
     "output_type": "execute_result"
    }
   ],
   "source": [
    "dy.head()"
   ]
  },
  {
   "cell_type": "code",
   "execution_count": 6,
   "id": "2eca3e87",
   "metadata": {},
   "outputs": [
    {
     "data": {
      "text/plain": [
       "array(['Afghanistan', 'Angola', 'Albania', 'Andorra',\n",
       "       'United Arab Emirates', 'Argentina', 'Armenia',\n",
       "       'Antigua & Barbuda', 'Australia', 'Austria', 'Azerbaijan',\n",
       "       'Burundi', 'Belgium', 'Benin', 'Burkina Faso', 'Bangladesh',\n",
       "       'Bulgaria', 'Bahrain', 'Bahamas', 'Bosnia & Herzegovina',\n",
       "       'Belarus', 'Belize', 'Bolivia', 'Brazil', 'Barbados', 'Brunei',\n",
       "       'Bhutan', 'Botswana', 'Central African Republic', 'Canada',\n",
       "       'Switzerland', 'Chile', 'China', 'Côte d\\x92Ivoire', 'Cameroon',\n",
       "       'Congo - Kinshasa', 'Congo - Brazzaville', 'Colombia', 'Comoros',\n",
       "       'Cape Verde', 'Costa Rica', 'Cuba', 'Cyprus', 'Czechia', 'Germany',\n",
       "       'Djibouti', 'Dominica', 'Denmark', 'Dominican Republic', 'Algeria',\n",
       "       'Ecuador', 'Egypt', 'Spain', 'Estonia', 'Ethiopia', 'Finland',\n",
       "       'Fiji', 'France', 'Gabon', 'United Kingdom', 'Georgia', 'Ghana',\n",
       "       'Guinea', 'Gambia', 'Guinea-Bissau', 'Equatorial Guinea', 'Greece',\n",
       "       'Grenada', 'Guatemala', 'Guyana', 'Honduras', 'Croatia', 'Haiti',\n",
       "       'Hungary', 'Indonesia', 'India', 'Ireland', 'Iran', 'Iraq',\n",
       "       'Iceland', 'Israel', 'Italy', 'Jamaica', 'Jordan', 'Japan',\n",
       "       'Kazakhstan', 'Kenya', 'Kyrgyzstan', 'Cambodia', 'Kiribati',\n",
       "       'St. Kitts & Nevis', 'South Korea', 'Kuwait', 'Laos', 'Lebanon',\n",
       "       'Liberia', 'Libya', 'St. Lucia', 'Liechtenstein', 'Sri Lanka',\n",
       "       'Lesotho', 'Lithuania', 'Luxembourg', 'Latvia', 'Morocco',\n",
       "       'Monaco', 'Moldova', 'Madagascar', 'Maldives', 'Mexico',\n",
       "       'Marshall Islands', 'North Macedonia', 'Mali', 'Malta',\n",
       "       'Myanmar (Burma)', 'Montenegro', 'Mongolia', 'Mozambique',\n",
       "       'Mauritania', 'Mauritius', 'Malawi', 'Malaysia', 'Namibia',\n",
       "       'Niger', 'Nigeria', 'Nicaragua', 'Netherlands', 'Norway', 'Nepal',\n",
       "       'New Zealand', 'Oman', 'Pakistan', 'Panama', 'Peru', 'Philippines',\n",
       "       'Palau', 'Papua New Guinea', 'Poland', 'Portugal', 'Paraguay',\n",
       "       'Palestinian Territories', 'Qatar', 'Romania', 'Russia', 'Rwanda',\n",
       "       'Saudi Arabia', 'Sudan', 'Senegal', 'Singapore', 'Solomon Islands',\n",
       "       'Sierra Leone', 'El Salvador', 'San Marino', 'Somalia', 'Serbia',\n",
       "       'South Sudan', 'São Tomé & Príncipe', 'Suriname', 'Slovakia',\n",
       "       'Slovenia', 'Sweden', 'Eswatini', 'Seychelles', 'Syria', 'Chad',\n",
       "       'Togo', 'Thailand', 'Tajikistan', 'Timor-Leste',\n",
       "       'Trinidad & Tobago', 'Tunisia', 'Turkey', 'Tanzania', 'Uganda',\n",
       "       'Ukraine', 'Uruguay', 'United States', 'Uzbekistan',\n",
       "       'St. Vincent & Grenadines', 'Venezuela', 'Vietnam', 'Vanuatu',\n",
       "       'Samoa', 'Yemen', 'South Africa', 'Zambia', 'Zimbabwe'],\n",
       "      dtype=object)"
      ]
     },
     "execution_count": 6,
     "metadata": {},
     "output_type": "execute_result"
    }
   ],
   "source": [
    "dy['country'].unique() #returns numoy array of unique values in that column"
   ]
  },
  {
   "cell_type": "code",
   "execution_count": 7,
   "id": "136e84b2",
   "metadata": {},
   "outputs": [],
   "source": [
    "from pandas.api.types import CategoricalDtype"
   ]
  },
  {
   "cell_type": "code",
   "execution_count": 8,
   "id": "45f2bf0d",
   "metadata": {},
   "outputs": [],
   "source": [
    "cats=['Fri','Sat','Sun','Mon','Tue','Wed','Thu']\n",
    "cat_type=CategoricalDtype(categories=cats,ordered=True)\n",
    "dy['weekdays']=dy['weekdays'].astype(cat_type)"
   ]
  },
  {
   "cell_type": "code",
   "execution_count": 9,
   "id": "6c82462d",
   "metadata": {},
   "outputs": [],
   "source": [
    "cats=['Jan','Feb','Mar','Apr','May','Jun','Jul','Aug','Sep','Oct','Nov','Dec']\n",
    "cat_type=CategoricalDtype(categories=cats,ordered=True)"
   ]
  },
  {
   "cell_type": "code",
   "execution_count": 10,
   "id": "dbd5db02",
   "metadata": {},
   "outputs": [],
   "source": [
    "dy['month']=dy['month'].astype(cat_type)"
   ]
  },
  {
   "cell_type": "code",
   "execution_count": 11,
   "id": "5041d1b5",
   "metadata": {},
   "outputs": [],
   "source": [
    "dyegy=dy[dy['country']=='Egypt']\n",
    "import numpy as np"
   ]
  },
  {
   "cell_type": "code",
   "execution_count": 12,
   "id": "9616a4fc",
   "metadata": {},
   "outputs": [],
   "source": [
    "stats=dyegy.groupby(\"weekdays\").agg({\"dcases\":[np.mean,np.std,np.size]})"
   ]
  },
  {
   "cell_type": "code",
   "execution_count": 13,
   "id": "941cc5d4",
   "metadata": {},
   "outputs": [
    {
     "data": {
      "text/plain": [
       "(7, 3)"
      ]
     },
     "execution_count": 13,
     "metadata": {},
     "output_type": "execute_result"
    }
   ],
   "source": [
    "stats=pd.DataFrame(stats)\n",
    "stats.shape"
   ]
  },
  {
   "cell_type": "code",
   "execution_count": 14,
   "id": "c88c22d0",
   "metadata": {},
   "outputs": [
    {
     "data": {
      "text/html": [
       "<div>\n",
       "<style scoped>\n",
       "    .dataframe tbody tr th:only-of-type {\n",
       "        vertical-align: middle;\n",
       "    }\n",
       "\n",
       "    .dataframe tbody tr th {\n",
       "        vertical-align: top;\n",
       "    }\n",
       "\n",
       "    .dataframe thead tr th {\n",
       "        text-align: left;\n",
       "    }\n",
       "\n",
       "    .dataframe thead tr:last-of-type th {\n",
       "        text-align: right;\n",
       "    }\n",
       "</style>\n",
       "<table border=\"1\" class=\"dataframe\">\n",
       "  <thead>\n",
       "    <tr>\n",
       "      <th></th>\n",
       "      <th colspan=\"3\" halign=\"left\">dcases</th>\n",
       "    </tr>\n",
       "    <tr>\n",
       "      <th></th>\n",
       "      <th>mean</th>\n",
       "      <th>std</th>\n",
       "      <th>size</th>\n",
       "    </tr>\n",
       "    <tr>\n",
       "      <th>weekdays</th>\n",
       "      <th></th>\n",
       "      <th></th>\n",
       "      <th></th>\n",
       "    </tr>\n",
       "  </thead>\n",
       "  <tbody>\n",
       "    <tr>\n",
       "      <th>Fri</th>\n",
       "      <td>567.161616</td>\n",
       "      <td>428.533849</td>\n",
       "      <td>99</td>\n",
       "    </tr>\n",
       "    <tr>\n",
       "      <th>Sat</th>\n",
       "      <td>558.806122</td>\n",
       "      <td>421.803605</td>\n",
       "      <td>98</td>\n",
       "    </tr>\n",
       "    <tr>\n",
       "      <th>Sun</th>\n",
       "      <td>545.520408</td>\n",
       "      <td>422.358748</td>\n",
       "      <td>98</td>\n",
       "    </tr>\n",
       "    <tr>\n",
       "      <th>Mon</th>\n",
       "      <td>561.846939</td>\n",
       "      <td>442.137949</td>\n",
       "      <td>98</td>\n",
       "    </tr>\n",
       "    <tr>\n",
       "      <th>Tue</th>\n",
       "      <td>566.153061</td>\n",
       "      <td>419.125460</td>\n",
       "      <td>98</td>\n",
       "    </tr>\n",
       "    <tr>\n",
       "      <th>Wed</th>\n",
       "      <td>561.479592</td>\n",
       "      <td>406.337812</td>\n",
       "      <td>98</td>\n",
       "    </tr>\n",
       "    <tr>\n",
       "      <th>Thu</th>\n",
       "      <td>567.683673</td>\n",
       "      <td>410.020004</td>\n",
       "      <td>98</td>\n",
       "    </tr>\n",
       "  </tbody>\n",
       "</table>\n",
       "</div>"
      ],
      "text/plain": [
       "              dcases                 \n",
       "                mean         std size\n",
       "weekdays                             \n",
       "Fri       567.161616  428.533849   99\n",
       "Sat       558.806122  421.803605   98\n",
       "Sun       545.520408  422.358748   98\n",
       "Mon       561.846939  442.137949   98\n",
       "Tue       566.153061  419.125460   98\n",
       "Wed       561.479592  406.337812   98\n",
       "Thu       567.683673  410.020004   98"
      ]
     },
     "execution_count": 14,
     "metadata": {},
     "output_type": "execute_result"
    }
   ],
   "source": [
    "stats"
   ]
  },
  {
   "cell_type": "code",
   "execution_count": 15,
   "id": "78893e16",
   "metadata": {},
   "outputs": [
    {
     "data": {
      "text/plain": [
       "MultiIndex([('dcases', 'mean'),\n",
       "            ('dcases',  'std'),\n",
       "            ('dcases', 'size')],\n",
       "           )"
      ]
     },
     "execution_count": 15,
     "metadata": {},
     "output_type": "execute_result"
    }
   ],
   "source": [
    "stats.columns"
   ]
  },
  {
   "cell_type": "code",
   "execution_count": 16,
   "id": "bb320c77",
   "metadata": {},
   "outputs": [
    {
     "data": {
      "text/plain": [
       "Index(['mean', 'std', 'size'], dtype='object')"
      ]
     },
     "execution_count": 16,
     "metadata": {},
     "output_type": "execute_result"
    }
   ],
   "source": [
    "stats.columns=['mean','std','size']\n",
    "stats.columns"
   ]
  },
  {
   "cell_type": "code",
   "execution_count": 17,
   "id": "d622d4ee",
   "metadata": {},
   "outputs": [],
   "source": [
    "import scipy\n",
    "import scipy.stats\n",
    "from scipy.stats import norm,t\n",
    "import statsmodels.api as sm\n",
    "from statsmodels.stats.proportion import proportion_confint\n",
    "import matplotlib.pyplot as plt\n"
   ]
  },
  {
   "cell_type": "code",
   "execution_count": 18,
   "id": "e3378dd3",
   "metadata": {},
   "outputs": [],
   "source": [
    "def get_ci_lb(x, alpha=0.05):\n",
    "    sample_s=np.std(x)\n",
    "    sample_mean=np.mean(x)\n",
    "    sample_size=len(x)\n",
    "    margin_of_error = t.ppf(1 - alpha/2,sample_size-1)*sample_s/np.sqrt(sample_size-1)\n",
    "    return sample_mean - margin_of_error"
   ]
  },
  {
   "cell_type": "code",
   "execution_count": 19,
   "id": "41425fee",
   "metadata": {},
   "outputs": [],
   "source": [
    "x=dyegy['dcases']"
   ]
  },
  {
   "cell_type": "code",
   "execution_count": 20,
   "id": "b9c8cba1",
   "metadata": {},
   "outputs": [
    {
     "data": {
      "text/plain": [
       "529.7945911276133"
      ]
     },
     "execution_count": 20,
     "metadata": {},
     "output_type": "execute_result"
    }
   ],
   "source": [
    "get_ci_lb(x)"
   ]
  },
  {
   "cell_type": "code",
   "execution_count": 21,
   "id": "df10f6d3",
   "metadata": {},
   "outputs": [],
   "source": [
    "def get_ci_ub(x,alpha=0.05):\n",
    "    sample_s=np.std(x)\n",
    "    sample_mean=np.mean(x)\n",
    "    sample_size=len(x)\n",
    "    margin_of_error=t.ppf(1-alpha/2,sample_size-1)*sample_s/np.sqrt(sample_size-1)\n",
    "    return sample_mean + margin_of_error"
   ]
  },
  {
   "cell_type": "code",
   "execution_count": 22,
   "id": "a0bf9a89",
   "metadata": {},
   "outputs": [
    {
     "data": {
      "text/plain": [
       "592.694491841819"
      ]
     },
     "execution_count": 22,
     "metadata": {},
     "output_type": "execute_result"
    }
   ],
   "source": [
    "get_ci_ub(x)"
   ]
  },
  {
   "cell_type": "code",
   "execution_count": 23,
   "id": "c62a5b55",
   "metadata": {},
   "outputs": [
    {
     "data": {
      "text/html": [
       "<div>\n",
       "<style scoped>\n",
       "    .dataframe tbody tr th:only-of-type {\n",
       "        vertical-align: middle;\n",
       "    }\n",
       "\n",
       "    .dataframe tbody tr th {\n",
       "        vertical-align: top;\n",
       "    }\n",
       "\n",
       "    .dataframe thead tr th {\n",
       "        text-align: left;\n",
       "    }\n",
       "\n",
       "    .dataframe thead tr:last-of-type th {\n",
       "        text-align: right;\n",
       "    }\n",
       "</style>\n",
       "<table border=\"1\" class=\"dataframe\">\n",
       "  <thead>\n",
       "    <tr>\n",
       "      <th></th>\n",
       "      <th colspan=\"5\" halign=\"left\">dcases</th>\n",
       "    </tr>\n",
       "    <tr>\n",
       "      <th></th>\n",
       "      <th>mean</th>\n",
       "      <th>std</th>\n",
       "      <th>size</th>\n",
       "      <th>get_ci_lb</th>\n",
       "      <th>get_ci_ub</th>\n",
       "    </tr>\n",
       "    <tr>\n",
       "      <th>weekdays</th>\n",
       "      <th></th>\n",
       "      <th></th>\n",
       "      <th></th>\n",
       "      <th></th>\n",
       "      <th></th>\n",
       "    </tr>\n",
       "  </thead>\n",
       "  <tbody>\n",
       "    <tr>\n",
       "      <th>Fri</th>\n",
       "      <td>567.161616</td>\n",
       "      <td>428.533849</td>\n",
       "      <td>99</td>\n",
       "      <td>481.692047</td>\n",
       "      <td>652.631185</td>\n",
       "    </tr>\n",
       "    <tr>\n",
       "      <th>Sat</th>\n",
       "      <td>558.806122</td>\n",
       "      <td>421.803605</td>\n",
       "      <td>98</td>\n",
       "      <td>474.239849</td>\n",
       "      <td>643.372396</td>\n",
       "    </tr>\n",
       "    <tr>\n",
       "      <th>Sun</th>\n",
       "      <td>545.520408</td>\n",
       "      <td>422.358748</td>\n",
       "      <td>98</td>\n",
       "      <td>460.842836</td>\n",
       "      <td>630.197981</td>\n",
       "    </tr>\n",
       "    <tr>\n",
       "      <th>Mon</th>\n",
       "      <td>561.846939</td>\n",
       "      <td>442.137949</td>\n",
       "      <td>98</td>\n",
       "      <td>473.203887</td>\n",
       "      <td>650.489990</td>\n",
       "    </tr>\n",
       "    <tr>\n",
       "      <th>Tue</th>\n",
       "      <td>566.153061</td>\n",
       "      <td>419.125460</td>\n",
       "      <td>98</td>\n",
       "      <td>482.123722</td>\n",
       "      <td>650.182401</td>\n",
       "    </tr>\n",
       "    <tr>\n",
       "      <th>Wed</th>\n",
       "      <td>561.479592</td>\n",
       "      <td>406.337812</td>\n",
       "      <td>98</td>\n",
       "      <td>480.014014</td>\n",
       "      <td>642.945170</td>\n",
       "    </tr>\n",
       "    <tr>\n",
       "      <th>Thu</th>\n",
       "      <td>567.683673</td>\n",
       "      <td>410.020004</td>\n",
       "      <td>98</td>\n",
       "      <td>485.479863</td>\n",
       "      <td>649.887484</td>\n",
       "    </tr>\n",
       "  </tbody>\n",
       "</table>\n",
       "</div>"
      ],
      "text/plain": [
       "              dcases                                         \n",
       "                mean         std size   get_ci_lb   get_ci_ub\n",
       "weekdays                                                     \n",
       "Fri       567.161616  428.533849   99  481.692047  652.631185\n",
       "Sat       558.806122  421.803605   98  474.239849  643.372396\n",
       "Sun       545.520408  422.358748   98  460.842836  630.197981\n",
       "Mon       561.846939  442.137949   98  473.203887  650.489990\n",
       "Tue       566.153061  419.125460   98  482.123722  650.182401\n",
       "Wed       561.479592  406.337812   98  480.014014  642.945170\n",
       "Thu       567.683673  410.020004   98  485.479863  649.887484"
      ]
     },
     "execution_count": 23,
     "metadata": {},
     "output_type": "execute_result"
    }
   ],
   "source": [
    "ci_dcases=statsm=dyegy.groupby(\"weekdays\").agg({\"dcases\":[np.mean,np.std,np.size,get_ci_lb,get_ci_ub]})\n",
    "statsm\n"
   ]
  },
  {
   "cell_type": "code",
   "execution_count": 24,
   "id": "52f29731",
   "metadata": {},
   "outputs": [
    {
     "data": {
      "text/plain": [
       "CategoricalIndex(['Fri', 'Sat', 'Sun', 'Mon', 'Tue', 'Wed', 'Thu'], categories=['Fri', 'Sat', 'Sun', 'Mon', 'Tue', 'Wed', 'Thu'], ordered=True, dtype='category', name='weekdays')"
      ]
     },
     "execution_count": 24,
     "metadata": {},
     "output_type": "execute_result"
    }
   ],
   "source": [
    "statsm.index"
   ]
  },
  {
   "cell_type": "code",
   "execution_count": 25,
   "id": "cd6b92d2",
   "metadata": {},
   "outputs": [
    {
     "data": {
      "text/html": [
       "<div>\n",
       "<style scoped>\n",
       "    .dataframe tbody tr th:only-of-type {\n",
       "        vertical-align: middle;\n",
       "    }\n",
       "\n",
       "    .dataframe tbody tr th {\n",
       "        vertical-align: top;\n",
       "    }\n",
       "\n",
       "    .dataframe thead th {\n",
       "        text-align: right;\n",
       "    }\n",
       "</style>\n",
       "<table border=\"1\" class=\"dataframe\">\n",
       "  <thead>\n",
       "    <tr style=\"text-align: right;\">\n",
       "      <th></th>\n",
       "      <th>mean</th>\n",
       "      <th>std</th>\n",
       "      <th>size</th>\n",
       "      <th>lb</th>\n",
       "      <th>ub</th>\n",
       "      <th>weekdays</th>\n",
       "    </tr>\n",
       "    <tr>\n",
       "      <th>weekdays</th>\n",
       "      <th></th>\n",
       "      <th></th>\n",
       "      <th></th>\n",
       "      <th></th>\n",
       "      <th></th>\n",
       "      <th></th>\n",
       "    </tr>\n",
       "  </thead>\n",
       "  <tbody>\n",
       "    <tr>\n",
       "      <th>Fri</th>\n",
       "      <td>567.161616</td>\n",
       "      <td>428.533849</td>\n",
       "      <td>99</td>\n",
       "      <td>481.692047</td>\n",
       "      <td>652.631185</td>\n",
       "      <td>Fri</td>\n",
       "    </tr>\n",
       "    <tr>\n",
       "      <th>Sat</th>\n",
       "      <td>558.806122</td>\n",
       "      <td>421.803605</td>\n",
       "      <td>98</td>\n",
       "      <td>474.239849</td>\n",
       "      <td>643.372396</td>\n",
       "      <td>Sat</td>\n",
       "    </tr>\n",
       "    <tr>\n",
       "      <th>Sun</th>\n",
       "      <td>545.520408</td>\n",
       "      <td>422.358748</td>\n",
       "      <td>98</td>\n",
       "      <td>460.842836</td>\n",
       "      <td>630.197981</td>\n",
       "      <td>Sun</td>\n",
       "    </tr>\n",
       "    <tr>\n",
       "      <th>Mon</th>\n",
       "      <td>561.846939</td>\n",
       "      <td>442.137949</td>\n",
       "      <td>98</td>\n",
       "      <td>473.203887</td>\n",
       "      <td>650.489990</td>\n",
       "      <td>Mon</td>\n",
       "    </tr>\n",
       "    <tr>\n",
       "      <th>Tue</th>\n",
       "      <td>566.153061</td>\n",
       "      <td>419.125460</td>\n",
       "      <td>98</td>\n",
       "      <td>482.123722</td>\n",
       "      <td>650.182401</td>\n",
       "      <td>Tue</td>\n",
       "    </tr>\n",
       "    <tr>\n",
       "      <th>Wed</th>\n",
       "      <td>561.479592</td>\n",
       "      <td>406.337812</td>\n",
       "      <td>98</td>\n",
       "      <td>480.014014</td>\n",
       "      <td>642.945170</td>\n",
       "      <td>Wed</td>\n",
       "    </tr>\n",
       "    <tr>\n",
       "      <th>Thu</th>\n",
       "      <td>567.683673</td>\n",
       "      <td>410.020004</td>\n",
       "      <td>98</td>\n",
       "      <td>485.479863</td>\n",
       "      <td>649.887484</td>\n",
       "      <td>Thu</td>\n",
       "    </tr>\n",
       "  </tbody>\n",
       "</table>\n",
       "</div>"
      ],
      "text/plain": [
       "                mean         std  size          lb          ub weekdays\n",
       "weekdays                                                               \n",
       "Fri       567.161616  428.533849    99  481.692047  652.631185      Fri\n",
       "Sat       558.806122  421.803605    98  474.239849  643.372396      Sat\n",
       "Sun       545.520408  422.358748    98  460.842836  630.197981      Sun\n",
       "Mon       561.846939  442.137949    98  473.203887  650.489990      Mon\n",
       "Tue       566.153061  419.125460    98  482.123722  650.182401      Tue\n",
       "Wed       561.479592  406.337812    98  480.014014  642.945170      Wed\n",
       "Thu       567.683673  410.020004    98  485.479863  649.887484      Thu"
      ]
     },
     "execution_count": 25,
     "metadata": {},
     "output_type": "execute_result"
    }
   ],
   "source": [
    "statsm.columns=['mean','std','size','lb','ub']\n",
    "statsm['weekdays']=statsm.index\n",
    "statsm"
   ]
  },
  {
   "cell_type": "code",
   "execution_count": 26,
   "id": "3dfe9133",
   "metadata": {},
   "outputs": [
    {
     "data": {
      "image/png": "[encoded data removed]",
      "text/plain": [
       "<Figure size 432x288 with 1 Axes>"
      ]
     },
     "metadata": {
      "needs_background": "light"
     },
     "output_type": "display_data"
    }
   ],
   "source": [
    "plt.plot( 'weekdays', 'mean', data=statsm, marker='s', color='black', markersize=4,     linewidth=1, linestyle='--')\n",
    "plt.plot( 'weekdays', 'mean', data=statsm, marker='o', color='black',  markersize=4, linewidth=1,linestyle='-')\n",
    "plt.xlabel(\"weekdays\")\n",
    "plt.ylabel(\"Average Daily COVID CASES\")\n",
    "plt.show()"
   ]
  },
  {
   "cell_type": "markdown",
   "id": "0a0b7872",
   "metadata": {},
   "source": [
    "Average covid cases were the highest on Thurdays and Fridays which makes sense since these are weekend days when people go out the most. Places are generally more crowded on Thursday and Friday so the average cases are greater."
   ]
  },
  {
   "cell_type": "code",
   "execution_count": 27,
   "id": "8cc1c629",
   "metadata": {},
   "outputs": [
    {
     "data": {
      "text/plain": [
       "'2/24/2020'"
      ]
     },
     "execution_count": 27,
     "metadata": {},
     "output_type": "execute_result"
    }
   ],
   "source": [
    "dy['date'][0]"
   ]
  },
  {
   "cell_type": "code",
   "execution_count": 28,
   "id": "0f3e94a6",
   "metadata": {},
   "outputs": [],
   "source": [
    "dy['year'] = pd. DatetimeIndex(dy['date']). year"
   ]
  },
  {
   "cell_type": "code",
   "execution_count": 29,
   "id": "d4c1f514",
   "metadata": {},
   "outputs": [
    {
     "data": {
      "text/plain": [
       "2020"
      ]
     },
     "execution_count": 29,
     "metadata": {},
     "output_type": "execute_result"
    }
   ],
   "source": [
    "dy['year'][0]"
   ]
  },
  {
   "cell_type": "code",
   "execution_count": 30,
   "id": "2f155cc1",
   "metadata": {},
   "outputs": [
    {
     "data": {
      "text/html": [
       "<div>\n",
       "<style scoped>\n",
       "    .dataframe tbody tr th:only-of-type {\n",
       "        vertical-align: middle;\n",
       "    }\n",
       "\n",
       "    .dataframe tbody tr th {\n",
       "        vertical-align: top;\n",
       "    }\n",
       "\n",
       "    .dataframe thead tr th {\n",
       "        text-align: left;\n",
       "    }\n",
       "\n",
       "    .dataframe thead tr:last-of-type th {\n",
       "        text-align: right;\n",
       "    }\n",
       "</style>\n",
       "<table border=\"1\" class=\"dataframe\">\n",
       "  <thead>\n",
       "    <tr>\n",
       "      <th></th>\n",
       "      <th></th>\n",
       "      <th></th>\n",
       "      <th colspan=\"5\" halign=\"left\">dcases</th>\n",
       "    </tr>\n",
       "    <tr>\n",
       "      <th></th>\n",
       "      <th></th>\n",
       "      <th></th>\n",
       "      <th>mean</th>\n",
       "      <th>std</th>\n",
       "      <th>size</th>\n",
       "      <th>get_ci_lb</th>\n",
       "      <th>get_ci_ub</th>\n",
       "    </tr>\n",
       "    <tr>\n",
       "      <th>country</th>\n",
       "      <th>year</th>\n",
       "      <th>weekdays</th>\n",
       "      <th></th>\n",
       "      <th></th>\n",
       "      <th></th>\n",
       "      <th></th>\n",
       "      <th></th>\n",
       "    </tr>\n",
       "  </thead>\n",
       "  <tbody>\n",
       "    <tr>\n",
       "      <th rowspan=\"5\" valign=\"top\">Afghanistan</th>\n",
       "      <th rowspan=\"5\" valign=\"top\">2020</th>\n",
       "      <th>Fri</th>\n",
       "      <td>194.590909</td>\n",
       "      <td>244.064166</td>\n",
       "      <td>44.0</td>\n",
       "      <td>120.388621</td>\n",
       "      <td>268.793197</td>\n",
       "    </tr>\n",
       "    <tr>\n",
       "      <th>Sat</th>\n",
       "      <td>154.068182</td>\n",
       "      <td>199.677228</td>\n",
       "      <td>44.0</td>\n",
       "      <td>93.360756</td>\n",
       "      <td>214.775608</td>\n",
       "    </tr>\n",
       "    <tr>\n",
       "      <th>Sun</th>\n",
       "      <td>168.386364</td>\n",
       "      <td>229.780402</td>\n",
       "      <td>44.0</td>\n",
       "      <td>98.526736</td>\n",
       "      <td>238.245991</td>\n",
       "    </tr>\n",
       "    <tr>\n",
       "      <th>Mon</th>\n",
       "      <td>146.266667</td>\n",
       "      <td>186.407350</td>\n",
       "      <td>45.0</td>\n",
       "      <td>90.263699</td>\n",
       "      <td>202.269634</td>\n",
       "    </tr>\n",
       "    <tr>\n",
       "      <th>Tue</th>\n",
       "      <td>154.888889</td>\n",
       "      <td>177.833837</td>\n",
       "      <td>45.0</td>\n",
       "      <td>101.461690</td>\n",
       "      <td>208.316088</td>\n",
       "    </tr>\n",
       "    <tr>\n",
       "      <th>...</th>\n",
       "      <th>...</th>\n",
       "      <th>...</th>\n",
       "      <td>...</td>\n",
       "      <td>...</td>\n",
       "      <td>...</td>\n",
       "      <td>...</td>\n",
       "      <td>...</td>\n",
       "    </tr>\n",
       "    <tr>\n",
       "      <th rowspan=\"5\" valign=\"top\">Zimbabwe</th>\n",
       "      <th rowspan=\"5\" valign=\"top\">2021</th>\n",
       "      <th>Sun</th>\n",
       "      <td>284.538462</td>\n",
       "      <td>467.821587</td>\n",
       "      <td>52.0</td>\n",
       "      <td>154.296100</td>\n",
       "      <td>414.780823</td>\n",
       "    </tr>\n",
       "    <tr>\n",
       "      <th>Mon</th>\n",
       "      <td>403.730769</td>\n",
       "      <td>732.665296</td>\n",
       "      <td>52.0</td>\n",
       "      <td>199.755448</td>\n",
       "      <td>607.706090</td>\n",
       "    </tr>\n",
       "    <tr>\n",
       "      <th>Tue</th>\n",
       "      <td>636.403846</td>\n",
       "      <td>1017.270305</td>\n",
       "      <td>52.0</td>\n",
       "      <td>353.193985</td>\n",
       "      <td>919.613707</td>\n",
       "    </tr>\n",
       "    <tr>\n",
       "      <th>Wed</th>\n",
       "      <td>725.826923</td>\n",
       "      <td>1548.422407</td>\n",
       "      <td>52.0</td>\n",
       "      <td>294.743373</td>\n",
       "      <td>1156.910474</td>\n",
       "    </tr>\n",
       "    <tr>\n",
       "      <th>Thu</th>\n",
       "      <td>701.173077</td>\n",
       "      <td>1177.666598</td>\n",
       "      <td>52.0</td>\n",
       "      <td>373.308603</td>\n",
       "      <td>1029.037551</td>\n",
       "    </tr>\n",
       "  </tbody>\n",
       "</table>\n",
       "<p>2618 rows × 5 columns</p>\n",
       "</div>"
      ],
      "text/plain": [
       "                               dcases                                 \\\n",
       "                                 mean          std  size   get_ci_lb   \n",
       "country     year weekdays                                              \n",
       "Afghanistan 2020 Fri       194.590909   244.064166  44.0  120.388621   \n",
       "                 Sat       154.068182   199.677228  44.0   93.360756   \n",
       "                 Sun       168.386364   229.780402  44.0   98.526736   \n",
       "                 Mon       146.266667   186.407350  45.0   90.263699   \n",
       "                 Tue       154.888889   177.833837  45.0  101.461690   \n",
       "...                               ...          ...   ...         ...   \n",
       "Zimbabwe    2021 Sun       284.538462   467.821587  52.0  154.296100   \n",
       "                 Mon       403.730769   732.665296  52.0  199.755448   \n",
       "                 Tue       636.403846  1017.270305  52.0  353.193985   \n",
       "                 Wed       725.826923  1548.422407  52.0  294.743373   \n",
       "                 Thu       701.173077  1177.666598  52.0  373.308603   \n",
       "\n",
       "                                        \n",
       "                             get_ci_ub  \n",
       "country     year weekdays               \n",
       "Afghanistan 2020 Fri        268.793197  \n",
       "                 Sat        214.775608  \n",
       "                 Sun        238.245991  \n",
       "                 Mon        202.269634  \n",
       "                 Tue        208.316088  \n",
       "...                                ...  \n",
       "Zimbabwe    2021 Sun        414.780823  \n",
       "                 Mon        607.706090  \n",
       "                 Tue        919.613707  \n",
       "                 Wed       1156.910474  \n",
       "                 Thu       1029.037551  \n",
       "\n",
       "[2618 rows x 5 columns]"
      ]
     },
     "execution_count": 30,
     "metadata": {},
     "output_type": "execute_result"
    }
   ],
   "source": [
    "statsdcases=dy.groupby(['country','year','weekdays']).agg({\"dcases\": [np.mean, np.std, np.size,get_ci_lb,get_ci_ub]})\n",
    "statsdcases"
   ]
  },
  {
   "cell_type": "code",
   "execution_count": 31,
   "id": "a457562b",
   "metadata": {},
   "outputs": [
    {
     "data": {
      "text/html": [
       "<div>\n",
       "<style scoped>\n",
       "    .dataframe tbody tr th:only-of-type {\n",
       "        vertical-align: middle;\n",
       "    }\n",
       "\n",
       "    .dataframe tbody tr th {\n",
       "        vertical-align: top;\n",
       "    }\n",
       "\n",
       "    .dataframe thead tr th {\n",
       "        text-align: left;\n",
       "    }\n",
       "</style>\n",
       "<table border=\"1\" class=\"dataframe\">\n",
       "  <thead>\n",
       "    <tr>\n",
       "      <th></th>\n",
       "      <th>country</th>\n",
       "      <th>year</th>\n",
       "      <th>weekdays</th>\n",
       "      <th colspan=\"5\" halign=\"left\">dcases</th>\n",
       "    </tr>\n",
       "    <tr>\n",
       "      <th></th>\n",
       "      <th></th>\n",
       "      <th></th>\n",
       "      <th></th>\n",
       "      <th>mean</th>\n",
       "      <th>std</th>\n",
       "      <th>size</th>\n",
       "      <th>get_ci_lb</th>\n",
       "      <th>get_ci_ub</th>\n",
       "    </tr>\n",
       "  </thead>\n",
       "  <tbody>\n",
       "    <tr>\n",
       "      <th>0</th>\n",
       "      <td>Afghanistan</td>\n",
       "      <td>2020</td>\n",
       "      <td>Fri</td>\n",
       "      <td>194.590909</td>\n",
       "      <td>244.064166</td>\n",
       "      <td>44.0</td>\n",
       "      <td>120.388621</td>\n",
       "      <td>268.793197</td>\n",
       "    </tr>\n",
       "    <tr>\n",
       "      <th>1</th>\n",
       "      <td>Afghanistan</td>\n",
       "      <td>2020</td>\n",
       "      <td>Sat</td>\n",
       "      <td>154.068182</td>\n",
       "      <td>199.677228</td>\n",
       "      <td>44.0</td>\n",
       "      <td>93.360756</td>\n",
       "      <td>214.775608</td>\n",
       "    </tr>\n",
       "    <tr>\n",
       "      <th>2</th>\n",
       "      <td>Afghanistan</td>\n",
       "      <td>2020</td>\n",
       "      <td>Sun</td>\n",
       "      <td>168.386364</td>\n",
       "      <td>229.780402</td>\n",
       "      <td>44.0</td>\n",
       "      <td>98.526736</td>\n",
       "      <td>238.245991</td>\n",
       "    </tr>\n",
       "    <tr>\n",
       "      <th>3</th>\n",
       "      <td>Afghanistan</td>\n",
       "      <td>2020</td>\n",
       "      <td>Mon</td>\n",
       "      <td>146.266667</td>\n",
       "      <td>186.407350</td>\n",
       "      <td>45.0</td>\n",
       "      <td>90.263699</td>\n",
       "      <td>202.269634</td>\n",
       "    </tr>\n",
       "    <tr>\n",
       "      <th>4</th>\n",
       "      <td>Afghanistan</td>\n",
       "      <td>2020</td>\n",
       "      <td>Tue</td>\n",
       "      <td>154.888889</td>\n",
       "      <td>177.833837</td>\n",
       "      <td>45.0</td>\n",
       "      <td>101.461690</td>\n",
       "      <td>208.316088</td>\n",
       "    </tr>\n",
       "    <tr>\n",
       "      <th>...</th>\n",
       "      <td>...</td>\n",
       "      <td>...</td>\n",
       "      <td>...</td>\n",
       "      <td>...</td>\n",
       "      <td>...</td>\n",
       "      <td>...</td>\n",
       "      <td>...</td>\n",
       "      <td>...</td>\n",
       "    </tr>\n",
       "    <tr>\n",
       "      <th>2613</th>\n",
       "      <td>Zimbabwe</td>\n",
       "      <td>2021</td>\n",
       "      <td>Sun</td>\n",
       "      <td>284.538462</td>\n",
       "      <td>467.821587</td>\n",
       "      <td>52.0</td>\n",
       "      <td>154.296100</td>\n",
       "      <td>414.780823</td>\n",
       "    </tr>\n",
       "    <tr>\n",
       "      <th>2614</th>\n",
       "      <td>Zimbabwe</td>\n",
       "      <td>2021</td>\n",
       "      <td>Mon</td>\n",
       "      <td>403.730769</td>\n",
       "      <td>732.665296</td>\n",
       "      <td>52.0</td>\n",
       "      <td>199.755448</td>\n",
       "      <td>607.706090</td>\n",
       "    </tr>\n",
       "    <tr>\n",
       "      <th>2615</th>\n",
       "      <td>Zimbabwe</td>\n",
       "      <td>2021</td>\n",
       "      <td>Tue</td>\n",
       "      <td>636.403846</td>\n",
       "      <td>1017.270305</td>\n",
       "      <td>52.0</td>\n",
       "      <td>353.193985</td>\n",
       "      <td>919.613707</td>\n",
       "    </tr>\n",
       "    <tr>\n",
       "      <th>2616</th>\n",
       "      <td>Zimbabwe</td>\n",
       "      <td>2021</td>\n",
       "      <td>Wed</td>\n",
       "      <td>725.826923</td>\n",
       "      <td>1548.422407</td>\n",
       "      <td>52.0</td>\n",
       "      <td>294.743373</td>\n",
       "      <td>1156.910474</td>\n",
       "    </tr>\n",
       "    <tr>\n",
       "      <th>2617</th>\n",
       "      <td>Zimbabwe</td>\n",
       "      <td>2021</td>\n",
       "      <td>Thu</td>\n",
       "      <td>701.173077</td>\n",
       "      <td>1177.666598</td>\n",
       "      <td>52.0</td>\n",
       "      <td>373.308603</td>\n",
       "      <td>1029.037551</td>\n",
       "    </tr>\n",
       "  </tbody>\n",
       "</table>\n",
       "<p>2618 rows × 8 columns</p>\n",
       "</div>"
      ],
      "text/plain": [
       "          country  year weekdays      dcases                                 \\\n",
       "                                        mean          std  size   get_ci_lb   \n",
       "0     Afghanistan  2020      Fri  194.590909   244.064166  44.0  120.388621   \n",
       "1     Afghanistan  2020      Sat  154.068182   199.677228  44.0   93.360756   \n",
       "2     Afghanistan  2020      Sun  168.386364   229.780402  44.0   98.526736   \n",
       "3     Afghanistan  2020      Mon  146.266667   186.407350  45.0   90.263699   \n",
       "4     Afghanistan  2020      Tue  154.888889   177.833837  45.0  101.461690   \n",
       "...           ...   ...      ...         ...          ...   ...         ...   \n",
       "2613     Zimbabwe  2021      Sun  284.538462   467.821587  52.0  154.296100   \n",
       "2614     Zimbabwe  2021      Mon  403.730769   732.665296  52.0  199.755448   \n",
       "2615     Zimbabwe  2021      Tue  636.403846  1017.270305  52.0  353.193985   \n",
       "2616     Zimbabwe  2021      Wed  725.826923  1548.422407  52.0  294.743373   \n",
       "2617     Zimbabwe  2021      Thu  701.173077  1177.666598  52.0  373.308603   \n",
       "\n",
       "                   \n",
       "        get_ci_ub  \n",
       "0      268.793197  \n",
       "1      214.775608  \n",
       "2      238.245991  \n",
       "3      202.269634  \n",
       "4      208.316088  \n",
       "...           ...  \n",
       "2613   414.780823  \n",
       "2614   607.706090  \n",
       "2615   919.613707  \n",
       "2616  1156.910474  \n",
       "2617  1029.037551  \n",
       "\n",
       "[2618 rows x 8 columns]"
      ]
     },
     "execution_count": 31,
     "metadata": {},
     "output_type": "execute_result"
    }
   ],
   "source": [
    "statsdcases=statsdcases.reset_index()\n",
    "statsdcases #tranferring the data index into columns"
   ]
  },
  {
   "cell_type": "code",
   "execution_count": 32,
   "id": "2752ec36",
   "metadata": {},
   "outputs": [
    {
     "data": {
      "text/html": [
       "<div>\n",
       "<style scoped>\n",
       "    .dataframe tbody tr th:only-of-type {\n",
       "        vertical-align: middle;\n",
       "    }\n",
       "\n",
       "    .dataframe tbody tr th {\n",
       "        vertical-align: top;\n",
       "    }\n",
       "\n",
       "    .dataframe thead tr th {\n",
       "        text-align: left;\n",
       "    }\n",
       "</style>\n",
       "<table border=\"1\" class=\"dataframe\">\n",
       "  <thead>\n",
       "    <tr>\n",
       "      <th></th>\n",
       "      <th>country</th>\n",
       "      <th>year</th>\n",
       "      <th>weekdays</th>\n",
       "      <th colspan=\"5\" halign=\"left\">dcases</th>\n",
       "    </tr>\n",
       "    <tr>\n",
       "      <th></th>\n",
       "      <th></th>\n",
       "      <th></th>\n",
       "      <th></th>\n",
       "      <th>mean</th>\n",
       "      <th>std</th>\n",
       "      <th>size</th>\n",
       "      <th>get_ci_lb</th>\n",
       "      <th>get_ci_ub</th>\n",
       "    </tr>\n",
       "  </thead>\n",
       "  <tbody>\n",
       "    <tr>\n",
       "      <th>721</th>\n",
       "      <td>Egypt</td>\n",
       "      <td>2021</td>\n",
       "      <td>Fri</td>\n",
       "      <td>681.188679</td>\n",
       "      <td>328.472810</td>\n",
       "      <td>53.0</td>\n",
       "      <td>590.650360</td>\n",
       "      <td>771.726999</td>\n",
       "    </tr>\n",
       "    <tr>\n",
       "      <th>722</th>\n",
       "      <td>Egypt</td>\n",
       "      <td>2021</td>\n",
       "      <td>Sat</td>\n",
       "      <td>681.019231</td>\n",
       "      <td>332.058434</td>\n",
       "      <td>52.0</td>\n",
       "      <td>588.573573</td>\n",
       "      <td>773.464889</td>\n",
       "    </tr>\n",
       "    <tr>\n",
       "      <th>723</th>\n",
       "      <td>Egypt</td>\n",
       "      <td>2021</td>\n",
       "      <td>Sun</td>\n",
       "      <td>659.038462</td>\n",
       "      <td>339.218303</td>\n",
       "      <td>52.0</td>\n",
       "      <td>564.599483</td>\n",
       "      <td>753.477440</td>\n",
       "    </tr>\n",
       "    <tr>\n",
       "      <th>724</th>\n",
       "      <td>Egypt</td>\n",
       "      <td>2021</td>\n",
       "      <td>Mon</td>\n",
       "      <td>681.942308</td>\n",
       "      <td>372.374333</td>\n",
       "      <td>52.0</td>\n",
       "      <td>578.272632</td>\n",
       "      <td>785.611984</td>\n",
       "    </tr>\n",
       "    <tr>\n",
       "      <th>725</th>\n",
       "      <td>Egypt</td>\n",
       "      <td>2021</td>\n",
       "      <td>Tue</td>\n",
       "      <td>688.538462</td>\n",
       "      <td>345.451081</td>\n",
       "      <td>52.0</td>\n",
       "      <td>592.364266</td>\n",
       "      <td>784.712657</td>\n",
       "    </tr>\n",
       "    <tr>\n",
       "      <th>726</th>\n",
       "      <td>Egypt</td>\n",
       "      <td>2021</td>\n",
       "      <td>Wed</td>\n",
       "      <td>677.692308</td>\n",
       "      <td>320.514693</td>\n",
       "      <td>52.0</td>\n",
       "      <td>588.460448</td>\n",
       "      <td>766.924168</td>\n",
       "    </tr>\n",
       "    <tr>\n",
       "      <th>727</th>\n",
       "      <td>Egypt</td>\n",
       "      <td>2021</td>\n",
       "      <td>Thu</td>\n",
       "      <td>677.346154</td>\n",
       "      <td>324.265921</td>\n",
       "      <td>52.0</td>\n",
       "      <td>587.069945</td>\n",
       "      <td>767.622363</td>\n",
       "    </tr>\n",
       "  </tbody>\n",
       "</table>\n",
       "</div>"
      ],
      "text/plain": [
       "    country  year weekdays      dcases                                \\\n",
       "                                  mean         std  size   get_ci_lb   \n",
       "721   Egypt  2021      Fri  681.188679  328.472810  53.0  590.650360   \n",
       "722   Egypt  2021      Sat  681.019231  332.058434  52.0  588.573573   \n",
       "723   Egypt  2021      Sun  659.038462  339.218303  52.0  564.599483   \n",
       "724   Egypt  2021      Mon  681.942308  372.374333  52.0  578.272632   \n",
       "725   Egypt  2021      Tue  688.538462  345.451081  52.0  592.364266   \n",
       "726   Egypt  2021      Wed  677.692308  320.514693  52.0  588.460448   \n",
       "727   Egypt  2021      Thu  677.346154  324.265921  52.0  587.069945   \n",
       "\n",
       "                 \n",
       "      get_ci_ub  \n",
       "721  771.726999  \n",
       "722  773.464889  \n",
       "723  753.477440  \n",
       "724  785.611984  \n",
       "725  784.712657  \n",
       "726  766.924168  \n",
       "727  767.622363  "
      ]
     },
     "execution_count": 32,
     "metadata": {},
     "output_type": "execute_result"
    }
   ],
   "source": [
    "statsEgy=statsdcases[(statsdcases['country']=='Egypt') & (statsdcases['year']==2021)]\n",
    "statsEgy #filtering the data concerning Egypt in 2021"
   ]
  },
  {
   "cell_type": "code",
   "execution_count": 33,
   "id": "2f207664",
   "metadata": {},
   "outputs": [
    {
     "data": {
      "text/plain": [
       "MultiIndex([( 'country',          ''),\n",
       "            (    'year',          ''),\n",
       "            ('weekdays',          ''),\n",
       "            (  'dcases',      'mean'),\n",
       "            (  'dcases',       'std'),\n",
       "            (  'dcases',      'size'),\n",
       "            (  'dcases', 'get_ci_lb'),\n",
       "            (  'dcases', 'get_ci_ub')],\n",
       "           )"
      ]
     },
     "execution_count": 33,
     "metadata": {},
     "output_type": "execute_result"
    }
   ],
   "source": [
    "statsEgy.columns"
   ]
  },
  {
   "cell_type": "code",
   "execution_count": 34,
   "id": "c9a92e8e",
   "metadata": {},
   "outputs": [],
   "source": [
    "statsEgy.columns=['country','year','weekdays','mean','std','size','lb','ub']"
   ]
  },
  {
   "cell_type": "markdown",
   "id": "1a4eff0c",
   "metadata": {},
   "source": [
    "The average daily covid cases by weekdays in Egypt."
   ]
  },
  {
   "cell_type": "code",
   "execution_count": 35,
   "id": "92259ace",
   "metadata": {},
   "outputs": [
    {
     "data": {
      "image/png": "[encoded data removed]",
      "text/plain": [
       "<Figure size 432x288 with 1 Axes>"
      ]
     },
     "metadata": {
      "needs_background": "light"
     },
     "output_type": "display_data"
    }
   ],
   "source": [
    "plt.plot( 'weekdays', 'mean', data=statsEgy, marker='s', color='black', markersize=4,     linewidth=1, linestyle='--')\n",
    "plt.plot( 'weekdays', 'mean', data=statsEgy, marker='o', color='black',  markersize=4, linewidth=1,linestyle='-')\n",
    "plt.xlabel(\"weekdays\")\n",
    "plt.ylabel(\"Average Daily COVID CASES\")\n",
    "plt.title(\"Egypt\")\n",
    "plt.show()"
   ]
  },
  {
   "cell_type": "code",
   "execution_count": 36,
   "id": "984e389e",
   "metadata": {},
   "outputs": [
    {
     "data": {
      "image/png": "[encoded data removed]",
      "text/plain": [
       "<Figure size 432x288 with 1 Axes>"
      ]
     },
     "metadata": {
      "needs_background": "light"
     },
     "output_type": "display_data"
    }
   ],
   "source": [
    "ci_lb_ub=[statsEgy['lb'],statsEgy['ub']]\n",
    "err = np.abs(ci_lb_ub - statsEgy['mean'].to_numpy())\n",
    "plt.errorbar('weekdays', 'mean',  yerr=err, data=statsEgy,marker='s', capsize=2,\n",
    "             color='black', markersize=4, linewidth=1, linestyle='--')\n",
    "plt.xlabel(\"weekdays\")\n",
    "plt.ylabel(\"Average Daily COVID CASES\")\n",
    "plt.title(\"Egypt\")\n",
    "plt.show()"
   ]
  },
  {
   "cell_type": "markdown",
   "id": "86ae1173",
   "metadata": {},
   "source": [
    "Comparing between 2020 and 2021"
   ]
  },
  {
   "cell_type": "code",
   "execution_count": 37,
   "id": "a8ea57db",
   "metadata": {},
   "outputs": [
    {
     "data": {
      "text/html": [
       "<div>\n",
       "<style scoped>\n",
       "    .dataframe tbody tr th:only-of-type {\n",
       "        vertical-align: middle;\n",
       "    }\n",
       "\n",
       "    .dataframe tbody tr th {\n",
       "        vertical-align: top;\n",
       "    }\n",
       "\n",
       "    .dataframe thead tr th {\n",
       "        text-align: left;\n",
       "    }\n",
       "</style>\n",
       "<table border=\"1\" class=\"dataframe\">\n",
       "  <thead>\n",
       "    <tr>\n",
       "      <th></th>\n",
       "      <th>country</th>\n",
       "      <th>year</th>\n",
       "      <th>weekdays</th>\n",
       "      <th colspan=\"5\" halign=\"left\">dcases</th>\n",
       "    </tr>\n",
       "    <tr>\n",
       "      <th></th>\n",
       "      <th></th>\n",
       "      <th></th>\n",
       "      <th></th>\n",
       "      <th>mean</th>\n",
       "      <th>std</th>\n",
       "      <th>size</th>\n",
       "      <th>get_ci_lb</th>\n",
       "      <th>get_ci_ub</th>\n",
       "    </tr>\n",
       "  </thead>\n",
       "  <tbody>\n",
       "    <tr>\n",
       "      <th>721</th>\n",
       "      <td>Egypt</td>\n",
       "      <td>2021</td>\n",
       "      <td>Fri</td>\n",
       "      <td>681.188679</td>\n",
       "      <td>328.472810</td>\n",
       "      <td>53.0</td>\n",
       "      <td>590.650360</td>\n",
       "      <td>771.726999</td>\n",
       "    </tr>\n",
       "    <tr>\n",
       "      <th>722</th>\n",
       "      <td>Egypt</td>\n",
       "      <td>2021</td>\n",
       "      <td>Sat</td>\n",
       "      <td>681.019231</td>\n",
       "      <td>332.058434</td>\n",
       "      <td>52.0</td>\n",
       "      <td>588.573573</td>\n",
       "      <td>773.464889</td>\n",
       "    </tr>\n",
       "    <tr>\n",
       "      <th>723</th>\n",
       "      <td>Egypt</td>\n",
       "      <td>2021</td>\n",
       "      <td>Sun</td>\n",
       "      <td>659.038462</td>\n",
       "      <td>339.218303</td>\n",
       "      <td>52.0</td>\n",
       "      <td>564.599483</td>\n",
       "      <td>753.477440</td>\n",
       "    </tr>\n",
       "    <tr>\n",
       "      <th>724</th>\n",
       "      <td>Egypt</td>\n",
       "      <td>2021</td>\n",
       "      <td>Mon</td>\n",
       "      <td>681.942308</td>\n",
       "      <td>372.374333</td>\n",
       "      <td>52.0</td>\n",
       "      <td>578.272632</td>\n",
       "      <td>785.611984</td>\n",
       "    </tr>\n",
       "    <tr>\n",
       "      <th>725</th>\n",
       "      <td>Egypt</td>\n",
       "      <td>2021</td>\n",
       "      <td>Tue</td>\n",
       "      <td>688.538462</td>\n",
       "      <td>345.451081</td>\n",
       "      <td>52.0</td>\n",
       "      <td>592.364266</td>\n",
       "      <td>784.712657</td>\n",
       "    </tr>\n",
       "    <tr>\n",
       "      <th>726</th>\n",
       "      <td>Egypt</td>\n",
       "      <td>2021</td>\n",
       "      <td>Wed</td>\n",
       "      <td>677.692308</td>\n",
       "      <td>320.514693</td>\n",
       "      <td>52.0</td>\n",
       "      <td>588.460448</td>\n",
       "      <td>766.924168</td>\n",
       "    </tr>\n",
       "    <tr>\n",
       "      <th>727</th>\n",
       "      <td>Egypt</td>\n",
       "      <td>2021</td>\n",
       "      <td>Thu</td>\n",
       "      <td>677.346154</td>\n",
       "      <td>324.265921</td>\n",
       "      <td>52.0</td>\n",
       "      <td>587.069945</td>\n",
       "      <td>767.622363</td>\n",
       "    </tr>\n",
       "  </tbody>\n",
       "</table>\n",
       "</div>"
      ],
      "text/plain": [
       "    country  year weekdays      dcases                                \\\n",
       "                                  mean         std  size   get_ci_lb   \n",
       "721   Egypt  2021      Fri  681.188679  328.472810  53.0  590.650360   \n",
       "722   Egypt  2021      Sat  681.019231  332.058434  52.0  588.573573   \n",
       "723   Egypt  2021      Sun  659.038462  339.218303  52.0  564.599483   \n",
       "724   Egypt  2021      Mon  681.942308  372.374333  52.0  578.272632   \n",
       "725   Egypt  2021      Tue  688.538462  345.451081  52.0  592.364266   \n",
       "726   Egypt  2021      Wed  677.692308  320.514693  52.0  588.460448   \n",
       "727   Egypt  2021      Thu  677.346154  324.265921  52.0  587.069945   \n",
       "\n",
       "                 \n",
       "      get_ci_ub  \n",
       "721  771.726999  \n",
       "722  773.464889  \n",
       "723  753.477440  \n",
       "724  785.611984  \n",
       "725  784.712657  \n",
       "726  766.924168  \n",
       "727  767.622363  "
      ]
     },
     "execution_count": 37,
     "metadata": {},
     "output_type": "execute_result"
    }
   ],
   "source": [
    "statsEgy21=statsdcases[(statsdcases['country']=='Egypt')\n",
    "                       & (statsdcases['year']==2021)]\n",
    "statsEgy21"
   ]
  },
  {
   "cell_type": "code",
   "execution_count": 38,
   "id": "69c99164",
   "metadata": {},
   "outputs": [
    {
     "data": {
      "text/html": [
       "<div>\n",
       "<style scoped>\n",
       "    .dataframe tbody tr th:only-of-type {\n",
       "        vertical-align: middle;\n",
       "    }\n",
       "\n",
       "    .dataframe tbody tr th {\n",
       "        vertical-align: top;\n",
       "    }\n",
       "\n",
       "    .dataframe thead tr th {\n",
       "        text-align: left;\n",
       "    }\n",
       "</style>\n",
       "<table border=\"1\" class=\"dataframe\">\n",
       "  <thead>\n",
       "    <tr>\n",
       "      <th></th>\n",
       "      <th>country</th>\n",
       "      <th>year</th>\n",
       "      <th>weekdays</th>\n",
       "      <th colspan=\"5\" halign=\"left\">dcases</th>\n",
       "    </tr>\n",
       "    <tr>\n",
       "      <th></th>\n",
       "      <th></th>\n",
       "      <th></th>\n",
       "      <th></th>\n",
       "      <th>mean</th>\n",
       "      <th>std</th>\n",
       "      <th>size</th>\n",
       "      <th>get_ci_lb</th>\n",
       "      <th>get_ci_ub</th>\n",
       "    </tr>\n",
       "  </thead>\n",
       "  <tbody>\n",
       "    <tr>\n",
       "      <th>714</th>\n",
       "      <td>Egypt</td>\n",
       "      <td>2020</td>\n",
       "      <td>Fri</td>\n",
       "      <td>435.782609</td>\n",
       "      <td>492.233906</td>\n",
       "      <td>46.0</td>\n",
       "      <td>289.607182</td>\n",
       "      <td>581.958035</td>\n",
       "    </tr>\n",
       "    <tr>\n",
       "      <th>715</th>\n",
       "      <td>Egypt</td>\n",
       "      <td>2020</td>\n",
       "      <td>Sat</td>\n",
       "      <td>420.652174</td>\n",
       "      <td>470.933268</td>\n",
       "      <td>46.0</td>\n",
       "      <td>280.802256</td>\n",
       "      <td>560.502092</td>\n",
       "    </tr>\n",
       "    <tr>\n",
       "      <th>716</th>\n",
       "      <td>Egypt</td>\n",
       "      <td>2020</td>\n",
       "      <td>Sun</td>\n",
       "      <td>417.195652</td>\n",
       "      <td>471.579503</td>\n",
       "      <td>46.0</td>\n",
       "      <td>277.153827</td>\n",
       "      <td>557.237478</td>\n",
       "    </tr>\n",
       "    <tr>\n",
       "      <th>717</th>\n",
       "      <td>Egypt</td>\n",
       "      <td>2020</td>\n",
       "      <td>Mon</td>\n",
       "      <td>426.086957</td>\n",
       "      <td>478.249996</td>\n",
       "      <td>46.0</td>\n",
       "      <td>284.064239</td>\n",
       "      <td>568.109674</td>\n",
       "    </tr>\n",
       "    <tr>\n",
       "      <th>718</th>\n",
       "      <td>Egypt</td>\n",
       "      <td>2020</td>\n",
       "      <td>Tue</td>\n",
       "      <td>427.804348</td>\n",
       "      <td>454.462692</td>\n",
       "      <td>46.0</td>\n",
       "      <td>292.845587</td>\n",
       "      <td>562.763108</td>\n",
       "    </tr>\n",
       "    <tr>\n",
       "      <th>719</th>\n",
       "      <td>Egypt</td>\n",
       "      <td>2020</td>\n",
       "      <td>Wed</td>\n",
       "      <td>430.108696</td>\n",
       "      <td>454.125153</td>\n",
       "      <td>46.0</td>\n",
       "      <td>295.250172</td>\n",
       "      <td>564.967219</td>\n",
       "    </tr>\n",
       "    <tr>\n",
       "      <th>720</th>\n",
       "      <td>Egypt</td>\n",
       "      <td>2020</td>\n",
       "      <td>Thu</td>\n",
       "      <td>443.717391</td>\n",
       "      <td>462.180035</td>\n",
       "      <td>46.0</td>\n",
       "      <td>306.466863</td>\n",
       "      <td>580.967920</td>\n",
       "    </tr>\n",
       "  </tbody>\n",
       "</table>\n",
       "</div>"
      ],
      "text/plain": [
       "    country  year weekdays      dcases                                \\\n",
       "                                  mean         std  size   get_ci_lb   \n",
       "714   Egypt  2020      Fri  435.782609  492.233906  46.0  289.607182   \n",
       "715   Egypt  2020      Sat  420.652174  470.933268  46.0  280.802256   \n",
       "716   Egypt  2020      Sun  417.195652  471.579503  46.0  277.153827   \n",
       "717   Egypt  2020      Mon  426.086957  478.249996  46.0  284.064239   \n",
       "718   Egypt  2020      Tue  427.804348  454.462692  46.0  292.845587   \n",
       "719   Egypt  2020      Wed  430.108696  454.125153  46.0  295.250172   \n",
       "720   Egypt  2020      Thu  443.717391  462.180035  46.0  306.466863   \n",
       "\n",
       "                 \n",
       "      get_ci_ub  \n",
       "714  581.958035  \n",
       "715  560.502092  \n",
       "716  557.237478  \n",
       "717  568.109674  \n",
       "718  562.763108  \n",
       "719  564.967219  \n",
       "720  580.967920  "
      ]
     },
     "execution_count": 38,
     "metadata": {},
     "output_type": "execute_result"
    }
   ],
   "source": [
    "statsEgy20=statsdcases[(statsdcases['country']=='Egypt')\n",
    "                       & (statsdcases['year']==2020)]\n",
    "statsEgy20"
   ]
  },
  {
   "cell_type": "code",
   "execution_count": 39,
   "id": "0baa6cb9",
   "metadata": {},
   "outputs": [
    {
     "data": {
      "text/plain": [
       "714    Fri\n",
       "715    Sat\n",
       "716    Sun\n",
       "717    Mon\n",
       "718    Tue\n",
       "719    Wed\n",
       "720    Thu\n",
       "Name: weekdays, dtype: category\n",
       "Categories (7, object): ['Fri' < 'Sat' < 'Sun' < 'Mon' < 'Tue' < 'Wed' < 'Thu']"
      ]
     },
     "execution_count": 39,
     "metadata": {},
     "output_type": "execute_result"
    }
   ],
   "source": [
    "statsEgy20.columns=['country','year','weekdays','mean','std','size','lb','ub']\n",
    "statsEgy21.columns=['country','year','weekdays','mean','std','size','lb','ub']\n",
    "x=statsEgy20['weekdays']\n",
    "x"
   ]
  },
  {
   "cell_type": "code",
   "execution_count": 40,
   "id": "a8c714b9",
   "metadata": {},
   "outputs": [
    {
     "data": {
      "text/plain": [
       "714    435.782609\n",
       "715    420.652174\n",
       "716    417.195652\n",
       "717    426.086957\n",
       "718    427.804348\n",
       "719    430.108696\n",
       "720    443.717391\n",
       "Name: mean, dtype: float64"
      ]
     },
     "execution_count": 40,
     "metadata": {},
     "output_type": "execute_result"
    }
   ],
   "source": [
    "y1=statsEgy20['mean']\n",
    "y1"
   ]
  },
  {
   "cell_type": "code",
   "execution_count": 41,
   "id": "714d7929",
   "metadata": {},
   "outputs": [
    {
     "data": {
      "text/plain": [
       "721    681.188679\n",
       "722    681.019231\n",
       "723    659.038462\n",
       "724    681.942308\n",
       "725    688.538462\n",
       "726    677.692308\n",
       "727    677.346154\n",
       "Name: mean, dtype: float64"
      ]
     },
     "execution_count": 41,
     "metadata": {},
     "output_type": "execute_result"
    }
   ],
   "source": [
    "y2=statsEgy21['mean']\n",
    "y2"
   ]
  },
  {
   "cell_type": "code",
   "execution_count": 42,
   "id": "7e3cdffb",
   "metadata": {},
   "outputs": [],
   "source": [
    "ci_lb_ub20=[statsEgy20['lb'],statsEgy20['ub']]\n",
    "err20 = np.abs(ci_lb_ub20 - statsEgy20['mean'].to_numpy())"
   ]
  },
  {
   "cell_type": "code",
   "execution_count": 43,
   "id": "b89a715e",
   "metadata": {},
   "outputs": [],
   "source": [
    "ci_lb_ub21=[statsEgy21['lb'],statsEgy21['ub']]\n",
    "err21 = np.abs(ci_lb_ub21 - statsEgy21['mean'].to_numpy())"
   ]
  },
  {
   "cell_type": "code",
   "execution_count": 44,
   "id": "0d34b7b2",
   "metadata": {},
   "outputs": [],
   "source": [
    "from matplotlib.transforms import Affine2D"
   ]
  },
  {
   "cell_type": "code",
   "execution_count": 45,
   "id": "637a1e2a",
   "metadata": {},
   "outputs": [
    {
     "data": {
      "image/png": "[encoded data removed]",
      "text/plain": [
       "<Figure size 432x288 with 1 Axes>"
      ]
     },
     "metadata": {
      "needs_background": "light"
     },
     "output_type": "display_data"
    }
   ],
   "source": [
    "fig, ax = plt.subplots()\n",
    "\n",
    "trans1 = Affine2D().translate(-0.1, 0.0) + ax.transData\n",
    "trans2 = Affine2D().translate(+0.1, 0.0) + ax.transData\n",
    "plt.errorbar('weekdays', 'mean',  yerr=err20, data=statsEgy20,marker='s', capsize=2,\n",
    "             color='blue', markersize=4, linewidth=1, linestyle='--',transform=trans1)\n",
    "plt.errorbar('weekdays', 'mean',  yerr=err21, data=statsEgy21,marker='s', capsize=2,\n",
    "             color='red', markersize=4, linewidth=1, linestyle='--',transform=trans2)\n",
    "plt.legend(['2020','2021'])\n",
    "plt.xlabel(\"weekdays\")\n",
    "plt.ylabel(\"Average Daily COVID CASES\")\n",
    "plt.title(\"Egypt\")\n",
    "plt.show()"
   ]
  },
  {
   "cell_type": "markdown",
   "id": "aa94f5ae",
   "metadata": {},
   "source": [
    "Average cases in the year 2021 were generally higher than in 2020 since the virus got more spread and eassily transmitted."
   ]
  },
  {
   "cell_type": "code",
   "execution_count": 46,
   "id": "6a72d82e",
   "metadata": {},
   "outputs": [
    {
     "data": {
      "text/html": [
       "<div>\n",
       "<style scoped>\n",
       "    .dataframe tbody tr th:only-of-type {\n",
       "        vertical-align: middle;\n",
       "    }\n",
       "\n",
       "    .dataframe tbody tr th {\n",
       "        vertical-align: top;\n",
       "    }\n",
       "\n",
       "    .dataframe thead th {\n",
       "        text-align: right;\n",
       "    }\n",
       "</style>\n",
       "<table border=\"1\" class=\"dataframe\">\n",
       "  <thead>\n",
       "    <tr style=\"text-align: right;\">\n",
       "      <th></th>\n",
       "      <th>date</th>\n",
       "      <th>iso3c</th>\n",
       "      <th>country</th>\n",
       "      <th>income</th>\n",
       "      <th>region</th>\n",
       "      <th>continent</th>\n",
       "      <th>dcases</th>\n",
       "      <th>ddeaths</th>\n",
       "      <th>population</th>\n",
       "      <th>weekdays</th>\n",
       "      <th>month</th>\n",
       "      <th>year</th>\n",
       "      <th>fatality rate</th>\n",
       "    </tr>\n",
       "  </thead>\n",
       "  <tbody>\n",
       "    <tr>\n",
       "      <th>0</th>\n",
       "      <td>2/24/2020</td>\n",
       "      <td>AFG</td>\n",
       "      <td>Afghanistan</td>\n",
       "      <td>Low income</td>\n",
       "      <td>South Asia</td>\n",
       "      <td>Asia</td>\n",
       "      <td>5</td>\n",
       "      <td>0</td>\n",
       "      <td>38041754</td>\n",
       "      <td>Mon</td>\n",
       "      <td>Feb</td>\n",
       "      <td>2020</td>\n",
       "      <td>0.000000</td>\n",
       "    </tr>\n",
       "    <tr>\n",
       "      <th>12</th>\n",
       "      <td>3/7/2020</td>\n",
       "      <td>AFG</td>\n",
       "      <td>Afghanistan</td>\n",
       "      <td>Low income</td>\n",
       "      <td>South Asia</td>\n",
       "      <td>Asia</td>\n",
       "      <td>3</td>\n",
       "      <td>0</td>\n",
       "      <td>38041754</td>\n",
       "      <td>Sat</td>\n",
       "      <td>Mar</td>\n",
       "      <td>2020</td>\n",
       "      <td>0.000000</td>\n",
       "    </tr>\n",
       "    <tr>\n",
       "      <th>16</th>\n",
       "      <td>3/11/2020</td>\n",
       "      <td>AFG</td>\n",
       "      <td>Afghanistan</td>\n",
       "      <td>Low income</td>\n",
       "      <td>South Asia</td>\n",
       "      <td>Asia</td>\n",
       "      <td>3</td>\n",
       "      <td>0</td>\n",
       "      <td>38041754</td>\n",
       "      <td>Wed</td>\n",
       "      <td>Mar</td>\n",
       "      <td>2020</td>\n",
       "      <td>0.000000</td>\n",
       "    </tr>\n",
       "    <tr>\n",
       "      <th>19</th>\n",
       "      <td>3/14/2020</td>\n",
       "      <td>AFG</td>\n",
       "      <td>Afghanistan</td>\n",
       "      <td>Low income</td>\n",
       "      <td>South Asia</td>\n",
       "      <td>Asia</td>\n",
       "      <td>3</td>\n",
       "      <td>0</td>\n",
       "      <td>38041754</td>\n",
       "      <td>Sat</td>\n",
       "      <td>Mar</td>\n",
       "      <td>2020</td>\n",
       "      <td>0.000000</td>\n",
       "    </tr>\n",
       "    <tr>\n",
       "      <th>20</th>\n",
       "      <td>3/15/2020</td>\n",
       "      <td>AFG</td>\n",
       "      <td>Afghanistan</td>\n",
       "      <td>Low income</td>\n",
       "      <td>South Asia</td>\n",
       "      <td>Asia</td>\n",
       "      <td>6</td>\n",
       "      <td>0</td>\n",
       "      <td>38041754</td>\n",
       "      <td>Sun</td>\n",
       "      <td>Mar</td>\n",
       "      <td>2020</td>\n",
       "      <td>0.000000</td>\n",
       "    </tr>\n",
       "    <tr>\n",
       "      <th>...</th>\n",
       "      <td>...</td>\n",
       "      <td>...</td>\n",
       "      <td>...</td>\n",
       "      <td>...</td>\n",
       "      <td>...</td>\n",
       "      <td>...</td>\n",
       "      <td>...</td>\n",
       "      <td>...</td>\n",
       "      <td>...</td>\n",
       "      <td>...</td>\n",
       "      <td>...</td>\n",
       "      <td>...</td>\n",
       "      <td>...</td>\n",
       "    </tr>\n",
       "    <tr>\n",
       "      <th>122837</th>\n",
       "      <td>12/26/2021</td>\n",
       "      <td>ZWE</td>\n",
       "      <td>Zimbabwe</td>\n",
       "      <td>Lower middle income</td>\n",
       "      <td>Sub-Saharan Africa</td>\n",
       "      <td>Africa</td>\n",
       "      <td>605</td>\n",
       "      <td>6</td>\n",
       "      <td>14645468</td>\n",
       "      <td>Sun</td>\n",
       "      <td>Dec</td>\n",
       "      <td>2021</td>\n",
       "      <td>0.009917</td>\n",
       "    </tr>\n",
       "    <tr>\n",
       "      <th>122838</th>\n",
       "      <td>12/27/2021</td>\n",
       "      <td>ZWE</td>\n",
       "      <td>Zimbabwe</td>\n",
       "      <td>Lower middle income</td>\n",
       "      <td>Sub-Saharan Africa</td>\n",
       "      <td>Africa</td>\n",
       "      <td>1098</td>\n",
       "      <td>17</td>\n",
       "      <td>14645468</td>\n",
       "      <td>Mon</td>\n",
       "      <td>Dec</td>\n",
       "      <td>2021</td>\n",
       "      <td>0.015483</td>\n",
       "    </tr>\n",
       "    <tr>\n",
       "      <th>122839</th>\n",
       "      <td>12/28/2021</td>\n",
       "      <td>ZWE</td>\n",
       "      <td>Zimbabwe</td>\n",
       "      <td>Lower middle income</td>\n",
       "      <td>Sub-Saharan Africa</td>\n",
       "      <td>Africa</td>\n",
       "      <td>2099</td>\n",
       "      <td>32</td>\n",
       "      <td>14645468</td>\n",
       "      <td>Tue</td>\n",
       "      <td>Dec</td>\n",
       "      <td>2021</td>\n",
       "      <td>0.015245</td>\n",
       "    </tr>\n",
       "    <tr>\n",
       "      <th>122841</th>\n",
       "      <td>12/30/2021</td>\n",
       "      <td>ZWE</td>\n",
       "      <td>Zimbabwe</td>\n",
       "      <td>Lower middle income</td>\n",
       "      <td>Sub-Saharan Africa</td>\n",
       "      <td>Africa</td>\n",
       "      <td>4180</td>\n",
       "      <td>57</td>\n",
       "      <td>14645468</td>\n",
       "      <td>Thu</td>\n",
       "      <td>Dec</td>\n",
       "      <td>2021</td>\n",
       "      <td>0.013636</td>\n",
       "    </tr>\n",
       "    <tr>\n",
       "      <th>122842</th>\n",
       "      <td>12/31/2021</td>\n",
       "      <td>ZWE</td>\n",
       "      <td>Zimbabwe</td>\n",
       "      <td>Lower middle income</td>\n",
       "      <td>Sub-Saharan Africa</td>\n",
       "      <td>Africa</td>\n",
       "      <td>1530</td>\n",
       "      <td>7</td>\n",
       "      <td>14645468</td>\n",
       "      <td>Fri</td>\n",
       "      <td>Dec</td>\n",
       "      <td>2021</td>\n",
       "      <td>0.004575</td>\n",
       "    </tr>\n",
       "  </tbody>\n",
       "</table>\n",
       "<p>97597 rows × 13 columns</p>\n",
       "</div>"
      ],
      "text/plain": [
       "              date iso3c      country               income  \\\n",
       "0        2/24/2020   AFG  Afghanistan           Low income   \n",
       "12        3/7/2020   AFG  Afghanistan           Low income   \n",
       "16       3/11/2020   AFG  Afghanistan           Low income   \n",
       "19       3/14/2020   AFG  Afghanistan           Low income   \n",
       "20       3/15/2020   AFG  Afghanistan           Low income   \n",
       "...            ...   ...          ...                  ...   \n",
       "122837  12/26/2021   ZWE     Zimbabwe  Lower middle income   \n",
       "122838  12/27/2021   ZWE     Zimbabwe  Lower middle income   \n",
       "122839  12/28/2021   ZWE     Zimbabwe  Lower middle income   \n",
       "122841  12/30/2021   ZWE     Zimbabwe  Lower middle income   \n",
       "122842  12/31/2021   ZWE     Zimbabwe  Lower middle income   \n",
       "\n",
       "                    region continent  dcases  ddeaths  population weekdays  \\\n",
       "0               South Asia      Asia       5        0    38041754      Mon   \n",
       "12              South Asia      Asia       3        0    38041754      Sat   \n",
       "16              South Asia      Asia       3        0    38041754      Wed   \n",
       "19              South Asia      Asia       3        0    38041754      Sat   \n",
       "20              South Asia      Asia       6        0    38041754      Sun   \n",
       "...                    ...       ...     ...      ...         ...      ...   \n",
       "122837  Sub-Saharan Africa    Africa     605        6    14645468      Sun   \n",
       "122838  Sub-Saharan Africa    Africa    1098       17    14645468      Mon   \n",
       "122839  Sub-Saharan Africa    Africa    2099       32    14645468      Tue   \n",
       "122841  Sub-Saharan Africa    Africa    4180       57    14645468      Thu   \n",
       "122842  Sub-Saharan Africa    Africa    1530        7    14645468      Fri   \n",
       "\n",
       "       month  year  fatality rate  \n",
       "0        Feb  2020       0.000000  \n",
       "12       Mar  2020       0.000000  \n",
       "16       Mar  2020       0.000000  \n",
       "19       Mar  2020       0.000000  \n",
       "20       Mar  2020       0.000000  \n",
       "...      ...   ...            ...  \n",
       "122837   Dec  2021       0.009917  \n",
       "122838   Dec  2021       0.015483  \n",
       "122839   Dec  2021       0.015245  \n",
       "122841   Dec  2021       0.013636  \n",
       "122842   Dec  2021       0.004575  \n",
       "\n",
       "[97597 rows x 13 columns]"
      ]
     },
     "execution_count": 46,
     "metadata": {},
     "output_type": "execute_result"
    }
   ],
   "source": [
    " ratio=dy['ddeaths']/dy['dcases']\n",
    "dy['fatality rate']=ratio\n",
    "dy=dy.replace([np.inf, -np.inf], np.nan).dropna(axis=0)\n",
    "dy"
   ]
  },
  {
   "cell_type": "markdown",
   "id": "0bcc6645",
   "metadata": {},
   "source": [
    "### Fatality rate is the number of deaths divided by the number of cases. A high fatality rate mmans a large number of the people who got the virus died from it. A low fatlity rate means a low number of deaths from the people who got affected."
   ]
  },
  {
   "cell_type": "code",
   "execution_count": 47,
   "id": "6e6ec9ca",
   "metadata": {},
   "outputs": [
    {
     "data": {
      "text/html": [
       "<div>\n",
       "<style scoped>\n",
       "    .dataframe tbody tr th:only-of-type {\n",
       "        vertical-align: middle;\n",
       "    }\n",
       "\n",
       "    .dataframe tbody tr th {\n",
       "        vertical-align: top;\n",
       "    }\n",
       "\n",
       "    .dataframe thead tr th {\n",
       "        text-align: left;\n",
       "    }\n",
       "</style>\n",
       "<table border=\"1\" class=\"dataframe\">\n",
       "  <thead>\n",
       "    <tr>\n",
       "      <th></th>\n",
       "      <th>continent</th>\n",
       "      <th>year</th>\n",
       "      <th colspan=\"5\" halign=\"left\">fatality rate</th>\n",
       "    </tr>\n",
       "    <tr>\n",
       "      <th></th>\n",
       "      <th></th>\n",
       "      <th></th>\n",
       "      <th>mean</th>\n",
       "      <th>std</th>\n",
       "      <th>size</th>\n",
       "      <th>get_ci_lb</th>\n",
       "      <th>get_ci_ub</th>\n",
       "    </tr>\n",
       "  </thead>\n",
       "  <tbody>\n",
       "    <tr>\n",
       "      <th>0</th>\n",
       "      <td>Africa</td>\n",
       "      <td>2020</td>\n",
       "      <td>0.028318</td>\n",
       "      <td>0.097518</td>\n",
       "      <td>10557</td>\n",
       "      <td>0.026458</td>\n",
       "      <td>0.030179</td>\n",
       "    </tr>\n",
       "    <tr>\n",
       "      <th>1</th>\n",
       "      <td>Africa</td>\n",
       "      <td>2021</td>\n",
       "      <td>0.033592</td>\n",
       "      <td>0.128916</td>\n",
       "      <td>13666</td>\n",
       "      <td>0.031430</td>\n",
       "      <td>0.035753</td>\n",
       "    </tr>\n",
       "    <tr>\n",
       "      <th>2</th>\n",
       "      <td>Asia</td>\n",
       "      <td>2020</td>\n",
       "      <td>0.024008</td>\n",
       "      <td>0.091818</td>\n",
       "      <td>11902</td>\n",
       "      <td>0.022358</td>\n",
       "      <td>0.025657</td>\n",
       "    </tr>\n",
       "    <tr>\n",
       "      <th>3</th>\n",
       "      <td>Asia</td>\n",
       "      <td>2021</td>\n",
       "      <td>0.024049</td>\n",
       "      <td>0.102663</td>\n",
       "      <td>15521</td>\n",
       "      <td>0.022434</td>\n",
       "      <td>0.025665</td>\n",
       "    </tr>\n",
       "    <tr>\n",
       "      <th>4</th>\n",
       "      <td>Europe</td>\n",
       "      <td>2020</td>\n",
       "      <td>0.039555</td>\n",
       "      <td>0.127914</td>\n",
       "      <td>11960</td>\n",
       "      <td>0.037263</td>\n",
       "      <td>0.041848</td>\n",
       "    </tr>\n",
       "    <tr>\n",
       "      <th>5</th>\n",
       "      <td>Europe</td>\n",
       "      <td>2021</td>\n",
       "      <td>0.027052</td>\n",
       "      <td>0.126590</td>\n",
       "      <td>14411</td>\n",
       "      <td>0.024985</td>\n",
       "      <td>0.029119</td>\n",
       "    </tr>\n",
       "    <tr>\n",
       "      <th>6</th>\n",
       "      <td>North America(continent)</td>\n",
       "      <td>2020</td>\n",
       "      <td>0.034215</td>\n",
       "      <td>0.099669</td>\n",
       "      <td>4412</td>\n",
       "      <td>0.031273</td>\n",
       "      <td>0.037157</td>\n",
       "    </tr>\n",
       "    <tr>\n",
       "      <th>7</th>\n",
       "      <td>North America(continent)</td>\n",
       "      <td>2021</td>\n",
       "      <td>0.029106</td>\n",
       "      <td>0.131691</td>\n",
       "      <td>5980</td>\n",
       "      <td>0.025767</td>\n",
       "      <td>0.032444</td>\n",
       "    </tr>\n",
       "    <tr>\n",
       "      <th>8</th>\n",
       "      <td>Oceania</td>\n",
       "      <td>2020</td>\n",
       "      <td>0.034105</td>\n",
       "      <td>0.113399</td>\n",
       "      <td>652</td>\n",
       "      <td>0.025385</td>\n",
       "      <td>0.042826</td>\n",
       "    </tr>\n",
       "    <tr>\n",
       "      <th>9</th>\n",
       "      <td>Oceania</td>\n",
       "      <td>2021</td>\n",
       "      <td>0.011527</td>\n",
       "      <td>0.069382</td>\n",
       "      <td>1081</td>\n",
       "      <td>0.007386</td>\n",
       "      <td>0.015668</td>\n",
       "    </tr>\n",
       "    <tr>\n",
       "      <th>10</th>\n",
       "      <td>South America(continent)</td>\n",
       "      <td>2020</td>\n",
       "      <td>0.043354</td>\n",
       "      <td>0.105435</td>\n",
       "      <td>3331</td>\n",
       "      <td>0.039772</td>\n",
       "      <td>0.046936</td>\n",
       "    </tr>\n",
       "    <tr>\n",
       "      <th>11</th>\n",
       "      <td>South America(continent)</td>\n",
       "      <td>2021</td>\n",
       "      <td>0.034072</td>\n",
       "      <td>0.102934</td>\n",
       "      <td>4124</td>\n",
       "      <td>0.030930</td>\n",
       "      <td>0.037215</td>\n",
       "    </tr>\n",
       "  </tbody>\n",
       "</table>\n",
       "</div>"
      ],
      "text/plain": [
       "                   continent  year fatality rate                             \\\n",
       "                                            mean       std   size get_ci_lb   \n",
       "0                     Africa  2020      0.028318  0.097518  10557  0.026458   \n",
       "1                     Africa  2021      0.033592  0.128916  13666  0.031430   \n",
       "2                       Asia  2020      0.024008  0.091818  11902  0.022358   \n",
       "3                       Asia  2021      0.024049  0.102663  15521  0.022434   \n",
       "4                     Europe  2020      0.039555  0.127914  11960  0.037263   \n",
       "5                     Europe  2021      0.027052  0.126590  14411  0.024985   \n",
       "6   North America(continent)  2020      0.034215  0.099669   4412  0.031273   \n",
       "7   North America(continent)  2021      0.029106  0.131691   5980  0.025767   \n",
       "8                    Oceania  2020      0.034105  0.113399    652  0.025385   \n",
       "9                    Oceania  2021      0.011527  0.069382   1081  0.007386   \n",
       "10  South America(continent)  2020      0.043354  0.105435   3331  0.039772   \n",
       "11  South America(continent)  2021      0.034072  0.102934   4124  0.030930   \n",
       "\n",
       "              \n",
       "   get_ci_ub  \n",
       "0   0.030179  \n",
       "1   0.035753  \n",
       "2   0.025657  \n",
       "3   0.025665  \n",
       "4   0.041848  \n",
       "5   0.029119  \n",
       "6   0.037157  \n",
       "7   0.032444  \n",
       "8   0.042826  \n",
       "9   0.015668  \n",
       "10  0.046936  \n",
       "11  0.037215  "
      ]
     },
     "execution_count": 47,
     "metadata": {},
     "output_type": "execute_result"
    }
   ],
   "source": [
    " cont=dy.groupby(['continent','year']).agg({\"fatality rate\": [np.mean, np.std, np.size,get_ci_lb,get_ci_ub]})\n",
    "cont=cont.reset_index()\n",
    "cont= pd.DataFrame(cont)\n",
    "cont\n",
    "\n"
   ]
  },
  {
   "cell_type": "code",
   "execution_count": 48,
   "id": "03baea82",
   "metadata": {},
   "outputs": [
    {
     "data": {
      "text/html": [
       "<div>\n",
       "<style scoped>\n",
       "    .dataframe tbody tr th:only-of-type {\n",
       "        vertical-align: middle;\n",
       "    }\n",
       "\n",
       "    .dataframe tbody tr th {\n",
       "        vertical-align: top;\n",
       "    }\n",
       "\n",
       "    .dataframe thead tr th {\n",
       "        text-align: left;\n",
       "    }\n",
       "</style>\n",
       "<table border=\"1\" class=\"dataframe\">\n",
       "  <thead>\n",
       "    <tr>\n",
       "      <th></th>\n",
       "      <th>region</th>\n",
       "      <th>year</th>\n",
       "      <th colspan=\"5\" halign=\"left\">fatality rate</th>\n",
       "    </tr>\n",
       "    <tr>\n",
       "      <th></th>\n",
       "      <th></th>\n",
       "      <th></th>\n",
       "      <th>mean</th>\n",
       "      <th>std</th>\n",
       "      <th>size</th>\n",
       "      <th>get_ci_lb</th>\n",
       "      <th>get_ci_ub</th>\n",
       "    </tr>\n",
       "  </thead>\n",
       "  <tbody>\n",
       "    <tr>\n",
       "      <th>0</th>\n",
       "      <td>East Asia &amp; Pacific</td>\n",
       "      <td>2020</td>\n",
       "      <td>0.026686</td>\n",
       "      <td>0.098206</td>\n",
       "      <td>3971</td>\n",
       "      <td>0.023631</td>\n",
       "      <td>0.029742</td>\n",
       "    </tr>\n",
       "    <tr>\n",
       "      <th>1</th>\n",
       "      <td>East Asia &amp; Pacific</td>\n",
       "      <td>2021</td>\n",
       "      <td>0.017356</td>\n",
       "      <td>0.071641</td>\n",
       "      <td>6133</td>\n",
       "      <td>0.015563</td>\n",
       "      <td>0.019149</td>\n",
       "    </tr>\n",
       "    <tr>\n",
       "      <th>2</th>\n",
       "      <td>Europe &amp; Central Asia</td>\n",
       "      <td>2020</td>\n",
       "      <td>0.035287</td>\n",
       "      <td>0.117588</td>\n",
       "      <td>14216</td>\n",
       "      <td>0.033354</td>\n",
       "      <td>0.037220</td>\n",
       "    </tr>\n",
       "    <tr>\n",
       "      <th>3</th>\n",
       "      <td>Europe &amp; Central Asia</td>\n",
       "      <td>2021</td>\n",
       "      <td>0.026095</td>\n",
       "      <td>0.120581</td>\n",
       "      <td>16996</td>\n",
       "      <td>0.024282</td>\n",
       "      <td>0.027908</td>\n",
       "    </tr>\n",
       "    <tr>\n",
       "      <th>4</th>\n",
       "      <td>Latin America &amp; Caribbean</td>\n",
       "      <td>2020</td>\n",
       "      <td>0.038925</td>\n",
       "      <td>0.106369</td>\n",
       "      <td>7101</td>\n",
       "      <td>0.036450</td>\n",
       "      <td>0.041399</td>\n",
       "    </tr>\n",
       "    <tr>\n",
       "      <th>5</th>\n",
       "      <td>Latin America &amp; Caribbean</td>\n",
       "      <td>2021</td>\n",
       "      <td>0.032524</td>\n",
       "      <td>0.125291</td>\n",
       "      <td>9374</td>\n",
       "      <td>0.029988</td>\n",
       "      <td>0.035061</td>\n",
       "    </tr>\n",
       "    <tr>\n",
       "      <th>6</th>\n",
       "      <td>Middle East &amp; North Africa</td>\n",
       "      <td>2020</td>\n",
       "      <td>0.033866</td>\n",
       "      <td>0.115923</td>\n",
       "      <td>5820</td>\n",
       "      <td>0.030887</td>\n",
       "      <td>0.036845</td>\n",
       "    </tr>\n",
       "    <tr>\n",
       "      <th>7</th>\n",
       "      <td>Middle East &amp; North Africa</td>\n",
       "      <td>2021</td>\n",
       "      <td>0.031742</td>\n",
       "      <td>0.103973</td>\n",
       "      <td>7181</td>\n",
       "      <td>0.029337</td>\n",
       "      <td>0.034147</td>\n",
       "    </tr>\n",
       "    <tr>\n",
       "      <th>8</th>\n",
       "      <td>North America(region)</td>\n",
       "      <td>2020</td>\n",
       "      <td>0.029540</td>\n",
       "      <td>0.030874</td>\n",
       "      <td>642</td>\n",
       "      <td>0.027147</td>\n",
       "      <td>0.031933</td>\n",
       "    </tr>\n",
       "    <tr>\n",
       "      <th>9</th>\n",
       "      <td>North America(region)</td>\n",
       "      <td>2021</td>\n",
       "      <td>0.013263</td>\n",
       "      <td>0.008370</td>\n",
       "      <td>730</td>\n",
       "      <td>0.012655</td>\n",
       "      <td>0.013872</td>\n",
       "    </tr>\n",
       "    <tr>\n",
       "      <th>10</th>\n",
       "      <td>South Asia</td>\n",
       "      <td>2020</td>\n",
       "      <td>0.018443</td>\n",
       "      <td>0.037943</td>\n",
       "      <td>2115</td>\n",
       "      <td>0.016826</td>\n",
       "      <td>0.020061</td>\n",
       "    </tr>\n",
       "    <tr>\n",
       "      <th>11</th>\n",
       "      <td>South Asia</td>\n",
       "      <td>2021</td>\n",
       "      <td>0.025788</td>\n",
       "      <td>0.135790</td>\n",
       "      <td>2732</td>\n",
       "      <td>0.020694</td>\n",
       "      <td>0.030882</td>\n",
       "    </tr>\n",
       "    <tr>\n",
       "      <th>12</th>\n",
       "      <td>Sub-Saharan Africa</td>\n",
       "      <td>2020</td>\n",
       "      <td>0.026405</td>\n",
       "      <td>0.099908</td>\n",
       "      <td>8949</td>\n",
       "      <td>0.024334</td>\n",
       "      <td>0.028475</td>\n",
       "    </tr>\n",
       "    <tr>\n",
       "      <th>13</th>\n",
       "      <td>Sub-Saharan Africa</td>\n",
       "      <td>2021</td>\n",
       "      <td>0.033196</td>\n",
       "      <td>0.137515</td>\n",
       "      <td>11637</td>\n",
       "      <td>0.030697</td>\n",
       "      <td>0.035695</td>\n",
       "    </tr>\n",
       "  </tbody>\n",
       "</table>\n",
       "</div>"
      ],
      "text/plain": [
       "                        region  year fatality rate                             \\\n",
       "                                              mean       std   size get_ci_lb   \n",
       "0          East Asia & Pacific  2020      0.026686  0.098206   3971  0.023631   \n",
       "1          East Asia & Pacific  2021      0.017356  0.071641   6133  0.015563   \n",
       "2        Europe & Central Asia  2020      0.035287  0.117588  14216  0.033354   \n",
       "3        Europe & Central Asia  2021      0.026095  0.120581  16996  0.024282   \n",
       "4    Latin America & Caribbean  2020      0.038925  0.106369   7101  0.036450   \n",
       "5    Latin America & Caribbean  2021      0.032524  0.125291   9374  0.029988   \n",
       "6   Middle East & North Africa  2020      0.033866  0.115923   5820  0.030887   \n",
       "7   Middle East & North Africa  2021      0.031742  0.103973   7181  0.029337   \n",
       "8        North America(region)  2020      0.029540  0.030874    642  0.027147   \n",
       "9        North America(region)  2021      0.013263  0.008370    730  0.012655   \n",
       "10                  South Asia  2020      0.018443  0.037943   2115  0.016826   \n",
       "11                  South Asia  2021      0.025788  0.135790   2732  0.020694   \n",
       "12          Sub-Saharan Africa  2020      0.026405  0.099908   8949  0.024334   \n",
       "13          Sub-Saharan Africa  2021      0.033196  0.137515  11637  0.030697   \n",
       "\n",
       "              \n",
       "   get_ci_ub  \n",
       "0   0.029742  \n",
       "1   0.019149  \n",
       "2   0.037220  \n",
       "3   0.027908  \n",
       "4   0.041399  \n",
       "5   0.035061  \n",
       "6   0.036845  \n",
       "7   0.034147  \n",
       "8   0.031933  \n",
       "9   0.013872  \n",
       "10  0.020061  \n",
       "11  0.030882  \n",
       "12  0.028475  \n",
       "13  0.035695  "
      ]
     },
     "execution_count": 48,
     "metadata": {},
     "output_type": "execute_result"
    }
   ],
   "source": [
    "region=dy.groupby(['region','year']).agg({\"fatality rate\": [np.mean, np.std, np.size,get_ci_lb,get_ci_ub]})\n",
    "region=region.reset_index()\n",
    "region= pd.DataFrame(region)\n",
    "region"
   ]
  },
  {
   "cell_type": "code",
   "execution_count": 49,
   "id": "6c869410",
   "metadata": {},
   "outputs": [
    {
     "data": {
      "text/html": [
       "<div>\n",
       "<style scoped>\n",
       "    .dataframe tbody tr th:only-of-type {\n",
       "        vertical-align: middle;\n",
       "    }\n",
       "\n",
       "    .dataframe tbody tr th {\n",
       "        vertical-align: top;\n",
       "    }\n",
       "\n",
       "    .dataframe thead tr th {\n",
       "        text-align: left;\n",
       "    }\n",
       "</style>\n",
       "<table border=\"1\" class=\"dataframe\">\n",
       "  <thead>\n",
       "    <tr>\n",
       "      <th></th>\n",
       "      <th>income</th>\n",
       "      <th>year</th>\n",
       "      <th colspan=\"5\" halign=\"left\">fatality rate</th>\n",
       "    </tr>\n",
       "    <tr>\n",
       "      <th></th>\n",
       "      <th></th>\n",
       "      <th></th>\n",
       "      <th>mean</th>\n",
       "      <th>std</th>\n",
       "      <th>size</th>\n",
       "      <th>get_ci_lb</th>\n",
       "      <th>get_ci_ub</th>\n",
       "    </tr>\n",
       "  </thead>\n",
       "  <tbody>\n",
       "    <tr>\n",
       "      <th>0</th>\n",
       "      <td>High income</td>\n",
       "      <td>2020</td>\n",
       "      <td>0.034568</td>\n",
       "      <td>0.124601</td>\n",
       "      <td>14860</td>\n",
       "      <td>0.032564</td>\n",
       "      <td>0.036572</td>\n",
       "    </tr>\n",
       "    <tr>\n",
       "      <th>1</th>\n",
       "      <td>High income</td>\n",
       "      <td>2021</td>\n",
       "      <td>0.015613</td>\n",
       "      <td>0.090810</td>\n",
       "      <td>18514</td>\n",
       "      <td>0.014305</td>\n",
       "      <td>0.016921</td>\n",
       "    </tr>\n",
       "    <tr>\n",
       "      <th>2</th>\n",
       "      <td>Low income</td>\n",
       "      <td>2020</td>\n",
       "      <td>0.038623</td>\n",
       "      <td>0.138915</td>\n",
       "      <td>5844</td>\n",
       "      <td>0.035061</td>\n",
       "      <td>0.042185</td>\n",
       "    </tr>\n",
       "    <tr>\n",
       "      <th>3</th>\n",
       "      <td>Low income</td>\n",
       "      <td>2021</td>\n",
       "      <td>0.043604</td>\n",
       "      <td>0.163124</td>\n",
       "      <td>7113</td>\n",
       "      <td>0.039813</td>\n",
       "      <td>0.047396</td>\n",
       "    </tr>\n",
       "    <tr>\n",
       "      <th>4</th>\n",
       "      <td>Lower middle income</td>\n",
       "      <td>2020</td>\n",
       "      <td>0.026722</td>\n",
       "      <td>0.084758</td>\n",
       "      <td>9373</td>\n",
       "      <td>0.025005</td>\n",
       "      <td>0.028438</td>\n",
       "    </tr>\n",
       "    <tr>\n",
       "      <th>5</th>\n",
       "      <td>Lower middle income</td>\n",
       "      <td>2021</td>\n",
       "      <td>0.031586</td>\n",
       "      <td>0.119050</td>\n",
       "      <td>12745</td>\n",
       "      <td>0.029518</td>\n",
       "      <td>0.033653</td>\n",
       "    </tr>\n",
       "    <tr>\n",
       "      <th>6</th>\n",
       "      <td>Upper middle income</td>\n",
       "      <td>2020</td>\n",
       "      <td>0.030269</td>\n",
       "      <td>0.077354</td>\n",
       "      <td>12737</td>\n",
       "      <td>0.028925</td>\n",
       "      <td>0.031612</td>\n",
       "    </tr>\n",
       "    <tr>\n",
       "      <th>7</th>\n",
       "      <td>Upper middle income</td>\n",
       "      <td>2021</td>\n",
       "      <td>0.033358</td>\n",
       "      <td>0.122827</td>\n",
       "      <td>16411</td>\n",
       "      <td>0.031479</td>\n",
       "      <td>0.035238</td>\n",
       "    </tr>\n",
       "  </tbody>\n",
       "</table>\n",
       "</div>"
      ],
      "text/plain": [
       "                income  year fatality rate                             \\\n",
       "                                      mean       std   size get_ci_lb   \n",
       "0          High income  2020      0.034568  0.124601  14860  0.032564   \n",
       "1          High income  2021      0.015613  0.090810  18514  0.014305   \n",
       "2           Low income  2020      0.038623  0.138915   5844  0.035061   \n",
       "3           Low income  2021      0.043604  0.163124   7113  0.039813   \n",
       "4  Lower middle income  2020      0.026722  0.084758   9373  0.025005   \n",
       "5  Lower middle income  2021      0.031586  0.119050  12745  0.029518   \n",
       "6  Upper middle income  2020      0.030269  0.077354  12737  0.028925   \n",
       "7  Upper middle income  2021      0.033358  0.122827  16411  0.031479   \n",
       "\n",
       "             \n",
       "  get_ci_ub  \n",
       "0  0.036572  \n",
       "1  0.016921  \n",
       "2  0.042185  \n",
       "3  0.047396  \n",
       "4  0.028438  \n",
       "5  0.033653  \n",
       "6  0.031612  \n",
       "7  0.035238  "
      ]
     },
     "execution_count": 49,
     "metadata": {},
     "output_type": "execute_result"
    }
   ],
   "source": [
    " income=dy.groupby(['income','year']).agg({\"fatality rate\": [np.mean, np.std, np.size,get_ci_lb,get_ci_ub]})\n",
    "income=income.reset_index()\n",
    "income= pd.DataFrame(income)\n",
    "income"
   ]
  },
  {
   "cell_type": "code",
   "execution_count": 50,
   "id": "5f04f1a2",
   "metadata": {},
   "outputs": [],
   "source": [
    "income20=income[(income['year']==2020)]\n",
    "income21=income[(income['year']==2021)]\n",
    "income20.columns\n",
    "income20.columns=['continent','year','mean','std','size','get_ci_lb','get_ci_ub']\n",
    "income21.columns\n",
    "income21.columns=['continent','year','mean','std','size','get_ci_lb','get_ci_ub']\n"
   ]
  },
  {
   "cell_type": "code",
   "execution_count": 51,
   "id": "3d6d66e8",
   "metadata": {},
   "outputs": [
    {
     "data": {
      "text/plain": [
       "Text(0.5, 1.0, 'Income 2020')"
      ]
     },
     "execution_count": 51,
     "metadata": {},
     "output_type": "execute_result"
    },
    {
     "data": {
      "image/png": "[encoded data removed]",
      "text/plain": [
       "<Figure size 432x288 with 1 Axes>"
      ]
     },
     "metadata": {
      "needs_background": "light"
     },
     "output_type": "display_data"
    }
   ],
   "source": [
    " import matplotlib.pyplot as plt\n",
    "for lb,ub,y in zip(income20['get_ci_lb'],income20['get_ci_ub'],range(len(income20))):\n",
    "    plt.plot((lb,ub),(y,y),'ro-')\n",
    "plt.yticks(range(len(income20)),list(income20['continent']))\n",
    "plt.xlabel(\"Ratio\")\n",
    "plt.ylabel(\"Income\")\n",
    "plt.title(\"Income 2020\")"
   ]
  },
  {
   "cell_type": "markdown",
   "id": "5f2cb817",
   "metadata": {},
   "source": [
    "### High income people have the lowest fatality rate meaning they have the smallest number of deaths compared to the number of cases.This may beacuase they have access to the best healthcare so they are able to better treat themselves when they have covid. Alternatively, people with low income have the highest death rate(fatality rate) compared to the cases affected since they have no access to healthcare."
   ]
  },
  {
   "cell_type": "code",
   "execution_count": 52,
   "id": "6724760b",
   "metadata": {},
   "outputs": [
    {
     "data": {
      "text/plain": [
       "Text(0.5, 1.0, 'Income 2021')"
      ]
     },
     "execution_count": 52,
     "metadata": {},
     "output_type": "execute_result"
    },
    {
     "data": {
      "image/png": "[encoded data removed]",
      "text/plain": [
       "<Figure size 432x288 with 1 Axes>"
      ]
     },
     "metadata": {
      "needs_background": "light"
     },
     "output_type": "display_data"
    }
   ],
   "source": [
    " import matplotlib.pyplot as plt\n",
    "for lb,ub,y in zip(income21['get_ci_lb'],income21['get_ci_ub'],range(len(income21))):\n",
    "    plt.plot((lb,ub),(y,y),'ro-')\n",
    "plt.yticks(range(len(income21)),list(income21['continent']))\n",
    "plt.xlabel(\"fatality rate\")\n",
    "plt.ylabel(\"Income\")\n",
    "plt.title(\"Income 2021\")\n"
   ]
  },
  {
   "cell_type": "code",
   "execution_count": 53,
   "id": "36676eb0",
   "metadata": {},
   "outputs": [],
   "source": [
    "cont20=cont[(cont['year']==2020)]\n",
    "cont21=cont[(cont['year']==2021)]\n",
    "cont20.columns\n",
    "cont20.columns=['continent','year','mean','std','size','get_ci_lb','get_ci_ub']\n",
    "cont21.columns\n",
    "cont21.columns=['continent','year','mean','std','size','get_ci_lb','get_ci_ub']"
   ]
  },
  {
   "cell_type": "code",
   "execution_count": 54,
   "id": "cbfcda72",
   "metadata": {},
   "outputs": [
    {
     "data": {
      "text/plain": [
       "Text(0.5, 1.0, 'Continents 2021')"
      ]
     },
     "execution_count": 54,
     "metadata": {},
     "output_type": "execute_result"
    },
    {
     "data": {
      "image/png": "[encoded data removed]",
      "text/plain": [
       "<Figure size 432x288 with 1 Axes>"
      ]
     },
     "metadata": {
      "needs_background": "light"
     },
     "output_type": "display_data"
    }
   ],
   "source": [
    "import matplotlib.pyplot as plt\n",
    "for lb,ub,y in zip(cont21['get_ci_lb'],cont21['get_ci_ub'],range(len(cont))):\n",
    "    plt.plot((lb,ub),(y,y),'ro-')\n",
    "plt.yticks(range(len(cont21)),list(cont21['continent']))\n",
    "plt.xlabel(\"fatality rate\")\n",
    "plt.ylabel(\"Continent\")\n",
    "plt.title(\"Continents 2021\")\n",
    "\n"
   ]
  },
  {
   "cell_type": "code",
   "execution_count": 55,
   "id": "e3af7de5",
   "metadata": {},
   "outputs": [
    {
     "data": {
      "text/plain": [
       "Text(0.5, 1.0, 'Continents 2020')"
      ]
     },
     "execution_count": 55,
     "metadata": {},
     "output_type": "execute_result"
    },
    {
     "data": {
      "image/png": "[encoded data removed]",
      "text/plain": [
       "<Figure size 432x288 with 1 Axes>"
      ]
     },
     "metadata": {
      "needs_background": "light"
     },
     "output_type": "display_data"
    }
   ],
   "source": [
    "import matplotlib.pyplot as plt\n",
    "for lb,ub,y in zip(cont20['get_ci_lb'],cont20['get_ci_ub'],range(len(cont))):\n",
    "    plt.plot((lb,ub),(y,y),'ro-')\n",
    "plt.yticks(range(len(cont20)),list(cont20['continent']))\n",
    "plt.xlabel(\"fatality rate\")\n",
    "plt.ylabel(\"Continent\")\n",
    "plt.title(\"Continents 2020\")\n",
    "\n"
   ]
  },
  {
   "cell_type": "code",
   "execution_count": 56,
   "id": "a7e4d940",
   "metadata": {},
   "outputs": [],
   "source": [
    "region20=region[(region['year']==2020)]\n",
    "region21=region[(region['year']==2021)]\n",
    "region20.columns\n",
    "region20.columns=['continent','year','mean','std','size','get_ci_lb','get_ci_ub']\n",
    "region21.columns\n",
    "region21.columns=['continent','year','mean','std','size','get_ci_lb','get_ci_ub']\n"
   ]
  },
  {
   "cell_type": "code",
   "execution_count": 57,
   "id": "71c9effd",
   "metadata": {},
   "outputs": [
    {
     "data": {
      "text/plain": [
       "Text(0.5, 1.0, 'Regions 2020')"
      ]
     },
     "execution_count": 57,
     "metadata": {},
     "output_type": "execute_result"
    },
    {
     "data": {
      "image/png": "[encoded data removed]",
      "text/plain": [
       "<Figure size 432x288 with 1 Axes>"
      ]
     },
     "metadata": {
      "needs_background": "light"
     },
     "output_type": "display_data"
    }
   ],
   "source": [
    " import matplotlib.pyplot as plt\n",
    "for lb,ub,y in zip(region20['get_ci_lb'],region20['get_ci_ub'],range(len(region20))):\n",
    "    plt.plot((lb,ub),(y,y),'ro-')\n",
    "plt.yticks(range(len(region20)),list(region20['continent']))\n",
    "plt.xlabel(\"fatality rate\")\n",
    "plt.ylabel(\"Region\")\n",
    "plt.title(\"Regions 2020\")"
   ]
  },
  {
   "cell_type": "code",
   "execution_count": 58,
   "id": "4a99513b",
   "metadata": {},
   "outputs": [
    {
     "data": {
      "text/plain": [
       "Text(0.5, 1.0, 'Regions 2021')"
      ]
     },
     "execution_count": 58,
     "metadata": {},
     "output_type": "execute_result"
    },
    {
     "data": {
      "image/png": "[encoded data removed]",
      "text/plain": [
       "<Figure size 432x288 with 1 Axes>"
      ]
     },
     "metadata": {
      "needs_background": "light"
     },
     "output_type": "display_data"
    }
   ],
   "source": [
    " import matplotlib.pyplot as plt\n",
    "for lb,ub,y in zip(region21['get_ci_lb'],region21['get_ci_ub'],range(len(region21))):\n",
    "    plt.plot((lb,ub),(y,y),'ro-')\n",
    "plt.yticks(range(len(region21)),list(region21['continent']))\n",
    "plt.xlabel(\"fatality rate\")\n",
    "plt.ylabel(\"Region\")\n",
    "plt.title(\"Regions 2021\")\n"
   ]
  },
  {
   "cell_type": "code",
   "execution_count": 59,
   "id": "904adacf",
   "metadata": {},
   "outputs": [],
   "source": [
    "stats=dy.groupby(\"continent\").agg({\"ddeaths\": [np.mean, np.std, np.size]})\n",
    "stats\n",
    "import numpy as np\n"
   ]
  },
  {
   "cell_type": "code",
   "execution_count": 60,
   "id": "15fbc777",
   "metadata": {},
   "outputs": [
    {
     "data": {
      "text/html": [
       "<div>\n",
       "<style scoped>\n",
       "    .dataframe tbody tr th:only-of-type {\n",
       "        vertical-align: middle;\n",
       "    }\n",
       "\n",
       "    .dataframe tbody tr th {\n",
       "        vertical-align: top;\n",
       "    }\n",
       "\n",
       "    .dataframe thead tr th {\n",
       "        text-align: left;\n",
       "    }\n",
       "\n",
       "    .dataframe thead tr:last-of-type th {\n",
       "        text-align: right;\n",
       "    }\n",
       "</style>\n",
       "<table border=\"1\" class=\"dataframe\">\n",
       "  <thead>\n",
       "    <tr>\n",
       "      <th></th>\n",
       "      <th colspan=\"3\" halign=\"left\">ddeaths</th>\n",
       "    </tr>\n",
       "    <tr>\n",
       "      <th></th>\n",
       "      <th>mean</th>\n",
       "      <th>std</th>\n",
       "      <th>size</th>\n",
       "    </tr>\n",
       "    <tr>\n",
       "      <th>continent</th>\n",
       "      <th></th>\n",
       "      <th></th>\n",
       "      <th></th>\n",
       "    </tr>\n",
       "  </thead>\n",
       "  <tbody>\n",
       "    <tr>\n",
       "      <th>Africa</th>\n",
       "      <td>9.347769</td>\n",
       "      <td>36.504450</td>\n",
       "      <td>24223</td>\n",
       "    </tr>\n",
       "    <tr>\n",
       "      <th>Asia</th>\n",
       "      <td>45.938336</td>\n",
       "      <td>204.005223</td>\n",
       "      <td>27423</td>\n",
       "    </tr>\n",
       "    <tr>\n",
       "      <th>Europe</th>\n",
       "      <td>57.795533</td>\n",
       "      <td>146.199253</td>\n",
       "      <td>26371</td>\n",
       "    </tr>\n",
       "    <tr>\n",
       "      <th>North America(continent)</th>\n",
       "      <td>117.674846</td>\n",
       "      <td>406.957770</td>\n",
       "      <td>10392</td>\n",
       "    </tr>\n",
       "    <tr>\n",
       "      <th>Oceania</th>\n",
       "      <td>2.073283</td>\n",
       "      <td>4.848733</td>\n",
       "      <td>1733</td>\n",
       "    </tr>\n",
       "    <tr>\n",
       "      <th>South America(continent)</th>\n",
       "      <td>155.452314</td>\n",
       "      <td>382.304438</td>\n",
       "      <td>7455</td>\n",
       "    </tr>\n",
       "  </tbody>\n",
       "</table>\n",
       "</div>"
      ],
      "text/plain": [
       "                             ddeaths                   \n",
       "                                mean         std   size\n",
       "continent                                              \n",
       "Africa                      9.347769   36.504450  24223\n",
       "Asia                       45.938336  204.005223  27423\n",
       "Europe                     57.795533  146.199253  26371\n",
       "North America(continent)  117.674846  406.957770  10392\n",
       "Oceania                     2.073283    4.848733   1733\n",
       "South America(continent)  155.452314  382.304438   7455"
      ]
     },
     "execution_count": 60,
     "metadata": {},
     "output_type": "execute_result"
    }
   ],
   "source": [
    "stats"
   ]
  },
  {
   "cell_type": "code",
   "execution_count": 61,
   "id": "c2d3830e",
   "metadata": {},
   "outputs": [
    {
     "data": {
      "image/png": "[encoded data removed]",
      "text/plain": [
       "<Figure size 432x288 with 1 Axes>"
      ]
     },
     "metadata": {
      "needs_background": "light"
     },
     "output_type": "display_data"
    }
   ],
   "source": [
    "# x-coordinates of left sides of bars\n",
    "left = [1, 2, 3, 4, 5,6]\n",
    "# heights of bars\n",
    "height = [17, 65, 75, 163, 7,181]\n",
    " \n",
    "# labels for bars\n",
    "tick_label = ['Africa', 'Asia', 'Europe', 'North America', 'Oceania','South America']\n",
    " \n",
    "# plotting a bar chart\n",
    "plt.bar(left,height, tick_label = tick_label,\n",
    "        width = 0.8, color = ['red', 'green'])\n",
    " \n",
    "\n",
    " \n",
    "# naming the x-axis\n",
    "plt.xlabel('continent')\n",
    "# naming the y-axis\n",
    "plt.ylabel('mean of deaths')\n",
    "# plot title\n",
    "plt.title('Average Deaths in continents')\n",
    " \n",
    "# function to show the plot\n",
    "plt.show()"
   ]
  },
  {
   "cell_type": "markdown",
   "id": "db519f5c",
   "metadata": {},
   "source": [
    "Oceania and Africa have the lowest death rates from the covid 19 pandemic.At the start of the pandemic, it was feared that poorer countries, particularly in Africa, could be devastated by the virus due to poor hygiene and lower quality healthcare systems in most communities. But paradoxically, it is possible these challenging living conditions may have actually helped impoverished countries to better cope with the coronavirus."
   ]
  },
  {
   "cell_type": "code",
   "execution_count": 62,
   "id": "105f2e59",
   "metadata": {},
   "outputs": [
    {
     "data": {
      "text/plain": [
       "Index(['date', 'iso3c', 'country', 'income', 'region', 'continent', 'dcases',\n",
       "       'ddeaths', 'population', 'weekdays', 'month', 'year', 'fatality rate'],\n",
       "      dtype='object')"
      ]
     },
     "execution_count": 62,
     "metadata": {},
     "output_type": "execute_result"
    }
   ],
   "source": [
    "dy.columns\n"
   ]
  },
  {
   "cell_type": "code",
   "execution_count": 63,
   "id": "300b70b4",
   "metadata": {},
   "outputs": [],
   "source": [
    "dy['totcases'] = dy.groupby(['iso3c'])['dcases'].cumsum()"
   ]
  },
  {
   "cell_type": "code",
   "execution_count": 64,
   "id": "a9af364e",
   "metadata": {},
   "outputs": [
    {
     "data": {
      "text/html": [
       "<div>\n",
       "<style scoped>\n",
       "    .dataframe tbody tr th:only-of-type {\n",
       "        vertical-align: middle;\n",
       "    }\n",
       "\n",
       "    .dataframe tbody tr th {\n",
       "        vertical-align: top;\n",
       "    }\n",
       "\n",
       "    .dataframe thead th {\n",
       "        text-align: right;\n",
       "    }\n",
       "</style>\n",
       "<table border=\"1\" class=\"dataframe\">\n",
       "  <thead>\n",
       "    <tr style=\"text-align: right;\">\n",
       "      <th></th>\n",
       "      <th>date</th>\n",
       "      <th>iso3c</th>\n",
       "      <th>country</th>\n",
       "      <th>income</th>\n",
       "      <th>region</th>\n",
       "      <th>continent</th>\n",
       "      <th>dcases</th>\n",
       "      <th>ddeaths</th>\n",
       "      <th>population</th>\n",
       "      <th>weekdays</th>\n",
       "      <th>month</th>\n",
       "      <th>year</th>\n",
       "      <th>fatality rate</th>\n",
       "      <th>totcases</th>\n",
       "    </tr>\n",
       "  </thead>\n",
       "  <tbody>\n",
       "    <tr>\n",
       "      <th>34049</th>\n",
       "      <td>2/14/2020</td>\n",
       "      <td>EGY</td>\n",
       "      <td>Egypt</td>\n",
       "      <td>Lower middle income</td>\n",
       "      <td>Middle East &amp; North Africa</td>\n",
       "      <td>Africa</td>\n",
       "      <td>1</td>\n",
       "      <td>0</td>\n",
       "      <td>100388073</td>\n",
       "      <td>Fri</td>\n",
       "      <td>Feb</td>\n",
       "      <td>2020</td>\n",
       "      <td>0.000000</td>\n",
       "      <td>1</td>\n",
       "    </tr>\n",
       "    <tr>\n",
       "      <th>34065</th>\n",
       "      <td>3/1/2020</td>\n",
       "      <td>EGY</td>\n",
       "      <td>Egypt</td>\n",
       "      <td>Lower middle income</td>\n",
       "      <td>Middle East &amp; North Africa</td>\n",
       "      <td>Africa</td>\n",
       "      <td>1</td>\n",
       "      <td>0</td>\n",
       "      <td>100388073</td>\n",
       "      <td>Sun</td>\n",
       "      <td>Mar</td>\n",
       "      <td>2020</td>\n",
       "      <td>0.000000</td>\n",
       "      <td>2</td>\n",
       "    </tr>\n",
       "    <tr>\n",
       "      <th>34069</th>\n",
       "      <td>3/5/2020</td>\n",
       "      <td>EGY</td>\n",
       "      <td>Egypt</td>\n",
       "      <td>Lower middle income</td>\n",
       "      <td>Middle East &amp; North Africa</td>\n",
       "      <td>Africa</td>\n",
       "      <td>1</td>\n",
       "      <td>0</td>\n",
       "      <td>100388073</td>\n",
       "      <td>Thu</td>\n",
       "      <td>Mar</td>\n",
       "      <td>2020</td>\n",
       "      <td>0.000000</td>\n",
       "      <td>3</td>\n",
       "    </tr>\n",
       "    <tr>\n",
       "      <th>34070</th>\n",
       "      <td>3/6/2020</td>\n",
       "      <td>EGY</td>\n",
       "      <td>Egypt</td>\n",
       "      <td>Lower middle income</td>\n",
       "      <td>Middle East &amp; North Africa</td>\n",
       "      <td>Africa</td>\n",
       "      <td>12</td>\n",
       "      <td>0</td>\n",
       "      <td>100388073</td>\n",
       "      <td>Fri</td>\n",
       "      <td>Mar</td>\n",
       "      <td>2020</td>\n",
       "      <td>0.000000</td>\n",
       "      <td>15</td>\n",
       "    </tr>\n",
       "    <tr>\n",
       "      <th>34072</th>\n",
       "      <td>3/8/2020</td>\n",
       "      <td>EGY</td>\n",
       "      <td>Egypt</td>\n",
       "      <td>Lower middle income</td>\n",
       "      <td>Middle East &amp; North Africa</td>\n",
       "      <td>Africa</td>\n",
       "      <td>34</td>\n",
       "      <td>1</td>\n",
       "      <td>100388073</td>\n",
       "      <td>Sun</td>\n",
       "      <td>Mar</td>\n",
       "      <td>2020</td>\n",
       "      <td>0.029412</td>\n",
       "      <td>49</td>\n",
       "    </tr>\n",
       "    <tr>\n",
       "      <th>34073</th>\n",
       "      <td>3/9/2020</td>\n",
       "      <td>EGY</td>\n",
       "      <td>Egypt</td>\n",
       "      <td>Lower middle income</td>\n",
       "      <td>Middle East &amp; North Africa</td>\n",
       "      <td>Africa</td>\n",
       "      <td>6</td>\n",
       "      <td>0</td>\n",
       "      <td>100388073</td>\n",
       "      <td>Mon</td>\n",
       "      <td>Mar</td>\n",
       "      <td>2020</td>\n",
       "      <td>0.000000</td>\n",
       "      <td>55</td>\n",
       "    </tr>\n",
       "  </tbody>\n",
       "</table>\n",
       "</div>"
      ],
      "text/plain": [
       "            date iso3c country               income  \\\n",
       "34049  2/14/2020   EGY   Egypt  Lower middle income   \n",
       "34065   3/1/2020   EGY   Egypt  Lower middle income   \n",
       "34069   3/5/2020   EGY   Egypt  Lower middle income   \n",
       "34070   3/6/2020   EGY   Egypt  Lower middle income   \n",
       "34072   3/8/2020   EGY   Egypt  Lower middle income   \n",
       "34073   3/9/2020   EGY   Egypt  Lower middle income   \n",
       "\n",
       "                           region continent  dcases  ddeaths  population  \\\n",
       "34049  Middle East & North Africa    Africa       1        0   100388073   \n",
       "34065  Middle East & North Africa    Africa       1        0   100388073   \n",
       "34069  Middle East & North Africa    Africa       1        0   100388073   \n",
       "34070  Middle East & North Africa    Africa      12        0   100388073   \n",
       "34072  Middle East & North Africa    Africa      34        1   100388073   \n",
       "34073  Middle East & North Africa    Africa       6        0   100388073   \n",
       "\n",
       "      weekdays month  year  fatality rate  totcases  \n",
       "34049      Fri   Feb  2020       0.000000         1  \n",
       "34065      Sun   Mar  2020       0.000000         2  \n",
       "34069      Thu   Mar  2020       0.000000         3  \n",
       "34070      Fri   Mar  2020       0.000000        15  \n",
       "34072      Sun   Mar  2020       0.029412        49  \n",
       "34073      Mon   Mar  2020       0.000000        55  "
      ]
     },
     "execution_count": 64,
     "metadata": {},
     "output_type": "execute_result"
    }
   ],
   "source": [
    "dy.loc[dy['iso3c']=='EGY'].head(6)"
   ]
  },
  {
   "cell_type": "code",
   "execution_count": 65,
   "id": "96f97155",
   "metadata": {},
   "outputs": [
    {
     "data": {
      "text/plain": [
       "34049        0\n",
       "34065        0\n",
       "34069        0\n",
       "34070        0\n",
       "34072        1\n",
       "         ...  \n",
       "34731    21637\n",
       "34732    21665\n",
       "34733    21693\n",
       "34734    21725\n",
       "34735    21750\n",
       "Name: totdeaths, Length: 664, dtype: int64"
      ]
     },
     "execution_count": 65,
     "metadata": {},
     "output_type": "execute_result"
    }
   ],
   "source": [
    "dy['totdeaths'] = dy.groupby(['iso3c'])['ddeaths'].cumsum()\n",
    "dy['totdeaths'].loc[dy['iso3c']=='EGY']"
   ]
  },
  {
   "cell_type": "code",
   "execution_count": 66,
   "id": "6890105d",
   "metadata": {},
   "outputs": [],
   "source": [
    "dy['cfr']=dy['totdeaths']/dy['totcases']\n"
   ]
  },
  {
   "cell_type": "code",
   "execution_count": 67,
   "id": "f03fdccd",
   "metadata": {},
   "outputs": [],
   "source": [
    "import matplotlib.pyplot as plt"
   ]
  },
  {
   "cell_type": "code",
   "execution_count": 68,
   "id": "3050158e",
   "metadata": {},
   "outputs": [],
   "source": [
    "dy_egy=dy.loc[dy['iso3c']=='EGY']"
   ]
  },
  {
   "cell_type": "code",
   "execution_count": 69,
   "id": "dcce5f1a",
   "metadata": {},
   "outputs": [
    {
     "ename": "ValueError",
     "evalue": "time data '2/14/2020' does not match format '%m-%d-%y' (match)",
     "output_type": "error",
     "traceback": [
      "\u001b[1;31m---------------------------------------------------------------------------\u001b[0m",
      "\u001b[1;31mTypeError\u001b[0m                                 Traceback (most recent call last)",
      "\u001b[1;32m~\\anaconda3\\lib\\site-packages\\pandas\\core\\tools\\datetimes.py\u001b[0m in \u001b[0;36m_to_datetime_with_format\u001b[1;34m(arg, orig_arg, name, tz, fmt, exact, errors, infer_datetime_format)\u001b[0m\n\u001b[0;32m    508\u001b[0m         \u001b[1;32mtry\u001b[0m\u001b[1;33m:\u001b[0m\u001b[1;33m\u001b[0m\u001b[1;33m\u001b[0m\u001b[0m\n\u001b[1;32m--> 509\u001b[1;33m             \u001b[0mvalues\u001b[0m\u001b[1;33m,\u001b[0m \u001b[0mtz\u001b[0m \u001b[1;33m=\u001b[0m \u001b[0mconversion\u001b[0m\u001b[1;33m.\u001b[0m\u001b[0mdatetime_to_datetime64\u001b[0m\u001b[1;33m(\u001b[0m\u001b[0marg\u001b[0m\u001b[1;33m)\u001b[0m\u001b[1;33m\u001b[0m\u001b[1;33m\u001b[0m\u001b[0m\n\u001b[0m\u001b[0;32m    510\u001b[0m             \u001b[0mdta\u001b[0m \u001b[1;33m=\u001b[0m \u001b[0mDatetimeArray\u001b[0m\u001b[1;33m(\u001b[0m\u001b[0mvalues\u001b[0m\u001b[1;33m,\u001b[0m \u001b[0mdtype\u001b[0m\u001b[1;33m=\u001b[0m\u001b[0mtz_to_dtype\u001b[0m\u001b[1;33m(\u001b[0m\u001b[0mtz\u001b[0m\u001b[1;33m)\u001b[0m\u001b[1;33m)\u001b[0m\u001b[1;33m\u001b[0m\u001b[1;33m\u001b[0m\u001b[0m\n",
      "\u001b[1;32m~\\anaconda3\\lib\\site-packages\\pandas\\_libs\\tslibs\\conversion.pyx\u001b[0m in \u001b[0;36mpandas._libs.tslibs.conversion.datetime_to_datetime64\u001b[1;34m()\u001b[0m\n",
      "\u001b[1;31mTypeError\u001b[0m: Unrecognized value type: <class 'str'>",
      "\nDuring handling of the above exception, another exception occurred:\n",
      "\u001b[1;31mValueError\u001b[0m                                Traceback (most recent call last)",
      "\u001b[1;32m~\\AppData\\Local\\Temp/ipykernel_27904/1184565397.py\u001b[0m in \u001b[0;36m<module>\u001b[1;34m\u001b[0m\n\u001b[1;32m----> 1\u001b[1;33m \u001b[0mdy_egy\u001b[0m\u001b[1;33m[\u001b[0m\u001b[1;34m'date'\u001b[0m\u001b[1;33m]\u001b[0m\u001b[1;33m=\u001b[0m\u001b[0mpd\u001b[0m\u001b[1;33m.\u001b[0m\u001b[0mto_datetime\u001b[0m\u001b[1;33m(\u001b[0m\u001b[0mdy_egy\u001b[0m\u001b[1;33m[\u001b[0m\u001b[1;34m'date'\u001b[0m\u001b[1;33m]\u001b[0m\u001b[1;33m,\u001b[0m\u001b[0mformat\u001b[0m\u001b[1;33m=\u001b[0m\u001b[1;34m'%m-%d-%y'\u001b[0m\u001b[1;33m)\u001b[0m\u001b[1;33m\u001b[0m\u001b[1;33m\u001b[0m\u001b[0m\n\u001b[0m",
      "\u001b[1;32m~\\anaconda3\\lib\\site-packages\\pandas\\core\\tools\\datetimes.py\u001b[0m in \u001b[0;36mto_datetime\u001b[1;34m(arg, errors, dayfirst, yearfirst, utc, format, exact, unit, infer_datetime_format, origin, cache)\u001b[0m\n\u001b[0;32m    885\u001b[0m             \u001b[0mresult\u001b[0m \u001b[1;33m=\u001b[0m \u001b[0marg\u001b[0m\u001b[1;33m.\u001b[0m\u001b[0mmap\u001b[0m\u001b[1;33m(\u001b[0m\u001b[0mcache_array\u001b[0m\u001b[1;33m)\u001b[0m\u001b[1;33m\u001b[0m\u001b[1;33m\u001b[0m\u001b[0m\n\u001b[0;32m    886\u001b[0m         \u001b[1;32melse\u001b[0m\u001b[1;33m:\u001b[0m\u001b[1;33m\u001b[0m\u001b[1;33m\u001b[0m\u001b[0m\n\u001b[1;32m--> 887\u001b[1;33m             \u001b[0mvalues\u001b[0m \u001b[1;33m=\u001b[0m \u001b[0mconvert_listlike\u001b[0m\u001b[1;33m(\u001b[0m\u001b[0marg\u001b[0m\u001b[1;33m.\u001b[0m\u001b[0m_values\u001b[0m\u001b[1;33m,\u001b[0m \u001b[0mformat\u001b[0m\u001b[1;33m)\u001b[0m\u001b[1;33m\u001b[0m\u001b[1;33m\u001b[0m\u001b[0m\n\u001b[0m\u001b[0;32m    888\u001b[0m             \u001b[0mresult\u001b[0m \u001b[1;33m=\u001b[0m \u001b[0marg\u001b[0m\u001b[1;33m.\u001b[0m\u001b[0m_constructor\u001b[0m\u001b[1;33m(\u001b[0m\u001b[0mvalues\u001b[0m\u001b[1;33m,\u001b[0m \u001b[0mindex\u001b[0m\u001b[1;33m=\u001b[0m\u001b[0marg\u001b[0m\u001b[1;33m.\u001b[0m\u001b[0mindex\u001b[0m\u001b[1;33m,\u001b[0m \u001b[0mname\u001b[0m\u001b[1;33m=\u001b[0m\u001b[0marg\u001b[0m\u001b[1;33m.\u001b[0m\u001b[0mname\u001b[0m\u001b[1;33m)\u001b[0m\u001b[1;33m\u001b[0m\u001b[1;33m\u001b[0m\u001b[0m\n\u001b[0;32m    889\u001b[0m     \u001b[1;32melif\u001b[0m \u001b[0misinstance\u001b[0m\u001b[1;33m(\u001b[0m\u001b[0marg\u001b[0m\u001b[1;33m,\u001b[0m \u001b[1;33m(\u001b[0m\u001b[0mABCDataFrame\u001b[0m\u001b[1;33m,\u001b[0m \u001b[0mabc\u001b[0m\u001b[1;33m.\u001b[0m\u001b[0mMutableMapping\u001b[0m\u001b[1;33m)\u001b[0m\u001b[1;33m)\u001b[0m\u001b[1;33m:\u001b[0m\u001b[1;33m\u001b[0m\u001b[1;33m\u001b[0m\u001b[0m\n",
      "\u001b[1;32m~\\anaconda3\\lib\\site-packages\\pandas\\core\\tools\\datetimes.py\u001b[0m in \u001b[0;36m_convert_listlike_datetimes\u001b[1;34m(arg, format, name, tz, unit, errors, infer_datetime_format, dayfirst, yearfirst, exact)\u001b[0m\n\u001b[0;32m    391\u001b[0m \u001b[1;33m\u001b[0m\u001b[0m\n\u001b[0;32m    392\u001b[0m     \u001b[1;32mif\u001b[0m \u001b[0mformat\u001b[0m \u001b[1;32mis\u001b[0m \u001b[1;32mnot\u001b[0m \u001b[1;32mNone\u001b[0m\u001b[1;33m:\u001b[0m\u001b[1;33m\u001b[0m\u001b[1;33m\u001b[0m\u001b[0m\n\u001b[1;32m--> 393\u001b[1;33m         res = _to_datetime_with_format(\n\u001b[0m\u001b[0;32m    394\u001b[0m             \u001b[0marg\u001b[0m\u001b[1;33m,\u001b[0m \u001b[0morig_arg\u001b[0m\u001b[1;33m,\u001b[0m \u001b[0mname\u001b[0m\u001b[1;33m,\u001b[0m \u001b[0mtz\u001b[0m\u001b[1;33m,\u001b[0m \u001b[0mformat\u001b[0m\u001b[1;33m,\u001b[0m \u001b[0mexact\u001b[0m\u001b[1;33m,\u001b[0m \u001b[0merrors\u001b[0m\u001b[1;33m,\u001b[0m \u001b[0minfer_datetime_format\u001b[0m\u001b[1;33m\u001b[0m\u001b[1;33m\u001b[0m\u001b[0m\n\u001b[0;32m    395\u001b[0m         )\n",
      "\u001b[1;32m~\\anaconda3\\lib\\site-packages\\pandas\\core\\tools\\datetimes.py\u001b[0m in \u001b[0;36m_to_datetime_with_format\u001b[1;34m(arg, orig_arg, name, tz, fmt, exact, errors, infer_datetime_format)\u001b[0m\n\u001b[0;32m    511\u001b[0m             \u001b[1;32mreturn\u001b[0m \u001b[0mDatetimeIndex\u001b[0m\u001b[1;33m.\u001b[0m\u001b[0m_simple_new\u001b[0m\u001b[1;33m(\u001b[0m\u001b[0mdta\u001b[0m\u001b[1;33m,\u001b[0m \u001b[0mname\u001b[0m\u001b[1;33m=\u001b[0m\u001b[0mname\u001b[0m\u001b[1;33m)\u001b[0m\u001b[1;33m\u001b[0m\u001b[1;33m\u001b[0m\u001b[0m\n\u001b[0;32m    512\u001b[0m         \u001b[1;32mexcept\u001b[0m \u001b[1;33m(\u001b[0m\u001b[0mValueError\u001b[0m\u001b[1;33m,\u001b[0m \u001b[0mTypeError\u001b[0m\u001b[1;33m)\u001b[0m\u001b[1;33m:\u001b[0m\u001b[1;33m\u001b[0m\u001b[1;33m\u001b[0m\u001b[0m\n\u001b[1;32m--> 513\u001b[1;33m             \u001b[1;32mraise\u001b[0m \u001b[0merr\u001b[0m\u001b[1;33m\u001b[0m\u001b[1;33m\u001b[0m\u001b[0m\n\u001b[0m\u001b[0;32m    514\u001b[0m \u001b[1;33m\u001b[0m\u001b[0m\n\u001b[0;32m    515\u001b[0m \u001b[1;33m\u001b[0m\u001b[0m\n",
      "\u001b[1;32m~\\anaconda3\\lib\\site-packages\\pandas\\core\\tools\\datetimes.py\u001b[0m in \u001b[0;36m_to_datetime_with_format\u001b[1;34m(arg, orig_arg, name, tz, fmt, exact, errors, infer_datetime_format)\u001b[0m\n\u001b[0;32m    498\u001b[0m \u001b[1;33m\u001b[0m\u001b[0m\n\u001b[0;32m    499\u001b[0m         \u001b[1;31m# fallback\u001b[0m\u001b[1;33m\u001b[0m\u001b[1;33m\u001b[0m\u001b[0m\n\u001b[1;32m--> 500\u001b[1;33m         res = _array_strptime_with_fallback(\n\u001b[0m\u001b[0;32m    501\u001b[0m             \u001b[0marg\u001b[0m\u001b[1;33m,\u001b[0m \u001b[0mname\u001b[0m\u001b[1;33m,\u001b[0m \u001b[0mtz\u001b[0m\u001b[1;33m,\u001b[0m \u001b[0mfmt\u001b[0m\u001b[1;33m,\u001b[0m \u001b[0mexact\u001b[0m\u001b[1;33m,\u001b[0m \u001b[0merrors\u001b[0m\u001b[1;33m,\u001b[0m \u001b[0minfer_datetime_format\u001b[0m\u001b[1;33m\u001b[0m\u001b[1;33m\u001b[0m\u001b[0m\n\u001b[0;32m    502\u001b[0m         )\n",
      "\u001b[1;32m~\\anaconda3\\lib\\site-packages\\pandas\\core\\tools\\datetimes.py\u001b[0m in \u001b[0;36m_array_strptime_with_fallback\u001b[1;34m(arg, name, tz, fmt, exact, errors, infer_datetime_format)\u001b[0m\n\u001b[0;32m    434\u001b[0m \u001b[1;33m\u001b[0m\u001b[0m\n\u001b[0;32m    435\u001b[0m     \u001b[1;32mtry\u001b[0m\u001b[1;33m:\u001b[0m\u001b[1;33m\u001b[0m\u001b[1;33m\u001b[0m\u001b[0m\n\u001b[1;32m--> 436\u001b[1;33m         \u001b[0mresult\u001b[0m\u001b[1;33m,\u001b[0m \u001b[0mtimezones\u001b[0m \u001b[1;33m=\u001b[0m \u001b[0marray_strptime\u001b[0m\u001b[1;33m(\u001b[0m\u001b[0marg\u001b[0m\u001b[1;33m,\u001b[0m \u001b[0mfmt\u001b[0m\u001b[1;33m,\u001b[0m \u001b[0mexact\u001b[0m\u001b[1;33m=\u001b[0m\u001b[0mexact\u001b[0m\u001b[1;33m,\u001b[0m \u001b[0merrors\u001b[0m\u001b[1;33m=\u001b[0m\u001b[0merrors\u001b[0m\u001b[1;33m)\u001b[0m\u001b[1;33m\u001b[0m\u001b[1;33m\u001b[0m\u001b[0m\n\u001b[0m\u001b[0;32m    437\u001b[0m         \u001b[1;32mif\u001b[0m \u001b[1;34m\"%Z\"\u001b[0m \u001b[1;32min\u001b[0m \u001b[0mfmt\u001b[0m \u001b[1;32mor\u001b[0m \u001b[1;34m\"%z\"\u001b[0m \u001b[1;32min\u001b[0m \u001b[0mfmt\u001b[0m\u001b[1;33m:\u001b[0m\u001b[1;33m\u001b[0m\u001b[1;33m\u001b[0m\u001b[0m\n\u001b[0;32m    438\u001b[0m             \u001b[1;32mreturn\u001b[0m \u001b[0m_return_parsed_timezone_results\u001b[0m\u001b[1;33m(\u001b[0m\u001b[0mresult\u001b[0m\u001b[1;33m,\u001b[0m \u001b[0mtimezones\u001b[0m\u001b[1;33m,\u001b[0m \u001b[0mtz\u001b[0m\u001b[1;33m,\u001b[0m \u001b[0mname\u001b[0m\u001b[1;33m)\u001b[0m\u001b[1;33m\u001b[0m\u001b[1;33m\u001b[0m\u001b[0m\n",
      "\u001b[1;32m~\\anaconda3\\lib\\site-packages\\pandas\\_libs\\tslibs\\strptime.pyx\u001b[0m in \u001b[0;36mpandas._libs.tslibs.strptime.array_strptime\u001b[1;34m()\u001b[0m\n",
      "\u001b[1;31mValueError\u001b[0m: time data '2/14/2020' does not match format '%m-%d-%y' (match)"
     ]
    }
   ],
   "source": [
    "dy_egy['date']=pd.to_datetime(dy_egy['date'],format='%m-%d-%y')"
   ]
  },
  {
   "cell_type": "code",
   "execution_count": null,
   "id": "7c3ae777",
   "metadata": {},
   "outputs": [],
   "source": [
    "plt.plot( 'date', 'cfr', data=dy_egy,  color='black', markersize=4,     linewidth=1)\n",
    "plt.xlabel(\"\")\n",
    "plt.ylabel(\"CFR\")\n",
    "plt.show()"
   ]
  },
  {
   "cell_type": "markdown",
   "id": "32060491",
   "metadata": {},
   "source": [
    "#### fatality rate in Egypt was low at first then it increased drastically until reaching peak then it decreased agains steeply and finally it oncreased and stayed at an average probability."
   ]
  },
  {
   "cell_type": "code",
   "execution_count": null,
   "id": "451bbe57",
   "metadata": {},
   "outputs": [],
   "source": []
  },
  {
   "cell_type": "code",
   "execution_count": null,
   "id": "75f763a4",
   "metadata": {},
   "outputs": [],
   "source": []
  },
  {
   "cell_type": "code",
   "execution_count": null,
   "id": "622972a0",
   "metadata": {},
   "outputs": [],
   "source": []
  }
 ],
 "metadata": {
  "kernelspec": {
   "display_name": "Python 3 (ipykernel)",
   "language": "python",
   "name": "python3"
  },
  "language_info": {
   "codemirror_mode": {
    "name": "ipython",
    "version": 3
   },
   "file_extension": ".py",
   "mimetype": "text/x-python",
   "name": "python",
   "nbconvert_exporter": "python",
   "pygments_lexer": "ipython3",
   "version": "3.9.7"
  }
 },
 "nbformat": 4,
 "nbformat_minor": 5
}
